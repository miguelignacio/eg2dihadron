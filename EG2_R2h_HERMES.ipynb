{
 "cells": [
  {
   "cell_type": "code",
   "execution_count": null,
   "metadata": {},
   "outputs": [],
   "source": [
    "import ROOT\n",
    "from ROOT import TFile\n",
    "import numpy as np\n",
    "import matplotlib as mpl\n",
    "import matplotlib.pyplot as plt\n",
    "import copy\n",
    "import pandas as pd \n",
    "import time\n",
    "\n",
    "import root_pandas as rpd\n",
    "from root_pandas import read_root\n",
    "\n",
    "mpl.rcParams['figure.figsize'] = 6.2,3.5\n",
    "mpl.rcParams['axes.labelsize'] = 17\n",
    "mpl.rcParams['lines.linewidth'] = 3\n",
    "mpl.rcParams['lines.markersize'] = 6\n",
    "mpl.rcParams['legend.fontsize']= 15"
   ]
  },
  {
   "cell_type": "code",
   "execution_count": null,
   "metadata": {},
   "outputs": [],
   "source": [
    "def getRatio(df_A,df_D,df_trigger_A,df_trigger_D, variable='z_asso',trig_cut = 'z>0.5', pair_cut='',minz=0.01,maxz=0.5,nbins=20):\n",
    "    #get number of pions with z>0.5\n",
    "    print 'Print Trigger Cut ' ,trig_cut\n",
    "    print 'Total Cut ', trig_cut + pair_cut\n",
    "    \n",
    "    norm_A = df_trigger_A.query(trig_cut).shape[0]\n",
    "    norm_D = df_trigger_D.query(trig_cut).shape[0]\n",
    "    print 'Number of triggers A', norm_A\n",
    "    print 'Number of triggers D', norm_D\n",
    "    \n",
    "    y_A, x_conditional = np.histogram(df_A.query(trig_cut+pair_cut)[variable],bins=np.logspace(np.log10(minz), np.log10(maxz),nbins))\n",
    "    y_D, x_conditional = np.histogram(df_D.query(trig_cut+pair_cut)[variable],bins=np.logspace(np.log10(minz), np.log10(maxz),nbins))\n",
    "    x_conditional = (x_conditional[1:] + x_conditional[:-1])/2.0\n",
    "    err_A = np.true_divide(np.sqrt(y_A),y_A)\n",
    "    err_D = np.true_divide(np.sqrt(y_D),y_D)\n",
    "    y_A = np.true_divide(y_A,norm_A)\n",
    "    y_D = np.true_divide(y_D,norm_D)\n",
    "    ratio_conditional = np.true_divide(y_A,y_D)\n",
    "    error_conditional = np.multiply(ratio_conditional, np.sqrt(np.power(err_A,2.0) + np.power(err_D,2.0)))\n",
    "    \n",
    "    return ratio_conditional,error_conditional,x_conditional"
   ]
  },
  {
   "cell_type": "code",
   "execution_count": null,
   "metadata": {},
   "outputs": [],
   "source": [
    "def applyCut(inputDataframe, cut, text=None):\n",
    "    nbeforecut = inputDataframe.shape[0]\n",
    "    if nbeforecut>0:\n",
    "        cutDataframe = inputDataframe.query(cut)\n",
    "        if text:\n",
    "            print text, cutDataframe.shape[0], ' (%2.2f '%(100.0*cutDataframe.shape[0]/nbeforecut), '%)'\n",
    "    return cutDataframe\n",
    "def applyCuts(fullDataframe,name='default',isMC=False): \n",
    "    dataframe = fullDataframe\n",
    "    print 'Entries before cut ', dataframe.shape[0]\n",
    "    dataframe.eval('inelasticity = Nu/27.6', inplace=True)\n",
    "    dataframe.eval('E = z*Nu', inplace=True)\n",
    "    dataframe.eval('P = sqrt(E*E-0.140*0.140)', inplace=True)\n",
    "    \n",
    "    dataframe = applyCut(dataframe, 'Q2>1.0', 'Q2>1.0 :')\n",
    "    dataframe = applyCut(dataframe, 'Nu>7.0', ' Nu > 7')\n",
    "    dataframe = applyCut(dataframe, 'z>0.5', 'z>0.5 :')\n",
    "    dataframe = applyCut(dataframe, 'P >1.4 ', 'P>1.4 ')\n",
    "    #dataframe = applyCut(dataframe, 'inelasticity<0.85','inelasticity < 0.85')\n",
    "    return dataframe\n",
    "\n",
    "def applyCutsPair(fullDataframe,name='default',isMC=False):\n",
    "    print 'Starting election on dipion variables'\n",
    "    if (isMC):\n",
    "        print 'This is MC'\n",
    "    else: \n",
    "        print 'This is Data'\n",
    "    \n",
    "    dataframe = fullDataframe\n",
    "    dataframe.eval('z_tot = z+z_asso', inplace=True)\n",
    "    dataframe.eval('E_asso = z_asso*Nu', inplace=True)\n",
    "    dataframe.eval('P_asso = sqrt(E_asso*E_asso-0.140*0.140)', inplace=True)\n",
    "    dataframe.eval('d = sqrt(pos_x*pos_x+pos_y*pos_y + pos_z*pos_z)', inplace=True)\n",
    "    dataframe.eval('d_asso = sqrt(pos_x_asso*pos_x_asso+pos_y_asso*pos_y_asso + pos_z_asso*pos_z_asso)', inplace=True)\n",
    "\n",
    "    dataframe.eval('dt= sqrt(pos_x*pos_x+pos_y*pos_y )', inplace=True)\n",
    "    dataframe.eval('dt_asso = sqrt(pos_x_asso*pos_x_asso+pos_y_asso*pos_y_asso)', inplace=True)  \n",
    "    \n",
    "    dataframe = applyCut(dataframe, 'Q2>1.0', 'Q2>1.0 :')\n",
    "    dataframe = applyCut(dataframe, 'Nu>7.0', ' Nu > 7')\n",
    "    dataframe = applyCut(dataframe, 'z>0.5', 'z>0.5 :')\n",
    "    dataframe = applyCut(dataframe, 'P >1.4 ', 'P>1.4 ')\n",
    "    dataframe = applyCut(dataframe, 'P_asso >1.4 ', 'P_asso>1.4 ')\n",
    "\n",
    "    #dataframe = applyCut(dataframe, 'pid*pid_asso<0', 'Opposite sign pairs')\n",
    "    \n",
    "    return dataframe\n",
    "\n",
    "def printPairBreakdown(dataframe):\n",
    "    allpairs = 1.0*dataframe.shape[0]\n",
    "    print 'All pairs ', allpairs\n",
    "    print 'Pairs with Leading pi+', np.true_divide(dataframe.query('pid==211').shape[0],allpairs)\n",
    "    print 'Pairs with Leading pi-', dataframe.query('pid==-211').shape[0]/allpairs\n",
    "    print 'Pairs with Sub-Leading pi+', dataframe.query('pid_asso==211').shape[0]/allpairs\n",
    "    print 'Pairs with Sub-Leading pi-', dataframe.query('pid_asso==-211').shape[0]/allpairs\n",
    "    print 'pi+ pi+ pairs',dataframe.query('pid==211 and pid_asso==211').shape[0]/allpairs\n",
    "    print 'pi- pi- pairs',dataframe.query('pid==-211 and pid_asso==-211').shape[0]/allpairs\n",
    "    print 'pi+ pi- pairs',dataframe.query('pid==211 and pid_asso==-211').shape[0]/allpairs\n",
    "    print 'pi- pi+ pairs',dataframe.query('pid==-211 and pid_asso==211').shape[0]/allpairs\n",
    "    print '//////////////////////////////////////////////////////'\n",
    "    return \n"
   ]
  },
  {
   "cell_type": "markdown",
   "metadata": {},
   "source": [
    "## Get data from Ntuples to dataframes"
   ]
  },
  {
   "cell_type": "code",
   "execution_count": null,
   "metadata": {},
   "outputs": [],
   "source": [
    "#this needs to be read in chunks otherwise it uses all memory. (from https://github.com/scikit-hep/root_pandas)\n",
    "def getdatainChunks(filename,treename):\n",
    "    dataframe =pd.DataFrame()\n",
    "    for df in read_root(filename, treename, chunksize=100000) :\n",
    "        #print df.shape[0]\n",
    "        dataframe = pd.concat([dataframe,df])\n",
    "    \n",
    "    print dataframe.shape[0]\n",
    "    return dataframe\n",
    "    "
   ]
  },
  {
   "cell_type": "markdown",
   "metadata": {},
   "source": [
    "## GiBUU "
   ]
  },
  {
   "cell_type": "code",
   "execution_count": null,
   "metadata": {},
   "outputs": [],
   "source": [
    "df = {}\n",
    "df_trigger = {}\n",
    "for target in ['D','Kr','Xe']:#,'Pb']:\n",
    "    #GiBUU\n",
    "    print target\n",
    "    print ' trigger'\n",
    "    df_trigger['GiBUU_%s_trigger'%target]= getdatainChunks('GiBUU_Pairs_HERMES_%s.root'%target, '%s_trigger'%target)\n",
    "    print ' pairs'\n",
    "    df['GiBUU_%s'%target]= getdatainChunks('GiBUU_Pairs_HERMES_%s.root'%target, target)\n",
    "print df.keys()\n",
    "\n",
    "\n",
    "\n",
    "#dataframees with pairs\n",
    "for key in df.keys():\n",
    "    isMC = False\n",
    "    if 'GiBUU' in key:\n",
    "        isMC=True\n",
    "    print key\n",
    "    \n",
    "    df[key] = applyCuts(df[key],isMC=isMC)\n",
    "    df[key] = applyCutsPair(df[key],isMC=isMC)\n",
    "    print ' '"
   ]
  },
  {
   "cell_type": "markdown",
   "metadata": {},
   "source": [
    "## Apply selection for pair ntuples"
   ]
  },
  {
   "cell_type": "code",
   "execution_count": null,
   "metadata": {},
   "outputs": [],
   "source": [
    "print df.keys()\n",
    "df['GiBUU_Kr'].hist(figsize=(15, 15),normed=True,alpha=0.5,bins=20)\n",
    "plt.show()"
   ]
  },
  {
   "cell_type": "markdown",
   "metadata": {},
   "source": [
    "## R_2h data from HERMES and Neutrino buble-chamber experiment"
   ]
  },
  {
   "cell_type": "code",
   "execution_count": null,
   "metadata": {},
   "outputs": [],
   "source": [
    "#hermes data:\n",
    "hermes_y = {}\n",
    "hermes_ystat = {}\n",
    "hermes_ysyst = {}\n",
    "hermes_ytotal = {}\n",
    "\n",
    "#DATA FROM SELECTIO1 OF http://www-hermes.desy.de/notes/pub/publications.html\n",
    "hermes_x = {}\n",
    "hermes_x['Kr'] = [0.09,0.15,0.24,0.35,0.44]\n",
    "hermes_x['N'] = np.subtract(hermes_x['Kr'],0.004)\n",
    "hermes_x['Xe'] = np.subtract(hermes_x['Kr'],-0.004)\n",
    "\n",
    "#nitrogen, atomic number 7\n",
    "hermes_y['N']     = [1.0324, 0.9781,0.9293,0.8678,0.8822]\n",
    "hermes_ystat['N'] = [0.0767,0.0268,0.0323,0.0478,0.0601]\n",
    "hermes_ysyst['N'] = [0.0206,0.0196,0.0186,0.0174,0.0176]\n",
    "hermes_ytotal['N'] = np.sqrt(np.power(hermes_ystat['N'],2.0)+np.power(hermes_ysyst['N'],2.0))\n",
    "\n",
    "#krypton, atomic number 36\n",
    "hermes_y['Kr'] = [1.2072,0.9180,0.8822,0.8631,1.0314]\n",
    "hermes_ystat['Kr'] = [0.1342,0.0366,0.0452,0.0661,0.0972]\n",
    "hermes_ysyst['Kr'] =[0.0241,0.0184,0.0176,0.0173,0.0206]\n",
    "hermes_ytotal['Kr'] = np.sqrt(np.power(hermes_ystat['Kr'],2.0)+np.power(hermes_ysyst['Kr'],2.0))\n",
    "\n",
    "hermes_y['Xe'] = [1.1648,0.9345,0.9242,0.8128,0.9373]\n",
    "hermes_ystat['Xe'] = [0.1205,0.0359,0.0433,0.0614,0.0808]\n",
    "hermes_ysyst['Xe'] = [0.0233,0.0187,0.0185,0.0163,0.0187]\n",
    "hermes_ytotal['Xe'] = np.sqrt(np.power(hermes_ystat['Xe'],2.0)+np.power(hermes_ysyst['Xe'],2.0))\n",
    "\n",
    "\n",
    "neutrino_x = [0.10763636363636367, 0.18618181818181817,0.25163636363636366,0.3345454545454546]\n",
    "neutrino_y = [1.4535664335664338, 1.0148378893833438,  1.0373426573426574, 0.8784361093452003]\n",
    "neutrino_yerror =[1.5794405594405596, 1.112739987285442, 1.1422377622377624,1.004310235219326]\n",
    "neutrino_yerror = np.subtract(neutrino_yerror,neutrino_y)\n",
    "\n",
    "fig = plt.figure(figsize=(8,6))\n",
    "\n",
    "\n",
    "\n",
    "plt.errorbar(hermes_x['N'], hermes_y['N'],yerr=hermes_ytotal['N'],label='Hermes, $^{14}N$',fmt='o')\n",
    "plt.errorbar(hermes_x['Kr'], hermes_y['Kr'],yerr=hermes_ytotal['Kr'],label='Hermes, $^{84}Kr$',fmt='o')\n",
    "plt.errorbar(hermes_x['Xe'], hermes_y['Xe'],yerr=hermes_ytotal['Xe'],label='Hermes, $^{131}Xe$',fmt='o')\n",
    "plt.errorbar(neutrino_x, neutrino_y,yerr=neutrino_yerror,label='SKAT, $A_{eff}=21$',fmt='o')\n",
    "plt.xlabel('$z_{2}$',fontsize=18)\n",
    "plt.ylabel('$R_{2h}$',fontsize=18)\n",
    "plt.axhline(y=1.0,color='black',linestyle='--',alpha=0.5)\n",
    "\n",
    "plt.tight_layout()\n",
    "plt.legend(frameon=False)\n",
    "plt.savefig('PreviousData.png')\n",
    "plt.show()"
   ]
  },
  {
   "cell_type": "code",
   "execution_count": null,
   "metadata": {},
   "outputs": [],
   "source": [
    "fig = plt.figure(figsize=(8,6))\n",
    "\n",
    "for target in ['Kr','Xe']:\n",
    "    r, err,x = getRatio(df['GiBUU_%s'%target],df['GiBUU_D'],df_trigger['GiBUU_%s_trigger'%target],df_trigger['GiBUU_D_trigger'])\n",
    "    plt.errorbar(x,r,yerr=err,label='GiBUU %s'%target,ms=8,lw=2)\n",
    "\n",
    "plt.xlabel('$z_{2}$',fontsize=18)\n",
    "plt.ylabel('$R_{2h}$',fontsize=18)\n",
    "\n",
    "plt.errorbar(hermes_x['N'], hermes_y['N'],yerr=hermes_ytotal['N'],fmt='o',mfc='white',label='HERMES, $^{14}_{7}N$',fillstyle=None,ms=8,capsize=5)\n",
    "plt.errorbar(hermes_x['Kr'], hermes_y['Kr'],yerr=hermes_ytotal['Kr'],fmt='o',mfc='white',label='HERMES, $^{84}_{36}Kr$',fillstyle=None,ms=8,capsize=5)\n",
    "plt.errorbar(hermes_x['Xe'], hermes_y['Xe'],yerr=hermes_ytotal['Xe'],fmt='o',mfc='white',label='HERMES, $^{131}_{54}Xe$',fillstyle=None,ms=8,capsize=5)\n",
    "plt.errorbar(neutrino_x, neutrino_y,yerr=neutrino_yerror,fmt='s',mfc='white',label='Neutrino, $A_{eff}=21$',fillstyle=None,ms=8,capsize=5)\n",
    "\n",
    "#plt.ylim([0.5,1.5])\n",
    "#plt.xlim([0.00,0.5])\n",
    "plt.axhline(y=1.0,color='black',linestyle='--')\n",
    "plt.legend(loc='best',frameon=False,fontsize=15,ncol=2)\n",
    "\n",
    "plt.tight_layout()\n",
    "plt.savefig('ComparisonWithHermes_Linear.png')\n",
    "#plt.xlim([0.05,0.5])\n",
    "\n",
    "#plt.xscale('log')\n",
    "#plt.savefig('ComparisonWithHermes_Log.png')\n",
    "\n",
    "plt.show()"
   ]
  },
  {
   "cell_type": "markdown",
   "metadata": {},
   "source": [
    "## Theory only"
   ]
  },
  {
   "cell_type": "code",
   "execution_count": null,
   "metadata": {},
   "outputs": [],
   "source": [
    "fig = plt.figure(figsize=(8,6))\n",
    "\n",
    "for target in ['Kr']:\n",
    "    r, err,x = getRatio(df['GiBUU_%s'%target],df['GiBUU_D'],df_trigger['GiBUU_%s_trigger'%target],df_trigger['GiBUU_D_trigger'])\n",
    "    plt.errorbar(x,r,yerr=err,label='GiBUU %s'%target,ms=8,lw=2)\n",
    "\n",
    "plt.xlabel('$z_{2}$',fontsize=18)\n",
    "plt.ylabel('$R_{2h}$',fontsize=18)\n",
    "\n",
    "plt.xlim([0.06,0.5])\n",
    "plt.ylim([0.0,2.0])\n",
    "\n",
    "plt.axhline(y=1.0,color='black',linestyle='--')\n",
    "plt.legend(loc='best',frameon=False,fontsize=15,ncol=1)\n",
    "\n",
    "\n",
    "#plt.xscale('log')\n",
    "\n",
    "plt.tight_layout()\n",
    "plt.savefig('TheoryOnly.png')"
   ]
  },
  {
   "cell_type": "code",
   "execution_count": null,
   "metadata": {},
   "outputs": [],
   "source": [
    "fig1 = plt.figure(1,figsize=(6,6))\n",
    "\n",
    "plt.hexbin(df_trigger['GiBUU_Kr_trigger']['pos_x'],df_trigger['GiBUU_Kr_trigger']['pos_y'],cmap='inferno')\n"
   ]
  },
  {
   "cell_type": "code",
   "execution_count": null,
   "metadata": {},
   "outputs": [],
   "source": [
    "df_cut = df['GiBUU_Kr'].query('z>0.5')\n",
    "plt.hexbin(df_cut['dt_asso'],df_cut['d_asso'],cmap='inferno')\n"
   ]
  },
  {
   "cell_type": "code",
   "execution_count": null,
   "metadata": {},
   "outputs": [],
   "source": [
    "df_cut = df['GiBUU_Kr'].query('z_asso>0.2')\n",
    "plt.hist(df_cut['dt_asso'],bins=100,alpha=0.2, normed=True)\n",
    "df_cut = df['GiBUU_Kr'].query('z_asso<0.2')\n",
    "plt.hist(df_cut['dt_asso'],bins=100,alpha=0.2, normed=True)\n",
    "plt.show()"
   ]
  }
 ],
 "metadata": {
  "kernelspec": {
   "display_name": "Python 3",
   "language": "python",
   "name": "python3"
  },
  "language_info": {
   "codemirror_mode": {
    "name": "ipython",
    "version": 3
   },
   "file_extension": ".py",
   "mimetype": "text/x-python",
   "name": "python",
   "nbconvert_exporter": "python",
   "pygments_lexer": "ipython3",
   "version": "3.7.8"
  }
 },
 "nbformat": 4,
 "nbformat_minor": 2
}

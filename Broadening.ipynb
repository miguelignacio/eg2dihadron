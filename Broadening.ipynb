{
 "cells": [
  {
   "cell_type": "code",
   "execution_count": null,
   "metadata": {},
   "outputs": [],
   "source": [
    "import ROOT\n",
    "from ROOT import TFile\n",
    "import numpy as np\n",
    "import matplotlib as mpl\n",
    "import matplotlib.pyplot as plt\n",
    "import copy\n",
    "import pandas as pd \n",
    "import time\n",
    "\n",
    "import seaborn as sns\n",
    "\n",
    "import root_pandas \n",
    "from root_pandas import read_root\n",
    "\n",
    "#\n",
    "mpl.rcParams.update({'font.size': 19})\n",
    "#mpl.rcParams.update({'legend.fontsize': 18})\n",
    "mpl.rcParams.update({'xtick.labelsize': 18}) \n",
    "mpl.rcParams.update({'ytick.labelsize': 18}) \n",
    "mpl.rcParams.update({'text.usetex' : False})\n",
    "mpl.rcParams.update({'axes.labelsize': 18}) \n",
    "mpl.rcParams.update({'legend.frameon': False}) "
   ]
  },
  {
   "cell_type": "code",
   "execution_count": null,
   "metadata": {},
   "outputs": [],
   "source": [
    "# Define default plot styles\n",
    "plot_style_0 = {\n",
    "    'histtype': 'step',\n",
    "    'color': 'black',\n",
    "    'linewidth': 2,\n",
    "    'linestyle': '--',\n",
    "    'density': True\n",
    "}\n",
    "\n",
    "plot_style_1 = {\n",
    "    'histtype': 'step',\n",
    "    'color': 'black',\n",
    "    'linewidth': 2,\n",
    "    'density': True\n",
    "}\n",
    "\n",
    "plot_style_2 = {'alpha': 0.5, 'density': True}\n",
    "\n",
    "plot_style_3 = {\n",
    "    'histtype': 'step',\n",
    "    'linewidth': 2,\n",
    "    'density': True,\n",
    "    'alpha':0.8\n",
    "}"
   ]
  },
  {
   "cell_type": "code",
   "execution_count": null,
   "metadata": {},
   "outputs": [],
   "source": [
    "def applyCut(inputDataframe, cut, text=None):\n",
    "    dataframe = inputDataframe\n",
    "    nbeforecut = dataframe.shape[0]\n",
    "    cutDataframe = dataframe.query(cut)\n",
    "    if text:\n",
    "        print (text, cutDataframe.shape[0], ' fraction kept: %2.1f'%(100.0*float(cutDataframe.shape[0])/nbeforecut))\n",
    "    return cutDataframe"
   ]
  },
  {
   "cell_type": "code",
   "execution_count": null,
   "metadata": {},
   "outputs": [],
   "source": [
    "def applyCuts(df,isMC=False):\n",
    "    temp = df\n",
    "    temp.eval('theta_lab = arccos(Pz/P)*180.0/3.14159',inplace=True)\n",
    "    #temp.eval('inelasticity = Nu/5.014', inplace=True)\n",
    "    temp.eval('E = sqrt(P*P+0.1396*0.1396)', inplace=True)\n",
    "    if(isMC):\n",
    "        print ('MC')\n",
    "    else:\n",
    "        print ('Data')\n",
    "        temp.eval('pass_reco=1',inplace=True)\n",
    "\n",
    "    #temp = applyCut(temp, 'pass_reco==0 | inelasticity<0.85','inelasticity < 0.85')\n",
    "    temp = applyCut(temp, 'pass_reco==0 | (theta_lab<120 and theta_lab>10)', '10<theta_lab<120')\n",
    "    temp = applyCut(temp, 'pass_reco==0 | (P>0.200)', 'P>0.200')\n",
    "    \n",
    "    if(not (isMC)):\n",
    "        temp = applyCut(temp, 'pass_reco==0 | abs(deltaZ)<3', 'abs(deltaZ)<3 [cm]')\n",
    "        #temp = applyCut(temp, 'pass_reco==0 | abs(YC)<1.4', 'abs(YC)<1.4 [cm]')\n",
    "\n",
    "    temp = applyCut(temp,'pass_reco==0 |(pid==211)| (pid==-211 & theta_lab>30)| (pid==-211 & theta_lab<30 & P>0.600)','(pid==211)| (pid==-211 & theta_lab>30)| (pid==-211 & theta_lab<30 & P>0.600)')\n",
    "    print('################\\n')\n",
    "    return temp"
   ]
  },
  {
   "cell_type": "code",
   "execution_count": null,
   "metadata": {},
   "outputs": [],
   "source": [
    "path = '/home/miguel/EG2_DATA/andres/'\n",
    "mc_hadron = {}\n",
    "mc_hadron['D'] = root_pandas.read_root(path+'D_weighted.root', \"ntuple_sim\")\n",
    "mc_hadron['Pb'] = root_pandas.read_root(path+'Pb_weighted.root', \"ntuple_sim\")\n"
   ]
  },
  {
   "cell_type": "markdown",
   "metadata": {},
   "source": [
    "## Select targets"
   ]
  },
  {
   "cell_type": "code",
   "execution_count": null,
   "metadata": {},
   "outputs": [],
   "source": [
    "mc_hadron['D'] = applyCut(mc_hadron['D'], 'pass_reco==0 | TargType==1','TargetType==1')\n",
    "mc_hadron['Pb'] = applyCut(mc_hadron['Pb'], 'pass_reco==0 | TargType==2','TargetType==2')\n"
   ]
  },
  {
   "cell_type": "markdown",
   "metadata": {},
   "source": [
    "## Apply cuts"
   ]
  },
  {
   "cell_type": "code",
   "execution_count": null,
   "metadata": {},
   "outputs": [],
   "source": [
    "mc_hadron['D'] = applyCuts(mc_hadron['D'],isMC=True)\n",
    "mc_hadron['Pb'] = applyCuts(mc_hadron['Pb'],isMC=True)"
   ]
  },
  {
   "cell_type": "code",
   "execution_count": null,
   "metadata": {},
   "outputs": [],
   "source": [
    "fig = plt.figure( figsize=(8, 6))\n",
    "\n",
    "#query = 'pass_reco==1'\n",
    "x_bins=np.logspace(np.log10(0.1), np.log10(1.0),10)\n",
    "#sns.regplot(x=mc_hadron.query(query)['z'],y=mc_hadron.query(query)['Pt2'],x_bins=x_bins,fit_reg=None)\n",
    "\n",
    "query = 'pass_truth==1 and mc_pid==211'\n",
    "sns.regplot(x=mc_hadron['D'].query(query)['mc_Zh'],y=mc_hadron['D'].query(query)['mc_Pt2'],label='D',x_bins=x_bins,fit_reg=None)\n",
    "sns.regplot(x=mc_hadron['Pb'].query(query)['mc_Zh'],y=mc_hadron['Pb'].query(query)['mc_Pt2'],x_bins=x_bins,fit_reg=None)\n",
    "\n",
    "   \n",
    "plt.ylim([0.0,1.3])\n",
    "plt.tight_layout()\n",
    "plt.savefig('Broadening.png')\n",
    "plt.legend()\n",
    "plt.show()"
   ]
  },
  {
   "cell_type": "code",
   "execution_count": null,
   "metadata": {},
   "outputs": [],
   "source": [
    "print(mc_hadron.keys())"
   ]
  },
  {
   "cell_type": "markdown",
   "metadata": {},
   "source": [
    "## Calculating broadening"
   ]
  },
  {
   "cell_type": "code",
   "execution_count": null,
   "metadata": {},
   "outputs": [],
   "source": [
    "Edges = np.linspace(0,1.0,10)\n",
    "bins = [(x, y) for (x, y) in zip(Edges[:-1], Edges[1:])]\n",
    "\n",
    "y = {}\n",
    "y['D'] = []\n",
    "y['Pb'] = []\n",
    "\n",
    "y_uncorr = {}\n",
    "y_uncorr['D'] = []\n",
    "y_uncorr['Pb'] = []\n",
    "\n",
    "y_unfolded = {}\n",
    "y_unfolded['D'] = []\n",
    "y_unfolded['Pb'] = []\n",
    "\n",
    "\n",
    "x = []\n",
    "\n",
    "## Calculate the D \n",
    "for j, ibin in enumerate(bins):\n",
    "    query = 'mc_z>%2.2f and mc_z<%2.2f and mc_pid==211 and pass_truth==1'%(ibin[0],ibin[1])\n",
    "    mean_pt2 = np.average(mc_hadron['D'].query(query)['mc_Pt2'], weights=mc_hadron['D'].query(query)['weight_truth'])\n",
    "    \n",
    "    query = 'z>%2.2f and z<%2.2f and pid==211 and pass_reco==1'%(ibin[0],ibin[1])\n",
    "    mean_pt2_uncorr = np.average(mc_hadron['D'].query(query)['Pt2'], weights=mc_hadron['D'].query(query)['weight_reco'])\n",
    "    \n",
    "    query = 'mc_z>%2.2f and mc_z<%2.2f and mc_pid==211 and pass_reco==1'%(ibin[0],ibin[1])\n",
    "    mean_pt2_unfolded = np.average(mc_hadron['D'].query(query)['mc_Pt2'], weights=mc_hadron['D'].query(query)['weight_reco'])\n",
    "\n",
    "    \n",
    "    \n",
    "    print(mean_pt2)\n",
    "    \n",
    "    x.append(0.5*(ibin[0]+ibin[1]))\n",
    "    \n",
    "    y['D'].append(mean_pt2)\n",
    "    y_uncorr['D'].append(mean_pt2_uncorr)\n",
    "    y_unfolded['D'].append(mean_pt2_unfolded)\n",
    "    \n",
    "print (y['D'])"
   ]
  },
  {
   "cell_type": "code",
   "execution_count": null,
   "metadata": {},
   "outputs": [],
   "source": [
    "fig = plt.figure(figsize=(8,6))\n",
    "plt.plot(x,y_uncorr['D'],'o-',label='D, raw')\n",
    "plt.plot(x,y_unfolded['D'],'o-',label='D, unfold.')\n",
    "plt.plot(x,y['D'],'o-',label = 'D, unfold. + acc.')\n",
    "\n",
    "plt.legend(loc='best',fontsize=18)\n",
    "plt.xlabel('z')\n",
    "plt.ylabel('$<p_{T}^{2}>$ [GeV$^{2}$]')"
   ]
  },
  {
   "cell_type": "code",
   "execution_count": null,
   "metadata": {},
   "outputs": [],
   "source": [
    "\n",
    "## Calculate the D \n",
    "for j, ibin in enumerate(bins):\n",
    "    query = 'mc_Zh>%2.2f and mc_Zh<%2.2f and mc_pid==211 and pass_truth==1'%(ibin[0],ibin[1])\n",
    "    mean_pt2 = np.average(mc_hadron['Pb'].query(query)['mc_Pt2'], weights=mc_hadron['Pb'].query(query)['weight_truth'])\n",
    "    query = 'Zh>%2.2f and Zh<%2.2f and pid==211 and pass_reco==1'%(ibin[0],ibin[1])\n",
    "    mean_pt2_uncorr = np.average(mc_hadron['Pb'].query(query)['Pt2'], weights=mc_hadron['Pb'].query(query)['weight_reco'])\n",
    "    print(mean_pt2)\n",
    "    \n",
    "    y['Pb'].append(mean_pt2)\n",
    "    y_uncorr['Pb'].append(mean_pt2_uncorr)\n",
    "    \n",
    "    \n",
    "print (y['Pb'])"
   ]
  },
  {
   "cell_type": "code",
   "execution_count": null,
   "metadata": {},
   "outputs": [],
   "source": [
    "fig = plt.figure(figsize=(8,6))\n",
    "plt.plot(x,y['D'],'o-',label = 'D, corrected')\n",
    "plt.plot(x,y_uncorr['D'],'o-',label='D, uncorrected')\n",
    "\n",
    "plt.plot(x,y['Pb'],'o-',label = 'Pb, corrected')\n",
    "plt.plot(x,y_uncorr['Pb'],'o-',label='Pb, uncorrected')\n",
    "\n",
    "plt.legend(loc='best')\n",
    "plt.xlabel('z')\n",
    "plt.ylabel('$<p_{T}^{2}>$ [GeV$^{2}$]')"
   ]
  },
  {
   "cell_type": "code",
   "execution_count": null,
   "metadata": {},
   "outputs": [],
   "source": [
    "plt.plot(x,np.subtract(y_uncorr['Pb'],y_uncorr['D']),'o-',label='Pb, uncorrected')\n"
   ]
  },
  {
   "cell_type": "code",
   "execution_count": null,
   "metadata": {},
   "outputs": [],
   "source": [
    "fig, axs = plt.subplots(1, 5, sharex=True, sharey=True,figsize=(20,4), gridspec_kw={'hspace': 0, 'wspace':0})\n",
    "\n",
    "\n",
    "Edges = np.linspace(0,0.6,6)\n",
    "bins = [(x, y) for (x, y) in zip(Edges[:-1], Edges[1:])]\n",
    "\n",
    "y = []\n",
    "y_uncorr = []\n",
    "x = []\n",
    "for j, ibin in enumerate(bins):\n",
    "    print (ibin)\n",
    "  \n",
    "    #query ='mc_z>%2.2f and mc_z<%2.2f and mc_pid==211 and pass_truth==1'%(ibin[0],ibin[1])\n",
    "    #axs[j].hist(mc_hadron['D'].query(query)['mc_PhiPQ'], weights=mc_hadron['D'].query(query)['weight_truth'],bins=10,range=(-180,180),label='Truth',alpha=0.5)\n",
    "    \n",
    "    \n",
    "    query = 'z>%2.2f and z<%2.2f and pid==211 and pass_reco==1'%(ibin[0],ibin[1])\n",
    "    axs[j].hist(mc_hadron['D'].query(query)['PhiPQ'], weights=mc_hadron['D'].query(query)['weight_reco'],bins=10,range=(-180,180),label='RECO',alpha=0.5)\n",
    "    \n",
    "    query = 'z>%2.2f and z<%2.2f and pid==211 and pass_reco==1'%(ibin[0],ibin[1])\n",
    "    axs[j].hist(mc_hadron['D'].query(query)['mc_PhiPQ'],weights=mc_hadron['D'].query(query)['weight_reco'],range=(-180,180),bins=10,label='C',alpha=0.5)\n",
    "\n",
    "\n",
    "    #plt.ylim([0.003,0.005])\n",
    "    \n",
    "plt.legend(loc='best')"
   ]
  },
  {
   "cell_type": "code",
   "execution_count": null,
   "metadata": {},
   "outputs": [],
   "source": [
    "fig, axs = plt.subplots(1, 5, sharex=True, sharey=True,figsize=(20,4), gridspec_kw={'hspace': 0, 'wspace':0})\n",
    "\n",
    "\n",
    "Edges = np.linspace(0,0.6,6)\n",
    "bins = [(x, y) for (x, y) in zip(Edges[:-1], Edges[1:])]\n",
    "\n",
    "y = []\n",
    "y_uncorr = []\n",
    "x = []\n",
    "for j, ibin in enumerate(bins):\n",
    "    print (ibin)\n",
    "  \n",
    "    query ='mc_z>%2.2f and mc_z<%2.2f and mc_pid==211 and pass_truth==1'%(ibin[0],ibin[1])\n",
    "    axs[j].hist(mc_hadron['D'].query(query)['mc_Pt2'], weights=mc_hadron['D'].query(query)['weight_truth'],bins=40,range=(0.0,2.0),label='Unfolded +acc.',alpha=0.5)\n",
    "    \n",
    "    query = 'z>%2.2f and z<%2.2f and pid==211 and pass_reco==1'%(ibin[0],ibin[1])\n",
    "    axs[j].hist(mc_hadron['D'].query(query)['Pt2'], weights=mc_hadron['D'].query(query)['weight_reco'],bins=40,range=(0.0,2.0), label='RAW',alpha=0.5)\n",
    "  \n",
    "    query = 'z>%2.2f and z<%2.2f and pid==211 and pass_reco==1'%(ibin[0],ibin[1])\n",
    "    axs[j].hist(mc_hadron['D'].query(query)['mc_Pt2'], weights=mc_hadron['D'].query(query)['weight_reco'],bins=40,range=(0.0,2.0), label='Unfolded',alpha=0.5)\n",
    "\n",
    "    #query ='mc_z>%2.2f and mc_z<%2.2f and mc_pid==211 and pass_truth==1'%(ibin[0],ibin[1])\n",
    "    #axs[j].hist(mc_hadron['D'].query(query)['mc_Pt2'],range=(0.0,2.0),**plot_style_2,bins=100)\n",
    "\n",
    "plt.legend(loc='best')\n",
    "plt.yscale('log')"
   ]
  },
  {
   "cell_type": "code",
   "execution_count": null,
   "metadata": {},
   "outputs": [],
   "source": [
    "fig, axs = plt.subplots(1, 5, sharex=True, sharey=True,figsize=(20,4), gridspec_kw={'hspace': 0, 'wspace':0})\n",
    "\n",
    "\n",
    "Edges = np.linspace(0,0.6,6)\n",
    "bins = [(x, y) for (x, y) in zip(Edges[:-1], Edges[1:])]\n",
    "\n",
    "y = []\n",
    "y_uncorr = []\n",
    "x = []\n",
    "for j, ibin in enumerate(bins):\n",
    "    print (ibin)\n",
    "    query = 'mc_z>%2.2f and mc_z<%2.2f and mc_pid==211 and pass_truth==1'%(ibin[0],ibin[1])\n",
    "    axs[j].hist(mc_hadron.query(query)['mc_PhiPQ'], weights=mc_hadron.query(query)['weight_truth'],range=(-120,120),**plot_style_1)\n",
    "    query = 'z>%2.2f and z<%2.2f and pid==211 and pass_reco==1'%(ibin[0],ibin[1])\n",
    "    axs[j].hist(mc_hadron.query(query)['PhiPQ'], weights=mc_hadron.query(query)['weight_reco'],range=(-120,120),**plot_style_2)\n"
   ]
  },
  {
   "cell_type": "code",
   "execution_count": null,
   "metadata": {},
   "outputs": [],
   "source": [
    "kinematic = 'mc_Pt2>0.4 and mc_Pt2<0.6'\n",
    "kinematic += ' and mc_Q2>1.8 and mc_Q2<2.2'\n",
    "kinematic += ' and mc_Xb>0.2 and mc_Xb<0.3'\n",
    "query = kinematic + ' and ' + 'mc_z>%2.2f and mc_z<%2.2f and mc_pid==211 and pass_truth==1'%(0.16,0.20)\n",
    "plt.hist(mc_hadron.query(query)['mc_PhiPQ'], weights=mc_hadron.query(query)['weight_truth'],range=(-180,180),**plot_style_1)\n",
    "  "
   ]
  }
 ],
 "metadata": {
  "kernelspec": {
   "display_name": "Python 3",
   "language": "python",
   "name": "python3"
  },
  "language_info": {
   "codemirror_mode": {
    "name": "ipython",
    "version": 3
   },
   "file_extension": ".py",
   "mimetype": "text/x-python",
   "name": "python",
   "nbconvert_exporter": "python",
   "pygments_lexer": "ipython3",
   "version": "3.7.8"
  }
 },
 "nbformat": 4,
 "nbformat_minor": 4
}

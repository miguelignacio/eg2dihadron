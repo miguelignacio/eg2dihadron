{
 "cells": [
  {
   "cell_type": "code",
   "execution_count": null,
   "metadata": {},
   "outputs": [],
   "source": [
    "import time\n",
    "import ROOT\n",
    "import numpy as np\n",
    "import pandas as pd\n",
    "import root_pandas\n",
    "import matplotlib.pyplot as plt\n",
    "import matplotlib.ticker as mticker\n",
    "from matplotlib.colors import LogNorm\n",
    "from root_pandas import read_root\n",
    "from matplotlib import rc\n",
    "from numpy import inf\n",
    "\n",
    "from ROOT import TLatex\n",
    "\n",
    "rc('text', usetex=True)\n",
    "\n",
    "import matplotlib as mpl\n",
    "rc('font', family='serif')\n",
    "rc('text', usetex=True)\n",
    "rc('font', size=22)\n",
    "rc('xtick', labelsize=15)\n",
    "rc('ytick', labelsize=15)\n",
    "rc('legend', fontsize=15)\n",
    "\n",
    "#\n",
    "mpl.rcParams.update({'font.size': 19})\n",
    "#mpl.rcParams.update({'legend.fontsize': 18})\n",
    "mpl.rcParams.update({'xtick.labelsize': 18}) \n",
    "mpl.rcParams.update({'ytick.labelsize': 18}) \n",
    "mpl.rcParams.update({'text.usetex' : False})\n",
    "mpl.rcParams.update({'axes.labelsize': 18}) \n",
    "mpl.rcParams.update({'legend.frameon': False}) "
   ]
  },
  {
   "cell_type": "code",
   "execution_count": null,
   "metadata": {},
   "outputs": [],
   "source": [
    "# Define default plot styles\n",
    "plot_style_0 = {\n",
    "    'histtype': 'step',\n",
    "    'color': 'black',\n",
    "    'linewidth': 2,\n",
    "    'linestyle': '--',\n",
    "    'density': True\n",
    "}\n",
    "\n",
    "plot_style_1 = {\n",
    "    'histtype': 'step',\n",
    "    'color': 'black',\n",
    "    'linewidth': 2,\n",
    "    'density': True\n",
    "}\n",
    "\n",
    "plot_style_2 = {'alpha': 0.5, 'density': True}\n",
    "\n",
    "plot_style_3 = {\n",
    "    'histtype': 'step',\n",
    "    'linewidth': 2,\n",
    "    'density': True,\n",
    "    'alpha':0.8\n",
    "}"
   ]
  },
  {
   "cell_type": "code",
   "execution_count": null,
   "metadata": {},
   "outputs": [],
   "source": [
    "def applyCut(inputDataframe, cut, text=None):\n",
    "    dataframe = inputDataframe\n",
    "    nbeforecut = dataframe.shape[0]\n",
    "    cutDataframe = dataframe.query(cut)\n",
    "    if text:\n",
    "        print (text, cutDataframe.shape[0], ' fraction kept: %2.1f'%(100.0*float(cutDataframe.shape[0])/nbeforecut))\n",
    "    return cutDataframe"
   ]
  },
  {
   "cell_type": "code",
   "execution_count": null,
   "metadata": {},
   "outputs": [],
   "source": [
    "def applyCuts(df,isMC=False):\n",
    "    temp = df\n",
    "    temp.eval('theta_lab = arccos(Pz/P)*180.0/3.14159',inplace=True)\n",
    "    temp.eval('inelasticity = Nu/5.014', inplace=True)\n",
    "    temp.eval('E = sqrt(P*P+0.1396*0.1396)', inplace=True)\n",
    "    if(isMC):\n",
    "        print ('MC')\n",
    "    else:\n",
    "        print ('Data')\n",
    "        temp.eval('pass_reco=1',inplace=True)\n",
    "\n",
    "    temp = applyCut(temp, 'TargType==1','TargetType==1')\n",
    "    temp = applyCut(temp, 'pass_reco==0 | inelasticity<0.85','inelasticity < 0.85')\n",
    "    temp = applyCut(temp, 'pass_reco==0 | (theta_lab<120 and theta_lab>10)', '10<theta_lab<120')\n",
    "    temp = applyCut(temp, 'pass_reco==0 | (P>0.200)', 'P>0.200')\n",
    "    temp = applyCut(temp, 'pass_reco==0 | abs(deltaZ)<3', 'abs(deltaZ)<3 [cm]')\n",
    "\n",
    "    temp = applyCut(temp,'pass_reco==0 |(PID==211)| (PID==-211 & theta_lab>30)| (PID==-211 & theta_lab<30 & P>0.600)','(PID==211)| (PID==-211 & theta_lab>30)| (PID==-211 & theta_lab<30 & P>0.600)')\n",
    "    print('################\\n')\n",
    "    return temp"
   ]
  },
  {
   "cell_type": "code",
   "execution_count": null,
   "metadata": {},
   "outputs": [],
   "source": [
    "path = '/home/miguel/EG2_DATA/sebastian/'\n",
    "data_hadron = root_pandas.read_root(path+'C.root', \"ntuple_data\")"
   ]
  },
  {
   "cell_type": "markdown",
   "metadata": {},
   "source": [
    "## obtain MC"
   ]
  },
  {
   "cell_type": "code",
   "execution_count": null,
   "metadata": {},
   "outputs": [],
   "source": [
    "path = '/home/miguel/EG2_DATA/andres/'\n",
    "mc_hadron = root_pandas.read_root(path+'D_weighted.root', \"ntuple_sim\")"
   ]
  },
  {
   "cell_type": "code",
   "execution_count": null,
   "metadata": {},
   "outputs": [],
   "source": [
    "data_hadron['z'] = data_hadron['Zh']\n"
   ]
  },
  {
   "cell_type": "markdown",
   "metadata": {},
   "source": [
    "## Apply cuts"
   ]
  },
  {
   "cell_type": "code",
   "execution_count": null,
   "metadata": {},
   "outputs": [],
   "source": [
    "data= applyCuts(data_hadron, isMC=False)\n",
    "mc= applyCuts(mc_hadron, isMC=True)"
   ]
  },
  {
   "cell_type": "markdown",
   "metadata": {},
   "source": [
    "## Delta-z"
   ]
  },
  {
   "cell_type": "code",
   "execution_count": null,
   "metadata": {},
   "outputs": [],
   "source": [
    "plt.figure(figsize=(8,6))\n",
    "plt.hist(data_hadron.query('PID==211')['deltaZ'],bins=40,range=(-10,10), **plot_style_3,label='$\\pi^{+}$')\n",
    "plt.hist(data_hadron.query('PID==-211')['deltaZ'],bins=40,range=(-10,10), **plot_style_3,label='$\\pi^{-}$')\n",
    "plt.ylabel('Normalized entries')\n",
    "plt.xlabel('$\\Delta$ Z [cm]')\n",
    "plt.legend(loc='best',frameon=False)\n",
    "plt.axvline(x=3.0,ls='--',color='black')\n",
    "plt.axvline(x=-3.0,ls='--',color='black')\n",
    "\n",
    "#plt.yscale('log')\n",
    "plt.tight_layout()\n",
    "plt.savefig('DeltaZ_distribution.pdf')\n",
    "plt.show()"
   ]
  },
  {
   "cell_type": "code",
   "execution_count": null,
   "metadata": {},
   "outputs": [],
   "source": [
    "plt.hist(data.query('PID==211')['deltaZ'],bins=100,alpha=0.3,range=(-5,5))\n",
    "plt.hist(data.query('PID==-211')['deltaZ'],bins=100,alpha=0.3,range=(-5,5))\n",
    "\n",
    "plt.show()"
   ]
  },
  {
   "cell_type": "markdown",
   "metadata": {},
   "source": [
    "## pT vs z "
   ]
  },
  {
   "cell_type": "code",
   "execution_count": null,
   "metadata": {},
   "outputs": [],
   "source": [
    "fig, axs = plt.subplots(1, 5, sharey=True, sharex=True, figsize=(20,4), gridspec_kw={'hspace': 0, 'wspace':0})\n",
    "\n",
    "\n",
    "Edges = [0.0,0.2,0.4,0.6,0.8,1.0]\n",
    "bins = [(x, y) for (x, y) in zip(Edges[:-1], Edges[1:])]\n",
    "\n",
    "for j, ibin in enumerate(bins):\n",
    "    binning = np.linspace(-180, 180, 25)\n",
    "\n",
    "    query = 'z>%2.2f and z<%2.2f and PID==211'%(ibin[0],ibin[1])\n",
    "    axs[j].hist(mc.query(query)['PhiPQ'],density=True,bins=binning,alpha=0.5,label='mc')\n",
    "    axs[j].hist(mc.query(query)['PhiPQ'],bins=binning,weights = mc.query(query)['weight_reco'],**plot_style_1,label='mc weighted')\n",
    "    axs[j].hist(data.query(query)['PhiPQ'],density=True,bins=binning,alpha=0.5,label='data')\n",
    "\n",
    "    axs[j].set_title('%2.2f<z<%2.2f'%(ibin[0],ibin[1]),fontsize=20)\n",
    "    axs[j].set_xlabel(r'$\\phi_{PQ}$',fontsize=25)\n",
    "\n",
    "#axs[j].set_yscale('log')\n",
    "\n",
    "    print(query)\n",
    "axs[0].legend(frameon=False,loc='best')\n"
   ]
  },
  {
   "cell_type": "code",
   "execution_count": null,
   "metadata": {},
   "outputs": [],
   "source": [
    "fig, axs = plt.subplots(1, 5, sharey=True, sharex=True, figsize=(24,4), gridspec_kw={'hspace': 0, 'wspace':0})\n",
    "\n",
    "\n",
    "Edges = [0.0,0.2,0.4,0.6,0.8,1.0]\n",
    "bins = [(x, y) for (x, y) in zip(Edges[:-1], Edges[1:])]\n",
    "\n",
    "for j, ibin in enumerate(bins):\n",
    "    binning = np.linspace(0, 2.0, 20)\n",
    "\n",
    "    query = 'z>%2.2f and z<%2.2f and PID==211'%(ibin[0],ibin[1])\n",
    "    axs[j].hist(mc.query(query)['Pt2'],density=True,bins=binning,alpha=0.5,label='mc')\n",
    "    axs[j].hist(mc.query(query)['Pt2'],bins=binning,weights = mc.query(query)['weight_reco'],**plot_style_1,label='mc weighted')\n",
    "    axs[j].hist(data.query(query)['Pt2'],density=True,bins=binning,alpha=0.5,label='data')\n",
    "\n",
    "    axs[j].set_title('%2.2f<z<%2.2f'%(ibin[0],ibin[1]),fontsize=20)\n",
    "    axs[j].set_xlabel(r'$P_{T}^{2}$',fontsize=25)\n",
    "\n",
    "\n",
    "    print(query)\n",
    "axs[0].legend(frameon=False,loc='best')\n",
    "axs[0].set_yscale('log')\n"
   ]
  },
  {
   "cell_type": "code",
   "execution_count": null,
   "metadata": {},
   "outputs": [],
   "source": [
    "fig, axs = plt.subplots(1, 5, sharex=True,figsize=(24,4))\n",
    "\n",
    "\n",
    "Edges = [0.0,0.2,0.4,0.6,0.8,1.0]\n",
    "bins = [(x, y) for (x, y) in zip(Edges[:-1], Edges[1:])]\n",
    "\n",
    "for j, ibin in enumerate(bins):\n",
    "    binning = np.linspace(-1.8, 1.8, 25)\n",
    "\n",
    "    query = 'z>%2.2f and z<%2.2f and PID==211'%(ibin[0],ibin[1])\n",
    "    axs[j].hist(mc.query(query)['Px'],density=True,bins=binning,alpha=0.5,label='mc')\n",
    "    axs[j].hist(mc.query(query)['Px'],bins=binning,weights = mc.query(query)['weight_reco'],**plot_style_1,label='mc w.')\n",
    "    axs[j].hist(data.query(query)['Px'],density=True,bins=binning,alpha=0.5,label='data')\n",
    "\n",
    "    axs[j].set_title('%2.2f<z<%2.2f'%(ibin[0],ibin[1]),fontsize=20)\n",
    "    axs[j].set_xlabel(r'$P_{x}$',fontsize=25)\n",
    "\n",
    "\n",
    "    print(query)\n",
    "axs[0].legend(frameon=False,loc='best')\n",
    "#axs[0].set_yscale('log')\n"
   ]
  },
  {
   "cell_type": "code",
   "execution_count": null,
   "metadata": {},
   "outputs": [],
   "source": [
    "fig, axs = plt.subplots(1, 5, sharex=True, figsize=(24,4))\n",
    "\n",
    "\n",
    "Edges = [0.0,0.2,0.4,0.6,0.8,1.0]\n",
    "bins = [(x, y) for (x, y) in zip(Edges[:-1], Edges[1:])]\n",
    "\n",
    "for j, ibin in enumerate(bins):\n",
    "    binning = np.linspace(-1.5, 1.5, 25)\n",
    "\n",
    "    query = 'z>%2.2f and z<%2.2f and PID==211'%(ibin[0],ibin[1])\n",
    "    axs[j].hist(mc.query(query)['Py'],density=True,bins=binning,alpha=0.5,label='mc')\n",
    "    axs[j].hist(mc.query(query)['Py'],bins=binning,weights = mc.query(query)['weight_reco'],**plot_style_1,label='mc w')\n",
    "    axs[j].hist(data.query(query)['Py'],density=True,bins=binning,alpha=0.5,label='data')\n",
    "\n",
    "    axs[j].set_title('%2.2f<z<%2.2f'%(ibin[0],ibin[1]),fontsize=20)\n",
    "    axs[j].set_xlabel(r'$P_{y}$',fontsize=25)\n",
    "\n",
    "\n",
    "    print(query)\n",
    "axs[0].legend(frameon=False,loc='best')\n",
    "#axs[0].set_yscale('log')\n"
   ]
  },
  {
   "cell_type": "code",
   "execution_count": null,
   "metadata": {},
   "outputs": [],
   "source": [
    "fig, axs = plt.subplots(1, 5, sharex=True, figsize=(24,4))\n",
    "\n",
    "\n",
    "Edges = [0.0,0.2,0.4,0.6,0.8,1.0]\n",
    "bins = [(x, y) for (x, y) in zip(Edges[:-1], Edges[1:])]\n",
    "\n",
    "for j, ibin in enumerate(bins):\n",
    "    binning = np.linspace(0.0, 4.5, 20)\n",
    "\n",
    "    query = 'z>%2.2f and z<%2.2f and PID==211'%(ibin[0],ibin[1])\n",
    "    axs[j].hist(mc.query(query)['P'],density=True,bins=binning,alpha=0.5,label='mc')\n",
    "    axs[j].hist(mc.query(query)['P'],bins=binning,weights = mc.query(query)['weight_reco'],**plot_style_1,label='mc w')\n",
    "    axs[j].hist(data.query(query)['P'],density=True,bins=binning,alpha=0.5,label='data')\n",
    "\n",
    "    axs[j].set_title('%2.2f<z<%2.2f'%(ibin[0],ibin[1]),fontsize=20)\n",
    "    axs[j].set_xlabel(r'$P$',fontsize=25)\n",
    "\n",
    "\n",
    "    print(query)\n",
    "axs[0].legend(frameon=False,loc='best')\n",
    "#axs[0].set_yscale('log')\n"
   ]
  },
  {
   "cell_type": "code",
   "execution_count": null,
   "metadata": {},
   "outputs": [],
   "source": [
    "fig, axs = plt.subplots(1, 5, sharex=True, sharey=True, figsize=(24,4))\n",
    "\n",
    "\n",
    "Edges = [0.0,0.2,0.4,0.6,0.8,1.0]\n",
    "bins = [(x, y) for (x, y) in zip(Edges[:-1], Edges[1:])]\n",
    "\n",
    "for j, ibin in enumerate(bins):\n",
    "    binning = np.linspace(-3.0,3.0 , 40)\n",
    "\n",
    "    query = 'z>%2.2f and z<%2.2f and PID==211'%(ibin[0],ibin[1])\n",
    "    axs[j].hist(mc.query(query)['deltaZ'],density=True,bins=binning,alpha=0.5,label='mc')\n",
    "    axs[j].hist(mc.query(query)['deltaZ'],bins=binning,weights = mc.query(query)['weight_reco'],**plot_style_1,label='mc w')\n",
    "    axs[j].hist(data.query(query)['deltaZ'],density=True,bins=binning,alpha=0.5,label='data')\n",
    "\n",
    "    axs[j].set_title('%2.2f<z<%2.2f'%(ibin[0],ibin[1]),fontsize=25)\n",
    "    axs[j].set_xlabel(r'$\\Delta$ z',fontsize=25)\n",
    "\n",
    "\n",
    "    print(query)\n",
    "axs[0].legend(frameon=False,loc='best')\n",
    "#axs[0].set_yscale('log')\n",
    "\n"
   ]
  },
  {
   "cell_type": "code",
   "execution_count": null,
   "metadata": {},
   "outputs": [],
   "source": [
    "fig, axs = plt.subplots(1, 5, sharex=True, sharey=True, figsize=(24,4),gridspec_kw={'hspace': 0, 'wspace':0})\n",
    "\n",
    "\n",
    "Edges = [0.0,0.2,0.4,0.6,0.8,1.0]\n",
    "bins = [(x, y) for (x, y) in zip(Edges[:-1], Edges[1:])]\n",
    "\n",
    "for j, ibin in enumerate(bins):\n",
    "    binning = np.linspace(1.0,4.0 , 40)\n",
    "\n",
    "    query = 'z>%2.2f and z<%2.2f and PID==211'%(ibin[0],ibin[1])\n",
    "    axs[j].hist(mc.query(query)['Q2'],density=True,bins=binning,alpha=0.5,label='mc')\n",
    "    axs[j].hist(mc.query(query)['Q2'],bins=binning,weights = mc.query(query)['weight_reco'],**plot_style_1,label='mc w')\n",
    "    axs[j].hist(data.query(query)['Q2'],density=True,bins=binning,alpha=0.5,label='data')\n",
    "\n",
    "    axs[j].set_title('%2.2f<z<%2.2f'%(ibin[0],ibin[1]),fontsize=20)\n",
    "    axs[j].set_xlabel(r'$Q^{2}$',fontsize=25)\n",
    "\n",
    "\n",
    "    print(query)\n",
    "axs[0].legend(frameon=False,loc='best')\n",
    "#axs[0].set_yscale('log')\n"
   ]
  },
  {
   "cell_type": "code",
   "execution_count": null,
   "metadata": {},
   "outputs": [],
   "source": [
    "fig, axs = plt.subplots(1, 5, sharex=True, sharey=True, figsize=(24,4),gridspec_kw={'hspace': 0, 'wspace':0})\n",
    "\n",
    "\n",
    "Edges = [0.0,0.2,0.4,0.6,0.8,1.0]\n",
    "bins = [(x, y) for (x, y) in zip(Edges[:-1], Edges[1:])]\n",
    "\n",
    "for j, ibin in enumerate(bins):\n",
    "    binning = np.linspace(2.0,4.5 , 20)\n",
    "\n",
    "    query = 'z>%2.2f and z<%2.2f and PID==211'%(ibin[0],ibin[1])\n",
    "    axs[j].hist(mc.query(query)['Nu'],density=True,bins=binning,alpha=0.5,label='mc')\n",
    "    axs[j].hist(mc.query(query)['Nu'],bins=binning,weights = mc.query(query)['weight_reco'],**plot_style_1,label='mc w')\n",
    "    axs[j].hist(data.query(query)['Nu'],density=True,bins=binning,alpha=0.5,label='data')\n",
    "\n",
    "    axs[j].set_title('%2.2f<z<%2.2f'%(ibin[0],ibin[1]),fontsize=20)\n",
    "    axs[j].set_xlabel(r'$\\nu$',fontsize=22)\n",
    "\n",
    "\n",
    "    print(query)\n",
    "axs[0].legend(frameon=False,loc='best')\n",
    "#axs[0].set_yscale('log')\n"
   ]
  },
  {
   "cell_type": "markdown",
   "metadata": {},
   "source": [
    "## pi-"
   ]
  },
  {
   "cell_type": "code",
   "execution_count": null,
   "metadata": {},
   "outputs": [],
   "source": [
    "fig, axs = plt.subplots(1, 2, sharey=True, figsize=(12,6),gridspec_kw={'hspace': 0, 'wspace':0})\n",
    "\n",
    "binning = np.linspace(0.0, 1.0, 50)\n",
    "query = 'PID==211'\n",
    "axs[0].hist(mc.query(query)['z'],density=True,bins=binning,alpha=0.5,label='mc')\n",
    "axs[0].hist(mc.query(query)['z'],bins=binning,weights = mc.query(query)['weight_reco'],**plot_style_1,label='mc w')\n",
    "axs[0].hist(data.query(query)['z'],density=True,bins=binning,alpha=0.5,label='data')\n",
    "#axs[0].set_yscale('log')\n",
    "axs[0].set_title(r'$\\pi^{+}$',fontsize=25)\n",
    "\n",
    "query = 'PID==-211'\n",
    "axs[1].hist(mc.query(query)['z'],density=True,bins=binning,alpha=0.5,label='mc')\n",
    "axs[1].hist(mc.query(query)['z'],bins=binning,weights = mc.query(query)['weight_reco'],**plot_style_1,label='mc w')\n",
    "axs[1].hist(data.query(query)['z'],density=True,bins=binning,alpha=0.5,label='data')\n",
    "#axs[1].set_yscale('log')\n",
    "axs[1].set_title(r'$\\pi^{-}$',fontsize=25)\n",
    "axs[0].set_xlabel(r'$z$',fontsize=25)\n",
    "\n",
    "axs[1].set_xlabel(r'$z$',fontsize=25)\n",
    "axs[0].set_ylabel('Normalized entries',fontsize=25)\n",
    "\n",
    "axs[0].legend(frameon=False,loc='best')\n"
   ]
  },
  {
   "cell_type": "code",
   "execution_count": null,
   "metadata": {},
   "outputs": [],
   "source": [
    "fig, axs = plt.subplots(1, 5, sharex=True, figsize=(24,4))\n",
    "\n",
    "\n",
    "Edges = [0.0,0.2,0.4,0.6,0.8,1.0]\n",
    "bins = [(x, y) for (x, y) in zip(Edges[:-1], Edges[1:])]\n",
    "\n",
    "for j, ibin in enumerate(bins):\n",
    "    binning = np.linspace(0.0, 4.5, 25)\n",
    "\n",
    "    query = 'z>%2.2f and z<%2.2f and PID==-211'%(ibin[0],ibin[1])\n",
    "    axs[j].hist(mc.query(query)['P'],density=True,bins=binning,alpha=0.5,label='mc')\n",
    "    axs[j].hist(mc.query(query)['P'],bins=binning,weights = mc.query(query)['weight_reco'],**plot_style_1,label='mc w')\n",
    "    axs[j].hist(data.query(query)['P'],density=True,bins=binning,alpha=0.5,label='data')\n",
    "\n",
    "    axs[j].set_title('%2.2f<z<%2.2f'%(ibin[0],ibin[1]),fontsize=20)\n",
    "    axs[j].set_xlabel(r'$P$',fontsize=25)\n",
    "\n",
    "\n",
    "    print(query)\n",
    "axs[0].legend(frameon=False,loc='best')\n",
    "#axs[0].set_yscale('log')"
   ]
  },
  {
   "cell_type": "code",
   "execution_count": null,
   "metadata": {},
   "outputs": [],
   "source": [
    "fig, axs = plt.subplots(1, 5, sharey=True, sharex=True, figsize=(24,4), gridspec_kw={'hspace': 0, 'wspace':0})\n",
    "\n",
    "\n",
    "Edges = [0.0,0.2,0.4,0.6,0.8,1.0]\n",
    "bins = [(x, y) for (x, y) in zip(Edges[:-1], Edges[1:])]\n",
    "\n",
    "for j, ibin in enumerate(bins):\n",
    "    binning = np.linspace(0, 2.0, 20)\n",
    "\n",
    "    query = 'z>%2.2f and z<%2.2f and PID==-211'%(ibin[0],ibin[1])\n",
    "    axs[j].hist(mc.query(query)['Pt2'],density=True,bins=binning,alpha=0.5,label='mc')\n",
    "    axs[j].hist(mc.query(query)['Pt2'],bins=binning,weights = mc.query(query)['weight_reco'],**plot_style_1,label='mc weighted')\n",
    "    axs[j].hist(data.query(query)['Pt2'],density=True,bins=binning,alpha=0.5,label='data')\n",
    "\n",
    "    axs[j].set_title('%2.2f<z<%2.2f'%(ibin[0],ibin[1]),fontsize=20)\n",
    "    axs[j].set_xlabel(r'$P_{T}^{2}$',fontsize=25)\n",
    "\n",
    "\n",
    "    print(query)\n",
    "axs[0].legend(frameon=False,loc='best')\n",
    "axs[0].set_yscale('log')"
   ]
  },
  {
   "cell_type": "code",
   "execution_count": null,
   "metadata": {},
   "outputs": [],
   "source": [
    "## Compute efficiency "
   ]
  },
  {
   "cell_type": "code",
   "execution_count": null,
   "metadata": {},
   "outputs": [],
   "source": [
    "fig, axs = plt.subplots(1,2,figsize=(16,5),sharey=True)\n",
    "\n",
    "mask = 'pass_reco==1'\n",
    "\n",
    "bins = np.linspace(0,1.0,40)\n",
    "axs[0].set_title('Non weighted')\n",
    "axs[1].set_title('Weighted')\n",
    "axs[0].hist(mc_hadron['mc_z'],alpha=0.3,bins=bins, label='all generated')\n",
    "axs[0].hist(mc_hadron.query('pass_reco==1')['mc_z'], alpha=0.3,bins=bins, label='pass reco')\n",
    "\n",
    "axs[1].hist(mc_hadron.query('pass_truth==1')['mc_z'],alpha=0.3,bins=bins,weights=mc_hadron.query('pass_truth==1')['weight_truth'],label='all generated')\n",
    "axs[1].hist(mc_hadron.query(mask)['mc_z'],alpha=0.3,bins=bins,weights=mc_hadron.query(mask)['weight_truth'],label='pass reco')\n",
    "\n",
    "\n",
    "axs[0].set(xlabel=r\"$z$\", ylabel=\"Events\")\n",
    "axs[1].set(xlabel=r\"$z$\", ylabel=\"Events\")\n",
    "plt.legend()\n",
    "plt.show()"
   ]
  },
  {
   "cell_type": "code",
   "execution_count": null,
   "metadata": {},
   "outputs": [],
   "source": [
    "print('Pass reco ' , np.count_nonzero(mc_hadron['pass_reco']))\n",
    "print('Pass truth ', np.count_nonzero(mc_hadron['pass_truth']))\n",
    "\n",
    "print(len(mc_hadron.query('pass_reco==1')))\n",
    "print(len(mc_hadron))"
   ]
  },
  {
   "cell_type": "code",
   "execution_count": null,
   "metadata": {},
   "outputs": [],
   "source": [
    "for i in mc_hadron.keys():\n",
    "    print(i)"
   ]
  }
 ],
 "metadata": {
  "kernelspec": {
   "display_name": "Python 3",
   "language": "python",
   "name": "python3"
  },
  "language_info": {
   "codemirror_mode": {
    "name": "ipython",
    "version": 3
   },
   "file_extension": ".py",
   "mimetype": "text/x-python",
   "name": "python",
   "nbconvert_exporter": "python",
   "pygments_lexer": "ipython3",
   "version": "3.7.8"
  }
 },
 "nbformat": 4,
 "nbformat_minor": 4
}

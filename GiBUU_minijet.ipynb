{
 "cells": [
  {
   "cell_type": "code",
   "execution_count": 1,
   "metadata": {
    "scrolled": true
   },
   "outputs": [
    {
     "name": "stdout",
     "output_type": "stream",
     "text": [
      "Welcome to JupyROOT 6.22/02\n"
     ]
    }
   ],
   "source": [
    "import ROOT\n",
    "from ROOT import TFile\n",
    "import numpy as np\n",
    "import matplotlib as mpl\n",
    "import matplotlib.pyplot as plt\n",
    "import copy\n",
    "import pandas as pd \n",
    "import time\n",
    "from os import listdir"
   ]
  },
  {
   "cell_type": "code",
   "execution_count": 32,
   "metadata": {},
   "outputs": [],
   "source": [
    "from pyjet import cluster\n",
    "from pyjet.testdata import get_event\n",
    "from numpy.lib.recfunctions import append_fields\n",
    "from numpy.testing import assert_array_equal\n",
    "import numpy as np\n",
    "\n",
    "from pyjet import DTYPE_EP\n",
    "\n",
    "from pyjet import PseudoJet, JetDefinition, ClusterSequence, ClusterSequenceArea\n",
    "#dir(PseudoJet)"
   ]
  },
  {
   "cell_type": "code",
   "execution_count": 94,
   "metadata": {},
   "outputs": [
    {
     "data": {
      "text/plain": [
       "['__class__',\n",
       " '__contains__',\n",
       " '__delattr__',\n",
       " '__dir__',\n",
       " '__doc__',\n",
       " '__eq__',\n",
       " '__format__',\n",
       " '__ge__',\n",
       " '__getattr__',\n",
       " '__getattribute__',\n",
       " '__gt__',\n",
       " '__hash__',\n",
       " '__init__',\n",
       " '__init_subclass__',\n",
       " '__iter__',\n",
       " '__le__',\n",
       " '__len__',\n",
       " '__lt__',\n",
       " '__ne__',\n",
       " '__new__',\n",
       " '__pyx_vtable__',\n",
       " '__reduce__',\n",
       " '__reduce_ex__',\n",
       " '__repr__',\n",
       " '__setattr__',\n",
       " '__setstate__',\n",
       " '__sizeof__',\n",
       " '__str__',\n",
       " '__subclasshook__',\n",
       " 'area',\n",
       " 'child',\n",
       " 'constituents',\n",
       " 'constituents_array',\n",
       " 'e',\n",
       " 'et',\n",
       " 'eta',\n",
       " 'mass',\n",
       " 'parents',\n",
       " 'phi',\n",
       " 'pt',\n",
       " 'px',\n",
       " 'py',\n",
       " 'pz',\n",
       " 'userinfo']"
      ]
     },
     "execution_count": 94,
     "metadata": {},
     "output_type": "execute_result"
    }
   ],
   "source": [
    "dir(PseudoJet)"
   ]
  },
  {
   "cell_type": "code",
   "execution_count": 100,
   "metadata": {},
   "outputs": [],
   "source": [
    "class particle:\n",
    "    def __init__(self, pid, fourvector, virtual_photon):\n",
    "        self.virtual_photon = virtual_photon #z-axis with respect to the lab\n",
    "        Nu = virtual_photon.E()\n",
    "        Q2 = -virtual_photon.M2()\n",
    "        self.proton = ROOT.TLorentzVector()\n",
    "        self.proton.SetPxPyPzE(0,0,0, 0.938)\n",
    "        self.W = (virtual_photon + self.proton).M()\n",
    "        incoming_e = ROOT.TLorentzVector()\n",
    "        incoming_e.SetPxPyPzE(0,0,11.0,11.0)####INCONSISTENT\n",
    "        part1 = virtual_photon.Vect().Cross(incoming_e.Vect()).Unit()\n",
    "        part2 = virtual_photon.Vect().Cross(fourvector.Vect()).Unit()\n",
    "        sign  = np.sign(part1.Dot(fourvector.Vect()))\n",
    "        self.PhiPQ = sign*np.arccos(part1.Dot(part2))\n",
    "        \n",
    "        photon_pz = np.sqrt(Nu*Nu+Q2) #direction is positive by definition\n",
    "        self.bcm = photon_pz/(Nu + 0.938)#photon-nucleon center-of-mass velocity \n",
    "        self.ycm = 0.5*np.log(( 1+self.bcm)/(1-self.bcm)) #photon-nucleon center-of-mass rapidity\n",
    "        \n",
    "        self.LorentzVector = fourvector #hadron four-vector\n",
    "        self.PhiLab = self.LorentzVector.Phi()\n",
    "        self.E = self.LorentzVector.E() #energy in lab frame\n",
    "        self.vector = self.LorentzVector.Vect()\n",
    "        self.Pt = self.vector.Perp(virtual_photon.Vect().Unit()) #pT with respect to photon direction\n",
    "        self.Pl  = self.vector.Dot(virtual_photon.Vect().Unit()) #pL with respect to photon direction (in lab frame)\n",
    "        self.y =  0.5*np.log( (self.E+self.Pl)/(self.E-self.Pl)) #rapidity in lab frame\n",
    "        self.mT = np.sqrt(self.LorentzVector.M2() + self.Pt*self.Pt)\n",
    "        self.y_star = self.y - self.ycm\n",
    "        self.Pl_star = self.mT*np.sinh(self.y_star)\n",
    "        self.Xf = 2.0*self.Pl_star/self.W \n",
    "        self.pid = pid\n",
    "        self.Zh = self.E/Nu\n",
    "        self.ThetaPQ = np.arctan(self.Pt/self.Pl)\n",
    "        self.Xb = Q2/(2*0.938*Nu)\n",
    "\n",
    "        #'phi =%2.2f'%self.PhiLab,\n",
    "    def print_properties(self):\n",
    "        #print ('Hello, let me introduce myself, i am particle pid = ' , self.pid)\n",
    "        print ('PID', self.pid, ' zh = %2.2f'%self.Zh,  'E = %2.2f'%self.E, 'phi =%2.2f'%self.PhiLab,'theta=%2.2f'%self.LorentzVector.Theta(),'pt %2.2f'%self.Pt)\n",
    "        #print ('%2.3f,'%self.LorentzVector.Px(),'%2.3f,'%self.LorentzVector.Py(),'%2.3f,'%self.LorentzVector.Pz(), '%2.23f,'%self.LorentzVector.E())\n"
   ]
  },
  {
   "cell_type": "code",
   "execution_count": 130,
   "metadata": {},
   "outputs": [],
   "source": [
    "class mytupla:\n",
    "    def __init__(self):\n",
    "        \n",
    "        hadron_variables = ['pid','xf','z','y','ycm','pt','Q2','Xb','Nu','W','phi_pq','theta_pq',\n",
    "                             'TargType','phi_lab','theta_lab','pos_x','pos_y','pos_z']\n",
    "        \n",
    "        self.tupla_hadron = {}\n",
    "        for var in hadron_variables:\n",
    "            self.tupla_hadron[var] = []    \n",
    "            \n",
    "            \n",
    "        electron_variables = ['Q2','Xb','Nu','W','costheta','jet_energy','jet_constituents','jet_pt','jet_phi','jet_qt','jet_z','jet_mass']\n",
    "        self.tupla_electron = {}\n",
    "        for var in electron_variables:\n",
    "            self.tupla_electron[var] = [] "
   ]
  },
  {
   "cell_type": "code",
   "execution_count": 131,
   "metadata": {},
   "outputs": [],
   "source": [
    "\n",
    "def getDataframes(filename, Target=1,maxevents=1e9,beamenergy=11.0):\n",
    "    dphi = np.array([])\n",
    "    ParticlesFromPrevious = []\n",
    "    try:\n",
    "        myfile = TFile.Open('%s'%filename,'READ')\n",
    "    except:\n",
    "        print(\"could not open file\")\n",
    "\n",
    "        \n",
    "    myfile.Print()\n",
    "    mytree = myfile.Get('RootTuple')\n",
    "    \n",
    "    print (filename, ' has ', mytree.GetEntries(), ' entries')\n",
    "    print ('The max number of events to be analyzes is ', maxevents)\n",
    "    df = mytupla()    \n",
    "    \n",
    "    start = time.time()\n",
    "    for ievt  in range(mytree.GetEntries()):\n",
    "        if(ievt%1e5==0):\n",
    "            print ('Event # ', ievt)\n",
    "            end = time.time()\n",
    "            print ('Processed in',  end-start, 'seconds')\n",
    "            start = time.time()\n",
    "        mytree.GetEntry(ievt)   \n",
    "        if mytree.Q2<5.0: continue\n",
    "        #print ('Q2 = %2.2f, Nu=%2.2f'%(mytree.Q2,mytree.nu))\n",
    "        if ievt>maxevents: break\n",
    "        Nu = mytree.nu\n",
    "        Q2 = mytree.Q2\n",
    "        phi_e = mytree.phiL \n",
    "        E    = beamenergy\n",
    "        Eprime = E-Nu\n",
    "        \n",
    "        incoming_e = ROOT.TLorentzVector()\n",
    "        incoming_e.SetPxPyPzE(0,0,E,E)\n",
    "        \n",
    "        #scattered electron\n",
    "        scattered_e = ROOT.TLorentzVector()\n",
    "        cos_thetae = 1-Q2/(2*E*Eprime)\n",
    "        sin_thetae = np.sqrt(1-cos_thetae*cos_thetae)\n",
    "        scattered_e.SetPxPyPzE(Eprime*sin_thetae*np.cos(phi_e),\n",
    "                               Eprime*sin_thetae*np.sin(phi_e),\n",
    "                               Eprime*cos_thetae,\n",
    "                               Eprime)\n",
    "        virtual_photon  = incoming_e - scattered_e\n",
    "        virtual_photon_unitvector = virtual_photon.Vect().Unit()\n",
    "\n",
    "        proton = ROOT.TLorentzVector()\n",
    "        proton.SetPxPyPzE(0,0,0, 0.938)\n",
    "\n",
    "        df.tupla_electron['Q2'].append(Q2)\n",
    "        df.tupla_electron['Xb'].append(0)\n",
    "        df.tupla_electron['Nu'].append(Nu)\n",
    "        df.tupla_electron['W'].append(0)\n",
    "        df.tupla_electron['costheta'].append(cos_thetae)\n",
    "        \n",
    "        #print ('Number of particles is ', len(mytree.Px))\n",
    "        sumz=0.0\n",
    "        sumE=0.0\n",
    "        \n",
    "        particles = np.array([], dtype=DTYPE_EP)\n",
    "        for i in range(len(mytree.Px)):\n",
    "            #if abs(mytree.barcode[i]) !=211: continue\n",
    "            \n",
    "            i_lv = ROOT.TLorentzVector()    \n",
    "            i_lv.SetPxPyPzE(mytree.Px[i],mytree.Py[i],mytree.Pz[i],mytree.E[i]) #with respect to photon direction\n",
    "            i_part = particle(mytree.barcode[i], i_lv, virtual_photon)\n",
    "            #i_part.print_properties()\n",
    "            if i_part.Zh > 0.0:\n",
    "                sumz= sumz+i_part.Zh\n",
    "                sumE= sumE+i_part.LorentzVector.E()\n",
    "                df.tupla_hadron['TargType'].append(999)\n",
    "                df.tupla_hadron['pid'].append(i_part.pid)\n",
    "                df.tupla_hadron['xf'].append(i_part.Xf)\n",
    "                df.tupla_hadron['z'].append(i_part.Zh)\n",
    "                df.tupla_hadron['y'].append(i_part.y_star)\n",
    "                df.tupla_hadron['ycm'].append(i_part.ycm)\n",
    "                df.tupla_hadron['pt'].append(i_part.LorentzVector.Pt())\n",
    "                df.tupla_hadron['phi_pq'].append(i_part.PhiPQ)\n",
    "                df.tupla_hadron['theta_pq'].append(i_part.ThetaPQ)\n",
    "                df.tupla_hadron['Q2'].append(Q2)\n",
    "                df.tupla_hadron['Xb'].append(i_part.Xb)\n",
    "                df.tupla_hadron['Nu'].append(Nu)\n",
    "                df.tupla_hadron['W'].append(i_part.W)\n",
    "                df.tupla_hadron['phi_lab'].append(i_part.LorentzVector.Phi())\n",
    "                df.tupla_hadron['theta_lab'].append(i_part.LorentzVector.Theta())\n",
    "                df.tupla_hadron['pos_x'].append(mytree.x[i])\n",
    "                df.tupla_hadron['pos_y'].append(mytree.y[i])\n",
    "                df.tupla_hadron['pos_z'].append(mytree.z[i])\n",
    "                #particles = np.append((i_part.LorentzVector.Px(), i_part.LorentzVector.Px(),i_part.LorentzVector.Px(),i_part.LorentzVector.Px()),particles)\n",
    "                hadron = np.array([(i_part.LorentzVector.E(), i_part.LorentzVector.Px(), i_part.LorentzVector.Py(), i_part.LorentzVector.Pz())], dtype=DTYPE_EP)\n",
    "                \n",
    "                particles = np.append(particles, hadron)\n",
    "        \n",
    "        \n",
    "        #print ('Total z =%2.2f'%sumz)   \n",
    "        #print ('Total E =%2.2f'%sumE)   \n",
    "\n",
    "        algorithm = 'ee_genkt'\n",
    "        R = 0.8\n",
    "\n",
    "        jet_def = JetDefinition(algo = algorithm, R = np.pi/2.0,p=0) #Cambridge Aechen ee gen kt algo.\n",
    "        cs = ClusterSequence(particles, jet_def, ep=True)\n",
    "\n",
    "        jets = cs.inclusive_jets()\n",
    "        #print(\"The constituents of the first jet\")\n",
    "\n",
    "        #print(jets[0].constituents_array(ep=True))\n",
    "        #print (jets[0])\n",
    "        #print (jets[0].e)\n",
    "        \n",
    "        jet_z = jets[0].e/Nu\n",
    "        df.tupla_electron['jet_energy'].append(jets[0].e)\n",
    "        df.tupla_electron['jet_z'].append(jet_z)\n",
    "        df.tupla_electron['jet_pt'].append(jets[0].pt)\n",
    "        df.tupla_electron['jet_qt'].append(jets[0].pt/jet_z)\n",
    "        df.tupla_electron['jet_phi'].append(jets[0].phi)\n",
    "        df.tupla_electron['jet_constituents'].append(len(jets[0]))\n",
    "        df.tupla_electron['jet_mass'].append(jets[0].mass)\n",
    "        \n",
    "    end = time.time()\n",
    "    print ('Processed in',  end-start, 'seconds')\n",
    "    df_hadron = pd.DataFrame(df.tupla_hadron)\n",
    "    df_electron = pd.DataFrame(df.tupla_electron)\n",
    "    return df_electron,df_hadron"
   ]
  },
  {
   "cell_type": "code",
   "execution_count": 120,
   "metadata": {},
   "outputs": [],
   "source": [
    "df = {}"
   ]
  },
  {
   "cell_type": "markdown",
   "metadata": {},
   "source": [
    "## Configuration for CLAS6"
   ]
  },
  {
   "cell_type": "code",
   "execution_count": 121,
   "metadata": {},
   "outputs": [],
   "source": [
    "nevents = 5e6\n",
    "beamenergy = 11.0\n",
    "df = {}"
   ]
  },
  {
   "cell_type": "code",
   "execution_count": 132,
   "metadata": {},
   "outputs": [
    {
     "name": "stdout",
     "output_type": "stream",
     "text": [
      "/home/miguel/GiBUU/clas12/GiBUU_D.root  has  5769902  entries\n",
      "The max number of events to be analyzes is  1000000.0\n",
      "Event #  0\n",
      "Processed in 2.1219253540039062e-05 seconds\n",
      "Event #  100000\n",
      "Processed in 11.165812969207764 seconds\n",
      "Event #  200000\n",
      "Processed in 11.033102989196777 seconds\n",
      "Event #  300000\n",
      "Processed in 11.027871370315552 seconds\n",
      "Event #  400000\n",
      "Processed in 11.275008916854858 seconds\n",
      "Event #  500000\n",
      "Processed in 11.199922800064087 seconds\n",
      "Event #  600000\n",
      "Processed in 11.49982213973999 seconds\n",
      "Event #  700000\n",
      "Processed in 11.378002882003784 seconds\n",
      "Event #  800000\n",
      "Processed in 11.60407304763794 seconds\n",
      "Event #  900000\n",
      "Processed in 11.506987571716309 seconds\n",
      "Event #  1000000\n",
      "Processed in 11.585536003112793 seconds\n",
      "Processed in 0.00034117698669433594 seconds\n",
      "TFile: name=/home/miguel/GiBUU/clas12/GiBUU_D.root, title=, option=READ\n"
     ]
    }
   ],
   "source": [
    "df['D_electron'], df['D_hadron'] = getDataframes('/home/miguel/GiBUU/clas12/GiBUU_D.root',maxevents=1e6)"
   ]
  },
  {
   "cell_type": "code",
   "execution_count": 105,
   "metadata": {},
   "outputs": [],
   "source": [
    "import root_pandas\n",
    "from root_pandas import read_root\n",
    "from root_pandas import to_root "
   ]
  },
  {
   "cell_type": "markdown",
   "metadata": {},
   "source": [
    "## Save dataframes to ROOT files"
   ]
  },
  {
   "cell_type": "code",
   "execution_count": null,
   "metadata": {},
   "outputs": [],
   "source": [
    "to_root(df['D_electron'],'GiBUU_SingleHadron_D.root', key='D_electron')\n",
    "to_root(df['D_hadron'],'GiBUU_SingleHadron_D.root', key='D_hadron', mode='a')"
   ]
  },
  {
   "cell_type": "markdown",
   "metadata": {},
   "source": [
    "## Check simulated data"
   ]
  },
  {
   "cell_type": "code",
   "execution_count": 133,
   "metadata": {},
   "outputs": [
    {
     "data": {
      "image/png": "[encoded data removed]",
      "text/plain": [
       "<Figure size 1080x1080 with 9 Axes>"
      ]
     },
     "metadata": {
      "needs_background": "light"
     },
     "output_type": "display_data"
    }
   ],
   "source": [
    "df['D_electron'].query('Q2>8.0').hist(figsize=(15, 15),column=['Q2','Nu','jet_energy','jet_constituents','jet_pt','jet_phi','jet_qt','jet_z','jet_mass'],density=True,alpha=0.9,bins=30)\n",
    "\n",
    "plt.show()"
   ]
  },
  {
   "cell_type": "code",
   "execution_count": 127,
   "metadata": {},
   "outputs": [
    {
     "data": {
      "image/png": "[encoded data removed]",
      "text/plain": [
       "<Figure size 432x288 with 1 Axes>"
      ]
     },
     "metadata": {
      "needs_background": "light"
     },
     "output_type": "display_data"
    }
   ],
   "source": [
    "plt.hist(df['D_electron'].query('Q2>8.0')['jet_qt'],range=(0.0,1.0),bins=100)\n",
    "plt.yscale('log')\n",
    "plt.show()\n"
   ]
  },
  {
   "cell_type": "code",
   "execution_count": 129,
   "metadata": {},
   "outputs": [
    {
     "data": {
      "text/plain": [
       "3.662264051181727"
      ]
     },
     "execution_count": 129,
     "metadata": {},
     "output_type": "execute_result"
    }
   ],
   "source": [
    "np.mean(df['D_electron'].query('Q2>8.0')['jet_constituents'])"
   ]
  },
  {
   "cell_type": "code",
   "execution_count": null,
   "metadata": {},
   "outputs": [],
   "source": []
  }
 ],
 "metadata": {
  "kernelspec": {
   "display_name": "Python 3",
   "language": "python",
   "name": "python3"
  },
  "language_info": {
   "codemirror_mode": {
    "name": "ipython",
    "version": 3
   },
   "file_extension": ".py",
   "mimetype": "text/x-python",
   "name": "python",
   "nbconvert_exporter": "python",
   "pygments_lexer": "ipython3",
   "version": "3.7.8"
  }
 },
 "nbformat": 4,
 "nbformat_minor": 2
}

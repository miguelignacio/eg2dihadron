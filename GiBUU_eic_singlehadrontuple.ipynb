{
 "cells": [
  {
   "cell_type": "code",
   "execution_count": 1,
   "metadata": {
    "scrolled": true
   },
   "outputs": [
    {
     "name": "stdout",
     "output_type": "stream",
     "text": [
      "Welcome to JupyROOT 6.15/01\n"
     ]
    }
   ],
   "source": [
    "import ROOT\n",
    "from ROOT import TFile\n",
    "import numpy as np\n",
    "import matplotlib as mpl\n",
    "import matplotlib.pyplot as plt\n",
    "import copy\n",
    "import pandas as pd \n",
    "import time\n",
    "from os import listdir\n",
    "\n",
    "import root_pandas\n",
    "from root_pandas import read_root\n",
    "from root_pandas import to_root "
   ]
  },
  {
   "cell_type": "markdown",
   "metadata": {},
   "source": [
    "## beam parameters, "
   ]
  },
  {
   "cell_type": "code",
   "execution_count": 2,
   "metadata": {},
   "outputs": [],
   "source": [
    "mass_proton = 0.938\n",
    "E_proton    = 40\n",
    "E_electron  = 5"
   ]
  },
  {
   "cell_type": "code",
   "execution_count": 3,
   "metadata": {},
   "outputs": [],
   "source": [
    "class particle:\n",
    "    def __init__(self, pid, fourvector, virtual_photon):\n",
    "        \n",
    "        incoming_e = ROOT.TLorentzVector()\n",
    "        incoming_e.SetPxPyPzE(0,0,+E_electron,E_electron)\n",
    "    \n",
    "        self.proton = ROOT.TLorentzVector()\n",
    "        self.proton.SetPxPyPzE(0,0,-E_proton, E_proton)\n",
    "        \n",
    "        self.virtual_photon = virtual_photon \n",
    "        Nu = virtual_photon.E()\n",
    "        Q2 = -virtual_photon.M2()\n",
    "        self.W = (virtual_photon + self.proton).M()\n",
    "        part1 = virtual_photon.Vect().Cross(incoming_e.Vect()).Unit()\n",
    "        part2 = virtual_photon.Vect().Cross(fourvector.Vect()).Unit()\n",
    "        sign  = np.sign(part1.Dot(fourvector.Vect()))\n",
    "        self.PhiPQ = sign*np.arccos(part1.Dot(part2))\n",
    "        \n",
    "        self.LorentzVector = fourvector #hadron four-vector ()\n",
    "        self.PhiLab = self.LorentzVector.Phi()\n",
    "        self.E = self.LorentzVector.E() #energy in lab frame\n",
    "        self.vector = self.LorentzVector.Vect()\n",
    "        self.Pt = self.vector.Perp(virtual_photon.Vect().Unit()) #pT with respect to photon direction\n",
    "        self.pid = pid\n",
    "        self.Zh = fourvector.Dot(self.proton)/virtual_photon.Dot(self.proton)\n",
    "\n",
    "    def print_properties(self):\n",
    "        print 'Hello, let me introduce myself, i am particle pid = ' , self.pid\n",
    "        print 'zh = ', self.Zh, ' phi_pq= ', self.PhiPQ, ' theta_pq=' , self.ThetaPQ, 'E = ', self.E, ' xf', self.Xf,'Pt ', self.Pt, ' Pl= ', self.Pl, ' rapidity=' ,  self.y\n"
   ]
  },
  {
   "cell_type": "code",
   "execution_count": 4,
   "metadata": {},
   "outputs": [],
   "source": [
    "class mytupla:\n",
    "    def __init__(self):\n",
    "        hadron_variables = ['pid','z','pt','E','Q2','x','Nu','y','W','phi_pq','TargType']\n",
    "        \n",
    "        self.tupla_hadron = {}\n",
    "        for var in hadron_variables:\n",
    "            self.tupla_hadron[var] = []    \n",
    "            \n",
    "            \n",
    "        electron_variables = ['Q2','x','Nu','y','s','E']\n",
    "        \n",
    "        self.tupla_electron = {}\n",
    "        for var in electron_variables:\n",
    "            self.tupla_electron[var] = []    "
   ]
  },
  {
   "cell_type": "code",
   "execution_count": 5,
   "metadata": {},
   "outputs": [],
   "source": [
    "\n",
    "def getDataframes(filename, Target=1,maxevents=1e9):\n",
    "        \n",
    "    dphi = np.array([])\n",
    "    ParticlesFromPrevious = []\n",
    "    try:\n",
    "        myfile = TFile.Open('%s'%filename,'READ')\n",
    "    except:\n",
    "        print(\"could not open file\")\n",
    "\n",
    "        \n",
    "    myfile.Print()\n",
    "    mytree = myfile.Get('RootTuple')\n",
    "    \n",
    "    print filename, ' has ', mytree.GetEntries(), ' entries'\n",
    "    print 'The max number of events to be analyzes is ', maxevents\n",
    "    df = mytupla()    \n",
    "    \n",
    "    start = time.time()\n",
    "    for ievt  in range(mytree.GetEntries()):\n",
    "        if(ievt%1e5==0):\n",
    "            print 'Event # ', ievt\n",
    "            end = time.time()\n",
    "            print 'Processed in',  end-start, 'seconds'\n",
    "            start = time.time()\n",
    "        mytree.GetEntry(ievt)   \n",
    "        if mytree.Q2<1.0: continue\n",
    "        if ievt>maxevents: break\n",
    "        Nu = mytree.nu\n",
    "        Q2 = mytree.Q2\n",
    "        x  = Q2/(2*mass_proton*Nu)\n",
    "        s  = 4*E_electron*E_proton\n",
    "        y  = Q2/(s*x)\n",
    "        #print'correct inelasticity', y\n",
    "        #print 'correct nu', Nu\n",
    "        #print ' correct x ', x\n",
    "        phi_e = mytree.phiL \n",
    "        Eprime = Q2/(4*E_electron) + (1-y)*E_electron\n",
    "        \n",
    "        incoming_e = ROOT.TLorentzVector()\n",
    "        incoming_e.SetPxPyPzE(0,0,+E_electron,E_electron)\n",
    "    \n",
    "        proton = ROOT.TLorentzVector()\n",
    "        proton.SetPxPyPzE(0,0,-E_proton, E_proton)\n",
    "    \n",
    "        #scattered electron in the lab frame\n",
    "        scattered_e = ROOT.TLorentzVector()\n",
    "        cos_thetae = 1-Q2/(2*E_electron*Eprime)\n",
    "        sin_thetae = np.sqrt(1-cos_thetae*cos_thetae)\n",
    "        #This is the electron in the lab frame\n",
    "        scattered_e.SetPxPyPzE(Eprime*sin_thetae*np.cos(phi_e),\n",
    "                               Eprime*sin_thetae*np.sin(phi_e),\n",
    "                               Eprime*cos_thetae,\n",
    "                               Eprime)\n",
    "        #This is the virtual photon in the lab frame\n",
    "        virtual_photon  = incoming_e - scattered_e\n",
    "        virtual_photon_unitvector = virtual_photon.Vect().Unit()\n",
    "\n",
    "    \n",
    "        df.tupla_electron['Q2'].append(Q2)\n",
    "        df.tupla_electron['Nu'].append(Nu)\n",
    "        df.tupla_electron['x'].append(x)\n",
    "        df.tupla_electron['y'].append(y)\n",
    "        df.tupla_electron['s'].append(np.sqrt(s))\n",
    "        df.tupla_electron['E'].append(Eprime)\n",
    "\n",
    "    \n",
    "    \n",
    "        ##Fill hadron\n",
    "        \n",
    "        for i in range(len(mytree.Px)):\n",
    "            if (abs(mytree.barcode[i]) !=211 and abs(mytree.barcode[i]) !=321):  continue\n",
    "            i_lv = ROOT.TLorentzVector()    \n",
    "            i_lv.SetPxPyPzE(mytree.Px[i],mytree.Py[i],-mytree.Pz[i],mytree.E[i])\n",
    "            i_part = particle(mytree.barcode[i], i_lv, virtual_photon)\n",
    "            if i_part.Zh > 0.1: ##keep only particles with z\n",
    "                df.tupla_hadron['TargType'].append(999)\n",
    "                df.tupla_hadron['pid'].append(i_part.pid)\n",
    "                df.tupla_hadron['z'].append(i_part.Zh)\n",
    "                df.tupla_hadron['pt'].append(i_part.Pt)\n",
    "                df.tupla_hadron['E'].append(i_part.E)\n",
    "\n",
    "                df.tupla_hadron['phi_pq'].append(i_part.PhiPQ)\n",
    "                df.tupla_hadron['Q2'].append(Q2)\n",
    "                df.tupla_hadron['x'].append(x)\n",
    "                df.tupla_hadron['Nu'].append(Nu)\n",
    "                df.tupla_hadron['y'].append(y)\n",
    "                df.tupla_hadron['W'].append(i_part.W)\n",
    "   \n",
    "            \n",
    "    end = time.time()\n",
    "    print 'Processed in',  end-start, 'seconds'\n",
    "    df_hadron = pd.DataFrame(df.tupla_hadron)\n",
    "    df_electron = pd.DataFrame(df.tupla_electron)\n",
    "\n",
    "    return df_electron, df_hadron"
   ]
  },
  {
   "cell_type": "code",
   "execution_count": 6,
   "metadata": {},
   "outputs": [],
   "source": [
    "df_hadron = {}\n",
    "df_electron = {}"
   ]
  },
  {
   "cell_type": "markdown",
   "metadata": {},
   "source": [
    "## produce data frames and Root files"
   ]
  },
  {
   "cell_type": "code",
   "execution_count": 7,
   "metadata": {},
   "outputs": [
    {
     "name": "stdout",
     "output_type": "stream",
     "text": [
      "GiBUU_DEIC5_50.root  has  40000  entries\n",
      "The max number of events to be analyzes is  100000.0\n",
      "Event #  0\n",
      "Processed in 0.00272512435913 seconds\n",
      "Processed in 115.872821093 seconds\n",
      "TFile: name=GiBUU_DEIC5_50.root, title=, option=READ\n"
     ]
    }
   ],
   "source": [
    "df_electron['D'], df_hadron['D']= getDataframes('GiBUU_DEIC5_50.root',maxevents=1e9) "
   ]
  },
  {
   "cell_type": "code",
   "execution_count": 9,
   "metadata": {},
   "outputs": [
    {
     "name": "stdout",
     "output_type": "stream",
     "text": [
      "GiBUU_AuEIC5_50.root  has  133960  entries\n",
      "The max number of events to be analyzes is  1000000000.0\n",
      "Event #  0\n",
      "Processed in 0.00230097770691 seconds\n",
      "Event #  100000\n",
      "Processed in 377.356382847 seconds\n",
      "Processed in 128.027366161 seconds\n",
      "TFile: name=GiBUU_AuEIC5_50.root, title=, option=READ\n"
     ]
    }
   ],
   "source": [
    "df_electron['Au'], df_hadron['Au']= getDataframes('GiBUU_AuEIC5_50.root',maxevents=1e9)"
   ]
  },
  {
   "cell_type": "markdown",
   "metadata": {},
   "source": [
    "## Check dataframes variables"
   ]
  },
  {
   "cell_type": "code",
   "execution_count": 8,
   "metadata": {},
   "outputs": [
    {
     "name": "stdout",
     "output_type": "stream",
     "text": [
      "40000\n"
     ]
    },
    {
     "data": {
      "image/png": "[encoded data removed]",
      "text/plain": [
       "<matplotlib.figure.Figure at 0x7f72b8476690>"
      ]
     },
     "metadata": {
      "needs_background": "light"
     },
     "output_type": "display_data"
    }
   ],
   "source": [
    "print df_electron['D'].shape[0]\n",
    "df_electron['D'].hist(figsize=(15, 15),alpha=0.5,bins=50)\n",
    "plt.show()"
   ]
  },
  {
   "cell_type": "code",
   "execution_count": null,
   "metadata": {
    "scrolled": true
   },
   "outputs": [],
   "source": [
    "print df_electron['Au'].shape[0]\n",
    "df_electron['Au'].hist(figsize=(15, 15),alpha=0.5,bins=50)\n",
    "plt.show()"
   ]
  },
  {
   "cell_type": "code",
   "execution_count": null,
   "metadata": {},
   "outputs": [],
   "source": [
    "print df_hadron['Au'].shape[0]\n",
    "df_hadron['Au'].hist(figsize=(15, 15),alpha=0.5,bins=50)\n",
    "plt.show()"
   ]
  },
  {
   "cell_type": "code",
   "execution_count": 17,
   "metadata": {},
   "outputs": [
    {
     "name": "stdout",
     "output_type": "stream",
     "text": [
      "133960\n",
      "40000\n"
     ]
    },
    {
     "data": {
      "image/png": "[encoded data removed]",
      "text/plain": [
       "<matplotlib.figure.Figure at 0x7f7279280cd0>"
      ]
     },
     "metadata": {
      "needs_background": "light"
     },
     "output_type": "display_data"
    }
   ],
   "source": [
    "print df_electron['Au'].shape[0]\n",
    "print df_electron['D'].shape[0]\n",
    "\n",
    "y_D, x , _  = plt.hist(df_hadron['D']['z'],bins=10,alpha=0.7,label='D')\n",
    "y_C, x , _  = plt.hist(df_hadron['Au']['z'],bins=10,alpha=0.7,label='C')\n",
    "\n",
    "\n",
    "y_D = y_D/df_electron['D'].shape[0]\n",
    "y_C = y_C/df_electron['Au'].shape[0]\n",
    "\n",
    "x = (x[1:] + x[:-1])/2.0\n",
    "plt.legend()\n",
    "plt.yscale('log')\n",
    "plt.show()"
   ]
  },
  {
   "cell_type": "code",
   "execution_count": 18,
   "metadata": {},
   "outputs": [
    {
     "data": {
      "image/png": "[encoded data removed]",
      "text/plain": [
       "<matplotlib.figure.Figure at 0x7f7278057250>"
      ]
     },
     "metadata": {
      "needs_background": "light"
     },
     "output_type": "display_data"
    }
   ],
   "source": [
    "plt.errorbar(x = x, y=y_D)\n",
    "plt.errorbar(x = x, y=y_C)\n",
    "\n",
    "plt.show()"
   ]
  },
  {
   "cell_type": "code",
   "execution_count": 19,
   "metadata": {},
   "outputs": [
    {
     "data": {
      "image/png": "[encoded data removed]",
      "text/plain": [
       "<matplotlib.figure.Figure at 0x7f7278c31950>"
      ]
     },
     "metadata": {
      "needs_background": "light"
     },
     "output_type": "display_data"
    }
   ],
   "source": [
    "ratio = np.divide(y_C, y_D)\n",
    "plt.errorbar(x, ratio, marker='o')\n",
    "\n",
    "#plt.ylim([0.0,2.5])\n",
    "plt.show()"
   ]
  },
  {
   "cell_type": "code",
   "execution_count": null,
   "metadata": {},
   "outputs": [],
   "source": []
  }
 ],
 "metadata": {
  "kernelspec": {
   "display_name": "Python 2",
   "language": "python",
   "name": "python2"
  },
  "language_info": {
   "codemirror_mode": {
    "name": "ipython",
    "version": 2
   },
   "file_extension": ".py",
   "mimetype": "text/x-python",
   "name": "python",
   "nbconvert_exporter": "python",
   "pygments_lexer": "ipython2",
   "version": "2.7.12"
  }
 },
 "nbformat": 4,
 "nbformat_minor": 2
}

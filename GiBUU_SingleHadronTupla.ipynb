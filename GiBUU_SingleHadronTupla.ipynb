{
 "cells": [
  {
   "cell_type": "code",
   "execution_count": null,
   "metadata": {},
   "outputs": [],
   "source": [
    "import ROOT\n",
    "from ROOT import TFile\n",
    "import numpy as np\n",
    "import matplotlib as mpl\n",
    "import matplotlib.pyplot as plt\n",
    "import copy\n",
    "import pandas as pd \n",
    "import time\n",
    "from os import listdir"
   ]
  },
  {
   "cell_type": "code",
   "execution_count": null,
   "metadata": {},
   "outputs": [],
   "source": [
    "class particle:\n",
    "    def __init__(self, pid, fourvector, Q2, Nu):\n",
    "        #In the lab frame, but with the photon is aligned with z-direction, the photon has 4-momentum q= (0,0,sqrt(Nu2+Q2),Nu) (note q2 = -Q2)        \n",
    "        self.virtual_photon = ROOT.TLorentzVector()\n",
    "        self.virtual_photon.SetPxPyPzE(0,0,np.sqrt(Nu*Nu+Q2),Nu)\n",
    "        self.virtual_photon_CM = self.virtual_photon\n",
    "        self.proton = ROOT.TLorentzVector()\n",
    "        self.proton.SetPxPyPzE(0,0,0, 0.938)\n",
    "        self.proton_CM = self.proton\n",
    "        \n",
    "        self.W = (self.virtual_photon + self.proton).M()\n",
    "        self.MissingMass = (self.virtual_photon + self.proton - fourvector).M()\n",
    "        \n",
    "        incoming_e = ROOT.TLorentzVector()\n",
    "        incoming_e.SetPxPyPzE(0,0,5.0,5.0)####INCONSISTENT\n",
    "        part1 = self.virtual_photon.Vect().Cross(incoming_e.Vect()).Unit()\n",
    "        part2 = self.virtual_photon.Vect().Cross(fourvector.Vect()).Unit()\n",
    "        sign  = np.sign(part1.Dot(fourvector.Vect()))\n",
    "        self.PhiPQ = sign*np.arccos(part1.Dot(part2))\n",
    "        \n",
    "        photon_pz = np.sqrt(Nu*Nu+Q2) #direction is positive by definition\n",
    "        self.bcm = photon_pz/(Nu + 0.938)#photon-nucleon center-of-mass velocity \n",
    "        self.ycm = 0.5*np.log(( 1+self.bcm)/(1-self.bcm)) #photon-nucleon center-of-mass rapidity\n",
    "        self.virtual_photon_CM.Boost(0.0,0.0,-self.bcm)\n",
    "        self.proton_CM.Boost(0.0,0.0,-self.bcm)\n",
    "        \n",
    "        self.LorentzVector = fourvector #hadron four-vector\n",
    "        self.PhiLab = self.LorentzVector.Phi()\n",
    "        self.E = self.LorentzVector.E() #energy in lab frame\n",
    "        self.vector = self.LorentzVector.Vect()\n",
    "        self.Pt = self.vector.Perp(self.virtual_photon.Vect().Unit()) #pT with respect to photon direction\n",
    "        self.Pl  = self.vector.Dot(self.virtual_photon.Vect().Unit()) #pL with respect to photon direction (in lab frame)\n",
    "        self.y =  0.5*np.log( (self.E+self.Pl)/(self.E-self.Pl)) #rapidity in lab frame\n",
    "        self.mT = np.sqrt(self.LorentzVector.M2() + self.Pt*self.Pt)\n",
    "        self.mass = self.LorentzVector.M() \n",
    "        self.y_star = self.y - self.ycm\n",
    "        self.Pl_star = self.mT*np.sinh(self.y_star)\n",
    "        self.Pstar = np.sqrt(self.Pl_star*self.Pl_star + self.Pt*self.Pt)\n",
    "        self.eta = np.arctanh(self.Pl_star/self.Pstar)\n",
    "        #self.eta =  0.5*np.log( (self.Pstar+self.Pl_star)/(self.Pstar-self.Pl_star)) \n",
    "        \n",
    "        self.Xf = 2.0*self.Pl_star/self.W \n",
    "        self.pid = pid\n",
    "        self.Zh = self.E/Nu\n",
    "        self.ThetaPQ = np.arctan(self.Pt/self.Pl)\n",
    "        self.Xb = Q2/(2*0.938*Nu)\n",
    "\n",
    "        #'phi =%2.2f'%self.PhiLab,\n",
    "    def print_properties(self):\n",
    "        #print ('Hello, let me introduce myself, i am particle pid = ' , self.pid)\n",
    "        #print ('PID', self.pid, ' zh = %2.2f'%self.Zh,  'E = %2.2f'%self.E, 'phi =%2.2f'%self.PhiLab,'theta=%2.2f'%self.LorentzVector.Theta(),'pt %2.2f'%self.Pt)\n",
    "        print ('PID', self.pid, ' pT = %2.2f'%self.Pt,  'Pl= %2.2f'%self.Pl_star, 'Xf=%2.2f'%self.Xf, 'Zh=%2.2f'%self.Zh, 'phi =%2.2f'%self.PhiLab)\n",
    "\n",
    "        \n",
    "        #print ('%2.3f,'%self.LorentzVector.Px(),'%2.3f,'%self.LorentzVector.Py(),'%2.3f,'%self.LorentzVector.Pz(), '%2.23f,'%self.LorentzVector.E())\n"
   ]
  },
  {
   "cell_type": "code",
   "execution_count": null,
   "metadata": {},
   "outputs": [],
   "source": [
    "class mytupla:\n",
    "    def __init__(self):\n",
    "        \n",
    "        hadron_variables = ['pid','xf','z','y','ycm','pt','Q2','Xb','Nu','W','MissingMass','phi_pq','theta_pq',\n",
    "                             'TargType','phi_lab','theta_lab','pos_x','pos_y','pos_z']\n",
    "        \n",
    "        self.tupla_hadron = {}\n",
    "        for var in hadron_variables:\n",
    "            self.tupla_hadron[var] = []    \n",
    "            \n",
    "            \n",
    "        electron_variables = ['Q2','Xb','Nu','W','costheta']\n",
    "        self.tupla_electron = {}\n",
    "        for var in electron_variables:\n",
    "            self.tupla_electron[var] = [] "
   ]
  },
  {
   "cell_type": "code",
   "execution_count": null,
   "metadata": {},
   "outputs": [],
   "source": [
    "\n",
    "def getDataframes(filename, Target=1,maxevents=1e9,beamenergy=5.0):\n",
    "    dphi = np.array([])\n",
    "    ParticlesFromPrevious = []\n",
    "    try:\n",
    "        myfile = TFile.Open('%s'%filename,'READ')\n",
    "    except:\n",
    "        print(\"could not open file\")\n",
    "\n",
    "        \n",
    "    myfile.Print()\n",
    "    mytree = myfile.Get('RootTuple')\n",
    "    \n",
    "    print (filename, ' has ', mytree.GetEntries(), ' entries')\n",
    "    print ('The max number of events to be analyzes is ', maxevents)\n",
    "    df = mytupla()    \n",
    "    \n",
    "    start = time.time()\n",
    "    for ievt  in range(mytree.GetEntries()):\n",
    "        if(ievt%1e5==0):\n",
    "            print ('Event # ', ievt)\n",
    "            end = time.time()\n",
    "            print ('Processed in',  end-start, 'seconds')\n",
    "            start = time.time()\n",
    "        mytree.GetEntry(ievt)   \n",
    "        if mytree.Q2<1.0: continue\n",
    "        if ievt>maxevents: break\n",
    "        Nu = mytree.nu\n",
    "        Q2 = mytree.Q2\n",
    "        phi_e = mytree.phiL \n",
    "        E    = beamenergy\n",
    "        Eprime = E-Nu\n",
    "        \n",
    "        incoming_e = ROOT.TLorentzVector()\n",
    "        incoming_e.SetPxPyPzE(0,0,E,E)\n",
    "        \n",
    "        #scattered electron\n",
    "        scattered_e = ROOT.TLorentzVector()\n",
    "        cos_thetae = 1-Q2/(2*E*Eprime)\n",
    "        sin_thetae = np.sqrt(1-cos_thetae*cos_thetae)\n",
    "        scattered_e.SetPxPyPzE(Eprime*sin_thetae*np.cos(phi_e),\n",
    "                               Eprime*sin_thetae*np.sin(phi_e),\n",
    "                               Eprime*cos_thetae,\n",
    "                               Eprime)\n",
    "        virtual_photon  = incoming_e - scattered_e\n",
    "        virtual_photon_unitvector = virtual_photon.Vect().Unit()\n",
    "\n",
    "        proton = ROOT.TLorentzVector()\n",
    "        proton.SetPxPyPzE(0,0,0, 0.938)\n",
    "\n",
    "        df.tupla_electron['Q2'].append(Q2)\n",
    "        df.tupla_electron['Xb'].append(0)\n",
    "        df.tupla_electron['Nu'].append(Nu)\n",
    "        df.tupla_electron['W'].append(0)\n",
    "        df.tupla_electron['costheta'].append(cos_thetae)\n",
    "        \n",
    "        for i in range(len(mytree.Px)):\n",
    "            #if abs(mytree.barcode[i]) !=211: continue\n",
    "            i_lv = ROOT.TLorentzVector()    \n",
    "            i_lv.SetPxPyPzE(mytree.Px[i],mytree.Py[i],mytree.Pz[i],mytree.E[i]) #with respect to photon direction\n",
    "            i_part = particle(mytree.barcode[i], i_lv, Q2, Nu)\n",
    "            df.tupla_hadron['TargType'].append(999)\n",
    "            df.tupla_hadron['pid'].append(i_part.pid)\n",
    "            df.tupla_hadron['xf'].append(i_part.Xf)\n",
    "            df.tupla_hadron['z'].append(i_part.Zh)\n",
    "            df.tupla_hadron['y'].append(i_part.y_star)\n",
    "            df.tupla_hadron['ycm'].append(i_part.ycm)\n",
    "            df.tupla_hadron['pt'].append(i_part.LorentzVector.Pt())\n",
    "            df.tupla_hadron['phi_pq'].append(i_part.PhiPQ)\n",
    "            df.tupla_hadron['theta_pq'].append(i_part.ThetaPQ)\n",
    "            df.tupla_hadron['Q2'].append(Q2)\n",
    "            df.tupla_hadron['Xb'].append(i_part.Xb)\n",
    "            df.tupla_hadron['Nu'].append(Nu)\n",
    "            df.tupla_hadron['W'].append(i_part.W)\n",
    "            df.tupla_hadron['MissingMass'].append(i_part.MissingMass)\n",
    "            df.tupla_hadron['phi_lab'].append(i_part.LorentzVector.Phi())\n",
    "            df.tupla_hadron['theta_lab'].append(i_part.LorentzVector.Theta())\n",
    "            df.tupla_hadron['pos_x'].append(mytree.x[i])\n",
    "            df.tupla_hadron['pos_y'].append(mytree.y[i])\n",
    "            df.tupla_hadron['pos_z'].append(mytree.z[i])\n",
    "             \n",
    "        \n",
    "        \n",
    "    end = time.time()\n",
    "    print ('Processed in',  end-start, 'seconds')\n",
    "    df_hadron = pd.DataFrame(df.tupla_hadron)\n",
    "    df_electron = pd.DataFrame(df.tupla_electron)\n",
    "    return df_electron,df_hadron"
   ]
  },
  {
   "cell_type": "code",
   "execution_count": null,
   "metadata": {},
   "outputs": [],
   "source": [
    "df = {}"
   ]
  },
  {
   "cell_type": "markdown",
   "metadata": {},
   "source": [
    "## Configuration for CLAS6"
   ]
  },
  {
   "cell_type": "code",
   "execution_count": null,
   "metadata": {},
   "outputs": [],
   "source": [
    "nevents = 5e6\n",
    "beamenergy = 5.0\n",
    "df = {}"
   ]
  },
  {
   "cell_type": "code",
   "execution_count": null,
   "metadata": {},
   "outputs": [],
   "source": [
    "df['Pb_electron'], df['Pb_hadron'] = getDataframes('/home/miguel/GiBUU/GiBUU_Pb.root',maxevents=1e7)"
   ]
  },
  {
   "cell_type": "code",
   "execution_count": null,
   "metadata": {},
   "outputs": [],
   "source": [
    "df['Fe_electron'], df['Fe_hadron'] = getDataframes('/home/miguel/GiBUU/GiBUU_Fe.root',maxevents=1e7)"
   ]
  },
  {
   "cell_type": "code",
   "execution_count": null,
   "metadata": {},
   "outputs": [],
   "source": [
    "df['C_electron'], df['C_hadron'] = getDataframes('/home/miguel/GiBUU/GiBUU_C.root',maxevents=1e7)"
   ]
  },
  {
   "cell_type": "code",
   "execution_count": null,
   "metadata": {},
   "outputs": [],
   "source": [
    "df['D_electron'], df['D_hadron'] = getDataframes('/home/miguel/GiBUU/GiBUU_D.root',maxevents=1e7)"
   ]
  },
  {
   "cell_type": "code",
   "execution_count": null,
   "metadata": {},
   "outputs": [],
   "source": [
    "import root_pandas\n",
    "from root_pandas import read_root\n",
    "from root_pandas import to_root "
   ]
  },
  {
   "cell_type": "markdown",
   "metadata": {},
   "source": [
    "## Save dataframes to ROOT files"
   ]
  },
  {
   "cell_type": "code",
   "execution_count": null,
   "metadata": {},
   "outputs": [],
   "source": [
    "to_root(df['D_electron'],'GiBUU_SingleHadron_D.root', key='D_electron')\n",
    "to_root(df['D_hadron'],'GiBUU_SingleHadron_D.root', key='D_hadron', mode='a')"
   ]
  },
  {
   "cell_type": "code",
   "execution_count": null,
   "metadata": {},
   "outputs": [],
   "source": [
    "to_root(df['C_electron'],'GiBUU_SingleHadron_C.root', key='C_electron')\n",
    "to_root(df['C_hadron'],'GiBUU_SingleHadron_C.root', key='C_hadron', mode='a')"
   ]
  },
  {
   "cell_type": "code",
   "execution_count": null,
   "metadata": {},
   "outputs": [],
   "source": [
    "to_root(df['Fe_electron'],'GiBUU_SingleHadron_Fe.root', key='Fe_electron')\n",
    "to_root(df['Fe_hadron'],'GiBUU_SingleHadron_Fe.root', key='Fe_hadron', mode='a')"
   ]
  },
  {
   "cell_type": "code",
   "execution_count": null,
   "metadata": {},
   "outputs": [],
   "source": [
    "to_root(df['Pb_electron'],'GiBUU_SingleHadron_Pb.root', key='Pb_electron')\n",
    "to_root(df['Pb_hadron'],'GiBUU_SingleHadron_Pb.root', key='Pb_hadron', mode='a')"
   ]
  },
  {
   "cell_type": "markdown",
   "metadata": {},
   "source": [
    "## Check simulated data"
   ]
  },
  {
   "cell_type": "code",
   "execution_count": null,
   "metadata": {},
   "outputs": [],
   "source": [
    "df['D_hadron'].query('pid==211').hist(figsize=(15, 15),density=True,alpha=0.5,bins=100)\n",
    "plt.show()"
   ]
  },
  {
   "cell_type": "code",
   "execution_count": null,
   "metadata": {},
   "outputs": [],
   "source": [
    "df['C_hadron'].query('pid==211').hist(figsize=(15, 15),density=True,alpha=0.5,bins=100)\n",
    "plt.show()"
   ]
  },
  {
   "cell_type": "code",
   "execution_count": null,
   "metadata": {},
   "outputs": [],
   "source": [
    "df['Fe_hadron'].query('pid==211').hist(figsize=(15, 15),density=True,alpha=0.5,bins=100)\n",
    "plt.show()"
   ]
  },
  {
   "cell_type": "code",
   "execution_count": null,
   "metadata": {},
   "outputs": [],
   "source": [
    "df['Pb_hadron'].query('pid==211').hist(figsize=(15, 15),density=True,alpha=0.5,bins=100)\n",
    "plt.show()"
   ]
  }
 ],
 "metadata": {
  "kernelspec": {
   "display_name": "Python 3",
   "language": "python",
   "name": "python3"
  },
  "language_info": {
   "codemirror_mode": {
    "name": "ipython",
    "version": 3
   },
   "file_extension": ".py",
   "mimetype": "text/x-python",
   "name": "python",
   "nbconvert_exporter": "python",
   "pygments_lexer": "ipython3",
   "version": "3.7.8"
  }
 },
 "nbformat": 4,
 "nbformat_minor": 2
}

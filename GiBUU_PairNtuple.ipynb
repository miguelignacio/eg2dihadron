{
 "cells": [
  {
   "cell_type": "code",
   "execution_count": 1,
   "metadata": {
    "scrolled": true
   },
   "outputs": [
    {
     "name": "stdout",
     "output_type": "stream",
     "text": [
      "Welcome to JupyROOT 6.15/01\n"
     ]
    }
   ],
   "source": [
    "import ROOT\n",
    "from ROOT import TFile\n",
    "import numpy as np\n",
    "import matplotlib as mpl\n",
    "import matplotlib.pyplot as plt\n",
    "import copy\n",
    "import pandas as pd \n",
    "import time\n",
    "from os import listdir"
   ]
  },
  {
   "cell_type": "code",
   "execution_count": 2,
   "metadata": {},
   "outputs": [],
   "source": [
    "class particle:\n",
    "    def __init__(self, pid, fourvector, virtual_photon):\n",
    "        self.virtual_photon = virtual_photon #z-axis with respect to the lab\n",
    "        Nu = virtual_photon.E()\n",
    "        Q2 = -virtual_photon.M2()\n",
    "        self.proton = ROOT.TLorentzVector()\n",
    "        self.proton.SetPxPyPzE(0,0,0, 0.938)\n",
    "        self.W = (virtual_photon + self.proton).M()\n",
    "        incoming_e = ROOT.TLorentzVector()\n",
    "        incoming_e.SetPxPyPzE(0,0,5.0,5.0)####INCONSISTENT\n",
    "        part1 = virtual_photon.Vect().Cross(incoming_e.Vect()).Unit()\n",
    "        part2 = virtual_photon.Vect().Cross(fourvector.Vect()).Unit()\n",
    "        sign  = np.sign(part1.Dot(fourvector.Vect()))\n",
    "        self.PhiPQ = sign*np.arccos(part1.Dot(part2))\n",
    "        \n",
    "        photon_pz = np.sqrt(Nu*Nu+Q2) #direction is positive by definition\n",
    "        self.bcm = photon_pz/(Nu + 0.938)#photon-nucleon center-of-mass velocity \n",
    "        self.ycm = 0.5*np.log(( 1+self.bcm)/(1-self.bcm)) #photon-nucleon center-of-mass rapidity\n",
    "        \n",
    "        self.LorentzVector = fourvector #hadron four-vector\n",
    "        self.PhiLab = self.LorentzVector.Phi()\n",
    "        self.E = self.LorentzVector.E() #energy in lab frame\n",
    "        self.vector = self.LorentzVector.Vect()\n",
    "        self.Pt = self.vector.Perp(virtual_photon.Vect().Unit()) #pT with respect to photon direction\n",
    "        self.Pl  = self.vector.Dot(virtual_photon.Vect().Unit()) #pL with respect to photon direction (in lab frame)\n",
    "        self.y =  0.5*np.log( (self.E+self.Pl)/(self.E-self.Pl)) #rapidity in lab frame\n",
    "        self.mT = np.sqrt(self.LorentzVector.M2() + self.Pt*self.Pt)\n",
    "        self.y_star = self.y - self.ycm\n",
    "        self.Pl_star = self.mT*np.sinh(self.y_star)\n",
    "        self.Xf = 2.0*self.Pl_star/self.W \n",
    "        self.pid = pid\n",
    "        self.Zh = self.E/Nu\n",
    "        self.ThetaPQ = np.arctan(self.Pt/self.Pl)\n",
    "        self.Xb = Q2/(2*0.938*Nu)\n",
    "\n",
    "        \n",
    "    def print_properties(self):\n",
    "        print 'Hello, let me introduce myself, i am particle pid = ' , self.pid\n",
    "        print 'zh = ', self.Zh, ' phi_pq= ', self.PhiPQ, ' theta_pq=' , self.ThetaPQ, 'E = ', self.E, ' xf', self.Xf,'Pt ', self.Pt, ' Pl= ', self.Pl, ' rapidity=' ,  self.y\n"
   ]
  },
  {
   "cell_type": "code",
   "execution_count": 3,
   "metadata": {},
   "outputs": [],
   "source": [
    "class mytupla:\n",
    "    def __init__(self):\n",
    "        self.tupla = {}\n",
    "        variables = ['dphi','dphi_lab','qt','dy','z','z_asso','z_tot','xf','xf_asso',\n",
    "                     'y', 'ycm','y_asso','pid','pid_asso','phi_pq','phi_pq_asso',\n",
    "                      'theta_pq','theta_pq_asso','dipion_pt','missing_mass','mass',\n",
    "                      'Q2','Xb','Nu','W','phi_lab','theta_lab','phi_lab_asso','theta_lab_asso',\n",
    "                       'pos_x', 'pos_y','pos_z','pos_x_asso', 'pos_y_asso','pos_z_asso']\n",
    "        \n",
    "        for var in variables:\n",
    "            self.tupla[var] = []\n",
    "        \n",
    "        trigger_variables = ['pid','xf','z','y','ycm','Q2','Xb','Nu','W','phi_pq','theta_pq',\n",
    "                             'TargType','phi_lab','theta_lab','pos_x','pos_y','pos_z']\n",
    "        \n",
    "        self.tupla_trigger = {}\n",
    "        for var in trigger_variables:\n",
    "            self.tupla_trigger[var] = []    "
   ]
  },
  {
   "cell_type": "code",
   "execution_count": 6,
   "metadata": {},
   "outputs": [],
   "source": [
    "\n",
    "def getDataframes(filename, Target=1,maxevents=1e9,beamenergy=5.0):\n",
    "    dphi = np.array([])\n",
    "    ParticlesFromPrevious = []\n",
    "    try:\n",
    "        myfile = TFile.Open('%s'%filename,'READ')\n",
    "    except:\n",
    "        print(\"could not open file\")\n",
    "\n",
    "        \n",
    "    myfile.Print()\n",
    "    mytree = myfile.Get('RootTuple')\n",
    "    \n",
    "    print filename, ' has ', mytree.GetEntries(), ' entries'\n",
    "    print 'The max number of events to be analyzes is ', maxevents\n",
    "    df = mytupla()    \n",
    "    \n",
    "    start = time.time()\n",
    "    for ievt  in range(mytree.GetEntries()):\n",
    "        if(ievt%1e5==0):\n",
    "            print 'Event # ', ievt\n",
    "            end = time.time()\n",
    "            print 'Processed in',  end-start, 'seconds'\n",
    "            start = time.time()\n",
    "        mytree.GetEntry(ievt)   \n",
    "        if mytree.Q2<1.0: continue\n",
    "        if ievt>maxevents: break\n",
    "        Nu = mytree.nu\n",
    "        Q2 = mytree.Q2\n",
    "        phi_e = mytree.phiL \n",
    "        E    = beamenergy\n",
    "        Eprime = E-Nu\n",
    "        \n",
    "        incoming_e = ROOT.TLorentzVector()\n",
    "        incoming_e.SetPxPyPzE(0,0,E,E)\n",
    "        \n",
    "        #scattered electron\n",
    "        scattered_e = ROOT.TLorentzVector()\n",
    "        cos_thetae = 1-Q2/(2*E*Eprime)\n",
    "        sin_thetae = np.sqrt(1-cos_thetae*cos_thetae)\n",
    "        scattered_e.SetPxPyPzE(Eprime*sin_thetae*np.cos(phi_e),\n",
    "                               Eprime*sin_thetae*np.sin(phi_e),\n",
    "                               Eprime*cos_thetae,\n",
    "                               Eprime)\n",
    "        virtual_photon  = incoming_e - scattered_e\n",
    "        virtual_photon_unitvector = virtual_photon.Vect().Unit()\n",
    "\n",
    "        proton = ROOT.TLorentzVector()\n",
    "        proton.SetPxPyPzE(0,0,0, 0.938)\n",
    "        #print virtual_photon.M2(), ' ' , Q2\n",
    "        #print virtual_photon.Vect().Mag(), ' ' , np.sqrt(Nu*Nu+Q2*Q2)\n",
    "        \n",
    "        #virtual_photon = ROOT.TLorentzVector()\n",
    "        #virtual_photon.SetPxPyPzE( 0, 0, np.sqrt(Nu*Nu+Q2*Q2),Nu)  #lab frame but with z in photon direction \n",
    "        #cos_thetaphoton = E -Eprime\n",
    "        \n",
    "        #need to rotate to lab frame with z aligned with beam frame\n",
    "        #virtual_photon.Rotate()\n",
    "        #### virtual photon \n",
    "        #electron in lab frame = (0,0,E,E)\n",
    "        #scattered electron in lab frame = (E'sintheta*cosphi,E'sintheta'sinphi,E'costheta,E')\n",
    "        \n",
    "        #Q2= 2EE'(1-cos_thetae)\n",
    "        # cos_thetae =1- Q2/2EE'\n",
    "\n",
    "        #photon in lab frame is e-e'\n",
    "        # (-E'sintheta*cosphi, -E'sintheta*sinphi, E-E'costheta, E-E')\n",
    "        \n",
    "        #cos_thetaphoton = (E- E'*costheta)/(E-E')\n",
    "        #cos_thetaphoton = (E- E'*(1- Q2/2EE'))/(E-E')\n",
    "        #sin_thetaphoton = sqrt(1-cos_thetaphoton*cos_thetaphoton)\n",
    "        #Thus, photon pT in lab frame with z-lepton direction is:\n",
    "        #pT = E'sqrt(1-cos_thetaphoton^{2})\n",
    "        #pT = E'sqrt(1- (E- E'*(1- Q2/2EE'))/(E-E')^{2} )\n",
    "        #and finally, photon phi angle is:\n",
    "        # phi_photon = -phi_electron (given)\n",
    "      \n",
    "        for i in range(len(mytree.Px)):\n",
    "            if abs(mytree.barcode[i]) !=211: continue\n",
    "            i_lv = ROOT.TLorentzVector()    \n",
    "            i_lv.SetPxPyPzE(mytree.Px[i],mytree.Py[i],mytree.Pz[i],mytree.E[i]) #with respect to photon direction\n",
    "            i_part = particle(mytree.barcode[i], i_lv, virtual_photon)\n",
    "            if i_part.Zh > 0.5:\n",
    "                df.tupla_trigger['TargType'].append(999)\n",
    "                df.tupla_trigger['pid'].append(i_part.pid)\n",
    "                df.tupla_trigger['xf'].append(i_part.Xf)\n",
    "                df.tupla_trigger['z'].append(i_part.Zh)\n",
    "                df.tupla_trigger['y'].append(i_part.y_star)\n",
    "                df.tupla_trigger['ycm'].append(i_part.ycm)\n",
    "                df.tupla_trigger['phi_pq'].append(i_part.PhiPQ)\n",
    "                df.tupla_trigger['theta_pq'].append(i_part.ThetaPQ)\n",
    "                df.tupla_trigger['Q2'].append(Q2)\n",
    "                df.tupla_trigger['Xb'].append(i_part.Xb)\n",
    "                df.tupla_trigger['Nu'].append(Nu)\n",
    "                df.tupla_trigger['W'].append(i_part.W)\n",
    "                df.tupla_trigger['phi_lab'].append(i_part.LorentzVector.Phi())\n",
    "                df.tupla_trigger['theta_lab'].append(i_part.LorentzVector.Theta())\n",
    "                df.tupla_trigger['pos_x'].append(mytree.x[i])\n",
    "                df.tupla_trigger['pos_y'].append(mytree.y[i])\n",
    "                df.tupla_trigger['pos_z'].append(mytree.z[i])\n",
    "                for j in range(len(mytree.Px)): \n",
    "                    if i==j: continue\n",
    "                    if abs(mytree.barcode[j]) !=211: continue\n",
    "                    j_lv = ROOT.TLorentzVector()    \n",
    "                    j_lv.SetPxPyPzE(mytree.Px[j],mytree.Py[j],mytree.Pz[j],mytree.E[j])\n",
    "                    j_part = particle(mytree.barcode[j], j_lv, virtual_photon)\n",
    "                    \n",
    "                    dphi = abs(ROOT.TVector2.Phi_mpi_pi(i_part.PhiPQ-j_part.PhiPQ))\n",
    "                    dphi_lab = abs(ROOT.TVector2.Phi_mpi_pi(i_part.PhiLab-j_part.PhiLab))\n",
    "                    dipion = i_part.LorentzVector+j_part.LorentzVector\n",
    "                    qt = dipion.Pt()\n",
    "                    X = (virtual_photon + proton - dipion) #unobserved hadronic system\n",
    "\n",
    "                    \n",
    "            \n",
    "                    \n",
    "                    df.tupla['dphi'].append(dphi)\n",
    "                    df.tupla['dphi_lab'].append(dphi_lab)\n",
    "                    df.tupla['qt'].append(qt)\n",
    "                    df.tupla['dy'].append(i_part.y-j_part.y)\n",
    "                    df.tupla['z'].append(i_part.Zh)\n",
    "                    df.tupla['z_asso'].append(j_part.Zh)\n",
    "                    df.tupla['z_tot'].append(i_part.Zh+j_part.Zh)\n",
    "                    df.tupla['xf'].append(i_part.Xf)\n",
    "                    df.tupla['xf_asso'].append(j_part.Xf)\n",
    "                    df.tupla['y'].append(i_part.y_star)\n",
    "                    df.tupla['ycm'].append(i_part.ycm)\n",
    "                    df.tupla['y_asso'].append(j_part.y_star)\n",
    "                    df.tupla['pid'].append(i_part.pid)\n",
    "                    df.tupla['pid_asso'].append(j_part.pid)\n",
    "                    df.tupla['phi_pq'].append(i_part.PhiPQ)\n",
    "                    df.tupla['phi_pq_asso'].append(j_part.PhiPQ)\n",
    "                    df.tupla['theta_pq'].append(i_part.ThetaPQ)\n",
    "                    df.tupla['theta_pq_asso'].append(j_part.ThetaPQ)\n",
    "                    df.tupla['mass'].append(dipion.M())\n",
    "                    df.tupla['dipion_pt'].append( dipion.Pt())\n",
    "                    df.tupla['missing_mass'].append(X.M())\n",
    "                    df.tupla['Q2'].append(Q2)\n",
    "                    df.tupla['Xb'].append(i_part.Xb)\n",
    "                    df.tupla['Nu'].append(Nu)\n",
    "                    df.tupla['W'].append(i_part.W)\n",
    "                    df.tupla['phi_lab'].append(i_part.LorentzVector.Phi())\n",
    "                    df.tupla['theta_lab'].append(i_part.LorentzVector.Theta())\n",
    "                    df.tupla['phi_lab_asso'].append(j_part.LorentzVector.Phi())\n",
    "                    df.tupla['theta_lab_asso'].append(j_part.LorentzVector.Theta())\n",
    "                    df.tupla['pos_x'].append(mytree.x[i])\n",
    "                    df.tupla['pos_y'].append(mytree.y[i])\n",
    "                    df.tupla['pos_z'].append(mytree.z[i])\n",
    "                    df.tupla['pos_x_asso'].append(mytree.x[j])\n",
    "                    df.tupla['pos_y_asso'].append(mytree.y[j])\n",
    "                    df.tupla['pos_z_asso'].append(mytree.z[j])\n",
    "        \n",
    "        \n",
    "    end = time.time()\n",
    "    print 'Processed in',  end-start, 'seconds'\n",
    "    df_pair = pd.DataFrame(df.tupla)\n",
    "    df_trigger = pd.DataFrame(df.tupla_trigger)\n",
    "    return df_pair, df_trigger"
   ]
  },
  {
   "cell_type": "code",
   "execution_count": 7,
   "metadata": {},
   "outputs": [],
   "source": [
    "df = {}"
   ]
  },
  {
   "cell_type": "markdown",
   "metadata": {},
   "source": [
    "## Configuration for CLAS6"
   ]
  },
  {
   "cell_type": "code",
   "execution_count": 8,
   "metadata": {},
   "outputs": [],
   "source": [
    "name_Fe = 'GiBUU_Fe.root'\n",
    "nevents = 5e6\n",
    "beamenergy = 5.0"
   ]
  },
  {
   "cell_type": "markdown",
   "metadata": {},
   "source": [
    "## Configuration for HERMES"
   ]
  },
  {
   "cell_type": "code",
   "execution_count": null,
   "metadata": {},
   "outputs": [],
   "source": [
    "name_D = 'GiBUU/hermes/GiBUU_Hermes_D.root'\n",
    "name_Kr = 'GiBUU/hermes/GiBUU_Hermes_Kr.root'\n",
    "name_Xe = 'GiBUU/hermes/GiBUU_Hermes_Xe.root'\n",
    "nevents = 5e6\n",
    "beamenergy = 27.6"
   ]
  },
  {
   "cell_type": "markdown",
   "metadata": {},
   "source": [
    "## Configuration for CLAS12"
   ]
  },
  {
   "cell_type": "code",
   "execution_count": 9,
   "metadata": {},
   "outputs": [],
   "source": [
    "name_Pb = 'gibuu_clas12_Pb.root'\n",
    "name_D = 'gibuu_clas12_D.root'\n",
    "nevents = 5e3\n",
    "beamenergy = 11.0"
   ]
  },
  {
   "cell_type": "code",
   "execution_count": 13,
   "metadata": {
    "scrolled": true
   },
   "outputs": [
    {
     "name": "stdout",
     "output_type": "stream",
     "text": [
      "GiBUU/D/GiBUU_D.root  has  2458112  entries\n",
      "The max number of events to be analyzes is  100000.0\n",
      "Event #  0\n",
      "Processed in 0.124514102936 seconds\n",
      "Event #  100000\n",
      "Processed in 173.793227911 seconds\n",
      "Processed in 0.0324268341064 seconds\n",
      "TFile: name=GiBUU/D/GiBUU_D.root, title=, option=READ\n"
     ]
    }
   ],
   "source": [
    "df['D'], df['D_trigger'] = getDataframes('GiBUU/D/GiBUU_D.root',maxevents=1e5)"
   ]
  },
  {
   "cell_type": "code",
   "execution_count": 14,
   "metadata": {},
   "outputs": [
    {
     "name": "stdout",
     "output_type": "stream",
     "text": [
      "GiBUU/Carbon/GiBUU_C.root  has  2566117  entries\n",
      "The max number of events to be analyzes is  100000.0\n",
      "Event #  0\n",
      "Processed in 0.0374269485474 seconds\n",
      "Event #  100000\n",
      "Processed in 184.215522051 seconds\n",
      "Processed in 0.0289690494537 seconds\n",
      "TFile: name=GiBUU/Carbon/GiBUU_C.root, title=, option=READ\n"
     ]
    }
   ],
   "source": [
    "df['C'], df['C_trigger'] = getDataframes('GiBUU/Carbon/GiBUU_C.root',maxevents=1e5)"
   ]
  },
  {
   "cell_type": "code",
   "execution_count": 15,
   "metadata": {},
   "outputs": [
    {
     "name": "stdout",
     "output_type": "stream",
     "text": [
      "GiBUU/Iron/GiBUU_Fe.root  has  1852429  entries\n",
      "The max number of events to be analyzes is  100000.0\n",
      "Event #  0\n",
      "Processed in 0.028491973877 seconds\n",
      "Event #  100000\n",
      "Processed in 170.068274021 seconds\n",
      "Processed in 0.0208101272583 seconds\n",
      "TFile: name=GiBUU/Iron/GiBUU_Fe.root, title=, option=READ\n"
     ]
    }
   ],
   "source": [
    "df['Fe'], df['Fe_trigger'] = getDataframes('GiBUU/Iron/GiBUU_Fe.root',maxevents=1e5)"
   ]
  },
  {
   "cell_type": "code",
   "execution_count": 16,
   "metadata": {},
   "outputs": [
    {
     "name": "stdout",
     "output_type": "stream",
     "text": [
      "GiBUU/Lead/GiBUU_Pb.root  has  1800379  entries\n",
      "The max number of events to be analyzes is  100000.0\n",
      "Event #  0\n",
      "Processed in 0.0355150699615 seconds\n",
      "Event #  100000\n",
      "Processed in 171.744135857 seconds\n",
      "Processed in 0.0159080028534 seconds\n",
      "TFile: name=GiBUU/Lead/GiBUU_Pb.root, title=, option=READ\n"
     ]
    }
   ],
   "source": [
    "df['Pb'], df['Pb_trigger'] = getDataframes('GiBUU/Lead/GiBUU_Pb.root',maxevents=1e5)"
   ]
  },
  {
   "cell_type": "code",
   "execution_count": null,
   "metadata": {
    "scrolled": true
   },
   "outputs": [],
   "source": [
    "df['Pb'], df['Pb_trigger'] = getDataframes(name_Pb,maxevents=nevents,beamenergy=beamenergy)"
   ]
  },
  {
   "cell_type": "code",
   "execution_count": null,
   "metadata": {},
   "outputs": [],
   "source": [
    "df['Kr'], df['Kr_trigger'] = getDataframes(name_Kr,maxevents=nevents,beamenergy=beamenergy)"
   ]
  },
  {
   "cell_type": "code",
   "execution_count": null,
   "metadata": {},
   "outputs": [],
   "source": [
    "df['Xe'], df['Xe_trigger'] = getDataframes(name_Xe,maxevents=nevents,beamenergy=beamenergy)"
   ]
  },
  {
   "cell_type": "code",
   "execution_count": null,
   "metadata": {},
   "outputs": [],
   "source": [
    "import root_pandas\n",
    "from root_pandas import read_root\n",
    "from root_pandas import to_root "
   ]
  },
  {
   "cell_type": "code",
   "execution_count": null,
   "metadata": {},
   "outputs": [],
   "source": [
    "print df['Pb'].shape[0]\n",
    "print df['Pb_trigger'].shape[0]"
   ]
  },
  {
   "cell_type": "code",
   "execution_count": null,
   "metadata": {},
   "outputs": [],
   "source": [
    "print df['D'].shape[0]\n",
    "print df['D_trigger'].shape[0]"
   ]
  },
  {
   "cell_type": "markdown",
   "metadata": {},
   "source": [
    "## Save dataframes to ROOT files"
   ]
  },
  {
   "cell_type": "code",
   "execution_count": null,
   "metadata": {},
   "outputs": [],
   "source": [
    "to_root(df['D'],'GiBUU_Pairs_D.root', key='D')\n",
    "to_root(df['D_trigger'],'GiBUU_Pairs_D.root', key='D_trigger', mode='a')"
   ]
  },
  {
   "cell_type": "code",
   "execution_count": null,
   "metadata": {},
   "outputs": [],
   "source": [
    "to_root(df['C'],'GiBUU_Pairs_C.root', key='C')\n",
    "to_root(df['C_trigger'],'GiBUU_Pairs_C.root', key='C_trigger', mode='a')"
   ]
  },
  {
   "cell_type": "code",
   "execution_count": null,
   "metadata": {},
   "outputs": [],
   "source": [
    "to_root(df['Fe'],'GiBUU_Pairs_Fe.root', key='Fe')\n",
    "to_root(df['Fe_trigger'],'GiBUU_Pairs_Fe.root', key='Fe_trigger', mode='a')"
   ]
  },
  {
   "cell_type": "code",
   "execution_count": null,
   "metadata": {},
   "outputs": [],
   "source": [
    "to_root(df['Pb'],'GiBUU_Pairs_Pb.root', key='Pb')\n",
    "to_root(df['Pb_trigger'],'GiBUU_Pairs_Pb.root', key='Pb_trigger', mode='a')"
   ]
  },
  {
   "cell_type": "code",
   "execution_count": null,
   "metadata": {},
   "outputs": [],
   "source": [
    "## HERMES"
   ]
  },
  {
   "cell_type": "code",
   "execution_count": null,
   "metadata": {},
   "outputs": [],
   "source": [
    "to_root(df['D'],'GiBUU_Pairs_HERMES_D.root', key='D')\n",
    "to_root(df['D_trigger'],'GiBUU_Pairs_HERMES_D.root', key='D_trigger', mode='a')\n",
    "to_root(df['Kr'],'GiBUU_Pairs_HERMES_Kr.root', key='Kr')\n",
    "to_root(df['Kr_trigger'],'GiBUU_Pairs_HERMES_Kr.root', key='Kr_trigger', mode='a')"
   ]
  },
  {
   "cell_type": "code",
   "execution_count": null,
   "metadata": {},
   "outputs": [],
   "source": [
    "to_root(df['Xe'],'GiBUU_Pairs_HERMES_Xe.root', key='Xe')\n",
    "to_root(df['Xe_trigger'],'GiBUU_Pairs_HERMES_Xe.root', key='Xe_trigger', mode='a')"
   ]
  },
  {
   "cell_type": "markdown",
   "metadata": {},
   "source": [
    "## CLAS12"
   ]
  },
  {
   "cell_type": "code",
   "execution_count": null,
   "metadata": {},
   "outputs": [],
   "source": []
  },
  {
   "cell_type": "code",
   "execution_count": null,
   "metadata": {},
   "outputs": [],
   "source": [
    "to_root(df['D'],'GiBUU_Pairs_CLAS12_D.root', key='D')\n",
    "to_root(df['D_trigger'],'GiBUU_Pairs_CLAS12_D.root', key='D_trigger', mode='a')\n",
    "to_root(df['Pb'],'GiBUU_Pairs_CLAS12_Pb.root', key='Pb')\n",
    "to_root(df['Pb_trigger'],'GiBUU_Pairs_CLAS12_Pb.root', key='Pb_trigger', mode='a')"
   ]
  },
  {
   "cell_type": "markdown",
   "metadata": {},
   "source": [
    "## Check dataframes variables"
   ]
  },
  {
   "cell_type": "code",
   "execution_count": 17,
   "metadata": {},
   "outputs": [
    {
     "data": {
      "image/png": "[encoded data removed]",
      "text/plain": [
       "<matplotlib.figure.Figure at 0x7ff60ae3f5d0>"
      ]
     },
     "metadata": {
      "needs_background": "light"
     },
     "output_type": "display_data"
    }
   ],
   "source": [
    "df['D'].hist(figsize=(15, 15),normed=True,alpha=0.5,bins=20)\n",
    "plt.show()"
   ]
  },
  {
   "cell_type": "code",
   "execution_count": null,
   "metadata": {},
   "outputs": [],
   "source": [
    "df['Fe_trigger'].hist(figsize=(15, 15),normed=True,alpha=0.5,bins=100)\n",
    "plt.show()"
   ]
  },
  {
   "cell_type": "code",
   "execution_count": null,
   "metadata": {},
   "outputs": [],
   "source": [
    "df['D'].hist(figsize=(15, 15),normed=True,alpha=0.5,bins=20)\n",
    "plt.show()"
   ]
  },
  {
   "cell_type": "code",
   "execution_count": null,
   "metadata": {},
   "outputs": [],
   "source": [
    "y_D, x , _  = plt.hist(df['D']['z_asso'],bins=100,normed=True,alpha=0.7,label='D')\n",
    "y_C, x , _  = plt.hist(df['Pb']['z_asso'],bins=100,normed=True,alpha=0.7,label='C')\n",
    "x = (x[1:] + x[:-1])/2.0\n",
    "plt.legend()\n",
    "plt.show()"
   ]
  },
  {
   "cell_type": "code",
   "execution_count": null,
   "metadata": {},
   "outputs": [],
   "source": [
    "ratio = np.divide(y_C, y_D)\n",
    "plt.errorbar(x, ratio, marker='o')\n",
    "\n",
    "plt.ylim([0.0,2.5])\n",
    "plt.show()"
   ]
  },
  {
   "cell_type": "markdown",
   "metadata": {},
   "source": [
    "## Broadening"
   ]
  },
  {
   "cell_type": "code",
   "execution_count": 18,
   "metadata": {},
   "outputs": [
    {
     "name": "stdout",
     "output_type": "stream",
     "text": [
      "0.017203903489962674\n",
      "0.022602676669221028\n",
      "0.04095527160509471\n"
     ]
    },
    {
     "data": {
      "image/png": "[encoded data removed]",
      "text/plain": [
       "<matplotlib.figure.Figure at 0x7ff606a4ce10>"
      ]
     },
     "metadata": {
      "needs_background": "light"
     },
     "output_type": "display_data"
    }
   ],
   "source": [
    "broadening_pip = []\n",
    "mass_number = [12,52,208]\n",
    "mass_number_cubicroot = [2.28, 3.73,5.92]\n",
    "fig = plt.figure(figsize=(8,6))\n",
    "broadening_pim= []\n",
    "\n",
    "selection = 'z_asso>0.1 and Nu<3 and Nu>2 and Q2<2 and Q2>1'\n",
    "\n",
    "\n",
    "df['D'].eval('qt2 = qt*qt', inplace=True)\n",
    "df['Fe'].eval('qt2 = qt*qt', inplace=True)\n",
    "df['C'].eval('qt2 = qt*qt', inplace=True)\n",
    "df['Pb'].eval('qt2 = qt*qt', inplace=True)\n",
    "\n",
    "\n",
    "ref = df['D'].query(selection)['qt2'].mean()\n",
    "for target in ['C','Fe','Pb']:\n",
    "    A = df['%s'%target].query(selection)['qt2'].mean()\n",
    "    print A-ref\n",
    "    #print A\n",
    "    broadening_pip.append(A-ref)\n",
    "\n",
    "plt.plot(mass_number_cubicroot,broadening_pip,'o',ms=10,alpha=0.8,label='$\\pi^{+}$')\n",
    "\n",
    "#plt.title(r'$0.5<z<0.6$ , $2.0<\\nu<3.0$',fontsize=22)\n",
    "plt.ylabel('$p_{T}^{2}$ broadening [GeV$^{2}$]',fontsize=22)\n",
    "plt.xlabel('Mass number $^{1/3}$',fontsize=22)\n",
    "plt.legend(loc='best',ncol=3,frameon=False)\n",
    "plt.ylim([0.0,0.06])\n",
    "\n",
    "#plt.xscale('log')\n",
    "plt.tight_layout()\n",
    "plt.savefig('Broadening.png')"
   ]
  },
  {
   "cell_type": "code",
   "execution_count": null,
   "metadata": {},
   "outputs": [],
   "source": []
  }
 ],
 "metadata": {
  "kernelspec": {
   "display_name": "Python 2",
   "language": "python",
   "name": "python2"
  },
  "language_info": {
   "codemirror_mode": {
    "name": "ipython",
    "version": 2
   },
   "file_extension": ".py",
   "mimetype": "text/x-python",
   "name": "python",
   "nbconvert_exporter": "python",
   "pygments_lexer": "ipython2",
   "version": "2.7.12"
  }
 },
 "nbformat": 4,
 "nbformat_minor": 2
}

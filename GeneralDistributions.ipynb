{
 "cells": [
  {
   "cell_type": "markdown",
   "metadata": {},
   "source": [
    "## Notebook that takes dihadron ntuples and plots kinematics distributions also with MC"
   ]
  },
  {
   "cell_type": "code",
   "execution_count": 1,
   "metadata": {},
   "outputs": [
    {
     "name": "stdout",
     "output_type": "stream",
     "text": [
      "Welcome to JupyROOT 6.15/01\n"
     ]
    }
   ],
   "source": [
    "import ROOT\n",
    "from ROOT import TFile\n",
    "import numpy as np\n",
    "import matplotlib as mpl\n",
    "import matplotlib.pyplot as plt\n",
    "import copy\n",
    "import pandas as pd \n",
    "import time\n",
    "\n",
    "import root_pandas as rpd\n",
    "from root_pandas import read_root\n",
    "\n",
    "mpl.rcParams['figure.figsize'] = 6.2,3.5\n",
    "mpl.rcParams['axes.labelsize'] = 17\n",
    "mpl.rcParams['lines.linewidth'] = 2\n",
    "mpl.rcParams['lines.markersize'] = 6\n",
    "mpl.rcParams['legend.fontsize']= 13"
   ]
  },
  {
   "cell_type": "code",
   "execution_count": 2,
   "metadata": {},
   "outputs": [],
   "source": [
    "df = {}\n",
    "df['Pb']= read_root('Pairs_Pb.root', 'Pb')\n",
    "df['Pb_mix'] = read_root('Pairs_Pb.root', 'Pb_mix')\n",
    "df['Pb_trigger'] = read_root('Pairs_Pb.root', 'Pb_trigger')\n",
    "df['D_Pb']= read_root('Pairs_Pb.root', 'D_Pb')\n",
    "df['D_Pb_mix'] = read_root('Pairs_Pb.root', 'D_Pb_mix')\n",
    "df['D_Pb_trigger'] = read_root('Pairs_Pb.root', 'D_Pb_trigger')\n",
    "\n",
    "df['Fe']= read_root('Pairs_Fe.root', 'Fe')\n",
    "df['Fe_mix'] = read_root('Pairs_Fe.root', 'Fe_mix')\n",
    "df['Fe_trigger'] = read_root('Pairs_Fe.root', 'Fe_trigger')\n",
    "df['D_Fe']= read_root('Pairs_Fe.root', 'D_Fe')\n",
    "df['D_Fe_mix'] = read_root('Pairs_Fe.root', 'D_Fe_mix')\n",
    "df['D_Fe_trigger'] = read_root('Pairs_Fe.root', 'D_Fe_trigger')\n",
    "\n",
    "df['C']= read_root('Pairs_C.root', 'C')\n",
    "df['C_mix'] = read_root('Pairs_C.root', 'C_mix')\n",
    "df['C_trigger'] = read_root('Pairs_C.root', 'C_trigger')\n",
    "df['D_C']= read_root('Pairs_C.root', 'D_C')\n",
    "df['D_C_mix'] = read_root('Pairs_C.root', 'D_C_mix')\n",
    "df['D_C_trigger'] = read_root('Pairs_C.root', 'D_C_trigger')\n",
    "\n",
    "df['D'] = pd.concat([df['D_Pb'],df['D_Fe'],df['D_C']]) #simply combine the deuterium results for all targets\n",
    "df['D_mix'] = pd.concat([df['D_Pb_mix'],df['D_Fe_mix'],df['D_C_mix']]) #simply combine the deuterium results for all targets\n",
    "df['D_trigger'] = pd.concat([df['D_Pb_trigger'],df['D_Fe_trigger'],df['D_C_trigger']]) #simply combine the deuterium results for all targets\n"
   ]
  },
  {
   "cell_type": "code",
   "execution_count": 11,
   "metadata": {},
   "outputs": [],
   "source": [
    "def applyCut(inputDataframe, cut, text=None):\n",
    "    nbeforecut = inputDataframe.shape[0]\n",
    "    cutDataframe = inputDataframe.query(cut)\n",
    "    if text:\n",
    "        print text, cutDataframe.shape[0], ' (%2.2f '%(100.0*cutDataframe.shape[0]/nbeforecut), '%)'\n",
    "    return cutDataframe\n",
    "def applyCuts(fullDataframe,name='default',isMC=False): \n",
    "    dataframe = fullDataframe\n",
    "    print 'Entries before cut ', dataframe.shape[0]\n",
    "    #dataframe.eval('inelasticity = Nu/5.014', inplace=True)\n",
    "    dataframe = applyCut(dataframe, 'Q2>1.0', 'Q2>1.0 :')\n",
    "    #dataframe = applyCut(dataframe, 'W>2.0', 'W>2.0 :')\n",
    "    dataframe = applyCut(dataframe, 'z>0.4', 'z>0.4 :')\n",
    "\n",
    "    return dataframe\n"
   ]
  },
  {
   "cell_type": "code",
   "execution_count": null,
   "metadata": {},
   "outputs": [],
   "source": [
    "#apply cuts"
   ]
  },
  {
   "cell_type": "code",
   "execution_count": 13,
   "metadata": {},
   "outputs": [
    {
     "name": "stdout",
     "output_type": "stream",
     "text": [
      "D\n",
      "Entries before cut  175875\n",
      "Q2>1.0 : 175875  (100.00  %)\n",
      "z>0.4 : 175875  (100.00  %)\n",
      "Pb\n",
      "Entries before cut  24919\n",
      "Q2>1.0 : 24919  (100.00  %)\n",
      "z>0.4 : 24919  (100.00  %)\n",
      "C\n",
      "Entries before cut  19514\n",
      "Q2>1.0 : 19514  (100.00  %)\n",
      "z>0.4 : 19514  (100.00  %)\n",
      "Fe\n",
      "Entries before cut  11563\n",
      "Q2>1.0 : 11563  (100.00  %)\n",
      "z>0.4 : 11563  (100.00  %)\n"
     ]
    }
   ],
   "source": [
    "for key in ['D','Pb','C','Fe']:\n",
    "    print key\n",
    "    df[key] = applyCuts(df[key])"
   ]
  },
  {
   "cell_type": "markdown",
   "metadata": {},
   "source": [
    "## Event Variables"
   ]
  },
  {
   "cell_type": "code",
   "execution_count": 6,
   "metadata": {},
   "outputs": [
    {
     "data": {
      "image/png": "[encoded data removed]",
      "text/plain": [
       "<matplotlib.figure.Figure at 0x7f9f84239a90>"
      ]
     },
     "metadata": {
      "needs_background": "light"
     },
     "output_type": "display_data"
    }
   ],
   "source": [
    "fig = plt.figure( figsize=(20, 10))\n",
    "plt.subplot(2,3,1)\n",
    "plt.hist(df['Nu'], bins=25,range =(2,5), histtype='step', normed=True,label='Data')\n",
    "#plt.hist(MC_reco['Nu'], bins=25,range = (2,5),  normed = True,alpha=0.2,label='MC')\n",
    "plt.legend()\n",
    "plt.xlabel(\"Nu [GeV]\", fontsize=20)\n",
    "\n",
    "plt.subplot(2,3,2)\n",
    "plt.hist(df['Q2'], bins=25,range =(1,5), histtype='step', normed=True,label='Data')\n",
    "#plt.hist(MC_reco['Q2'], bins=25,range = (1,5),  normed = True,alpha=0.2,label='MC')\n",
    "plt.xlabel(\"$Q^{2} [GeV^{2}]$\", fontsize=20)\n",
    "\n",
    "plt.subplot(2,3,3)\n",
    "plt.hist(data['W'], bins=25,range =(1,3), histtype='step', normed=True,label='Data')\n",
    "plt.hist(MC_reco['W'], bins=25,range = (1,3), normed = True,alpha=0.2,label='MC')\n",
    "plt.xlabel(\"$W$ [GeV]\", fontsize=20)\n",
    "\n",
    "plt.subplot(2,3,4)\n",
    "plt.hist(data['Xb'], bins=25,range =(0,1), histtype='step', normed=True,label='Data')\n",
    "plt.hist(MC_reco['Xb'], bins=25,range = (0,1),  normed = True,alpha=0.2,label='MC')\n",
    "plt.xlabel(\"$x$\", fontsize=20)\n",
    "\n",
    "plt.subplot(2,3,5)\n",
    "plt.hist(data['SectorEl'], bins = 12, range = (-0.5,5.5),histtype='step', normed=True,label='Data')\n",
    "plt.hist(MC_reco['SectorEl'], bins = 12, range=(-0.5,5.5), normed = True,alpha=0.2,label='MC')\n",
    "plt.xlabel('Sector El')\n",
    "\n",
    "\n",
    "plt.subplot(2,3,6)\n",
    "plt.hist(data['deltaZ'], bins = 100, range=(-50,50), histtype='step', normed=True,label='Data')\n",
    "plt.hist(MC_reco['deltaZ'], bins = 100, range=(-50,50), normed = True,alpha=0.2,label='MC')\n",
    "plt.xlabel('Delta z')\n",
    "plt.show()"
   ]
  },
  {
   "cell_type": "markdown",
   "metadata": {},
   "source": [
    "## Hadron Variables"
   ]
  },
  {
   "cell_type": "code",
   "execution_count": null,
   "metadata": {},
   "outputs": [],
   "source": [
    "fig = plt.figure( figsize=(12, 12))\n",
    "plt.subplot(3,3,1)\n",
    "plt.hist(data['Xf'], bins=25,range=(-2,2), histtype='step', normed=True,label='Data')\n",
    "plt.hist(MC_reco['Xf'], bins=25, range=(-2,2), normed = True,alpha=0.2,label='MC')\n",
    "plt.legend(loc='best', frameon=False)\n",
    "plt.xlabel(\"$X_{\\mathrm{f}}$\", fontsize=14)\n",
    "\n",
    "\n",
    "plt.subplot(3,3,2)\n",
    "plt.hist(data['Zh'], bins=25,range =(0,2), histtype='step', normed=True,label='Data')\n",
    "plt.hist(MC_reco['Zh'], bins=25,range = (0,2),  normed = True,alpha=0.2,label='MC')\n",
    "plt.xlabel(\"$z_{\\mathrm{h}}$\", fontsize=14)\n",
    "\n",
    "plt.subplot(3,3,3)\n",
    "plt.hist(data['Pt'], bins=25,range =(0,2), histtype='step', normed=True,label='Data')\n",
    "plt.hist(MC_reco['Pt'], bins=25,range = (0,2), normed = True,alpha=0.2,label='MC')\n",
    "plt.xlabel(\"$p_{\\mathrm{T}}$ [GeV]\", fontsize=14)\n",
    "\n",
    "plt.subplot(3,3,4)\n",
    "plt.hist(data['PhiPQ'], bins=25, histtype='step', normed=True,label='Data')\n",
    "plt.hist(MC_reco['PhiPQ'], bins=25,normed = True,alpha=0.2,label='MC')\n",
    "plt.xlabel(\"$\\phi_{pq}$ [\\circ]\", fontsize=14)\n",
    "\n",
    "plt.subplot(3,3,5)\n",
    "plt.hist(data['ThetaPQ'], bins = 32,histtype='step', normed=True,label='Data')\n",
    "plt.hist(MC_reco['ThetaPQ'], bins= 32, normed = True,alpha=0.2,label='MC')\n",
    "plt.xlabel(\"$theta_{pq}$ \", fontsize=14)\n",
    "\n",
    "plt.subplot(3,3,6)\n",
    "plt.hist(data['E'], range=(0,5), bins = 20,histtype='step', normed=True,label='Data')\n",
    "plt.hist(MC_reco['E'], range=(0,5),bins = 20, normed = True,alpha=0.2,label='MC')\n",
    "plt.xlabel(\"E [GeV]\", fontsize=14)\n",
    "\n",
    "plt.subplot(3,3,7)\n",
    "plt.hist(data['Pl'], range=(-2,2),bins = 32,histtype='step', normed=True,label='Data')\n",
    "plt.hist(MC_reco['Pl'], range=(-2,2), bins = 32, normed = True,alpha=0.2,label='MC')\n",
    "plt.xlabel(\"$P_{L}$ [GeV]\", fontsize=14)\n",
    "\n",
    "plt.subplot(3,3,8)\n",
    "plt.hist(data['y'], range=(-6,2), bins = 50,histtype='step', normed=True,label='Data')\n",
    "plt.hist(MC_reco['y'], range=(-6,2), bins = 50, normed = True,alpha=0.2,label='MC')\n",
    "plt.xlabel(\"rapidity\", fontsize=14)\n",
    "#plt.yscale('log')\n",
    "\n",
    "plt.show()"
   ]
  },
  {
   "cell_type": "markdown",
   "metadata": {},
   "source": [
    "## Dihadron variables"
   ]
  },
  {
   "cell_type": "markdown",
   "metadata": {},
   "source": [
    "## 2D Distributions"
   ]
  },
  {
   "cell_type": "code",
   "execution_count": null,
   "metadata": {},
   "outputs": [],
   "source": [
    "fig = plt.figure( figsize=(12, 12))\n",
    "plt.subplot(3,3,1)\n",
    "plt.hexbin(data['Pt'],data['Zh'],bins='log',cmap='viridis')\n",
    "plt.xlabel(\"$p_{\\mathrm{T}}$ [GeV]\", fontsize=14)\n",
    "plt.ylabel(\"$z_{\\mathrm{h}}$ \", fontsize=14)\n",
    "\n",
    "plt.subplot(3,3,2)\n",
    "plt.hexbin(data['Q2'],data['Xb'],gridsize=50, bins='log',cmap='viridis')\n",
    "plt.xlabel(\"$Q^{2} [GeV^{2}]$\", fontsize=14)\n",
    "plt.ylabel(\"$X_{b}$\", fontsize=14)\n",
    "\n",
    "plt.subplot(3,3,3)\n",
    "plt.hexbin(data['Q2'],data['Nu'],gridsize=50,bins='log',cmap='viridis')\n",
    "plt.xlabel(\"$Q^{2} [GeV^{2}]$\", fontsize=14)\n",
    "plt.ylabel(\"$Nu$ \", fontsize=14)\n",
    "\n",
    "plt.subplot(3,3,4)\n",
    "plt.hexbin(data.query('Zh<1.0')['PhiPQ'],data.query('Zh<1.0')['Zh'],bins='log',cmap='viridis')\n",
    "plt.xlabel(\"$\\phi_{pq}$ [\\circ]\", fontsize=14)\n",
    "plt.ylabel(\"$z_{\\mathrm{h}}$ \", fontsize=14)\n",
    "\n",
    "plt.subplot(3,3,5)\n",
    "plt.hexbin(data.query('Pt<1.5')['PhiPQ'],data.query('Pt<1.5')['Pt'],bins='log',cmap='viridis')\n",
    "plt.xlabel(\"$\\phi_{pq}$ [\\circ]\", fontsize=20)\n",
    "plt.ylabel(\"$p_{\\mathrm{T}}$ [GeV]\", fontsize=20)\n",
    "\n",
    "plt.subplot(3,3,6)\n",
    "plt.hexbin(data.query('Zh<1.0 and Xf>-1.0')['Xf'],data.query('Zh<1.0 and Xf>-1.0')['Zh'],bins='log',cmap='viridis')\n",
    "plt.xlabel(\"X_{F}\", fontsize=14)\n",
    "plt.ylabel(\"$z_{\\mathrm{h}}$ \", fontsize=14)\n",
    "\n",
    "plt.subplot(3,3,7)\n",
    "plt.hexbin(data.query('Zh<1.0 and y>-4')['y'],data.query('Zh<1.0 and y>-4')['Zh'],bins='log',cmap='viridis')\n",
    "plt.xlabel(\"Rapidity\", fontsize=14)\n",
    "plt.ylabel(\"$z_{\\mathrm{h}}$ \", fontsize=14)\n",
    "\n",
    "plt.subplot(3,3,8)\n",
    "plt.hexbin(data.query('abs(Xf)<1.0 and y>-4')['y'],data.query('abs(Xf)<1.0 and y>-4')['Xf'],bins='log',cmap='viridis')\n",
    "plt.xlabel(\"Rapidity\", fontsize=14)\n",
    "plt.ylabel(\"X_{F}\", fontsize=14)\n",
    "\n",
    "\n",
    "plt.show()"
   ]
  }
 ],
 "metadata": {
  "kernelspec": {
   "display_name": "Python 2",
   "language": "python",
   "name": "python2"
  },
  "language_info": {
   "codemirror_mode": {
    "name": "ipython",
    "version": 2
   },
   "file_extension": ".py",
   "mimetype": "text/x-python",
   "name": "python",
   "nbconvert_exporter": "python",
   "pygments_lexer": "ipython2",
   "version": "2.7.12"
  }
 },
 "nbformat": 4,
 "nbformat_minor": 2
}

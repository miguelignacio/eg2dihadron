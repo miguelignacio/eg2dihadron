{
 "cells": [
  {
   "cell_type": "code",
   "execution_count": 30,
   "metadata": {},
   "outputs": [],
   "source": [
    "import ROOT\n",
    "from ROOT import TFile\n",
    "import numpy as np\n",
    "import matplotlib as mpl\n",
    "import matplotlib.pyplot as plt\n",
    "import copy\n",
    "import pandas as pd \n",
    "import time\n",
    "import root_pandas as rpd\n",
    "from root_pandas import read_root\n",
    "\n",
    "#mpl.rcParams['figure.figsize'] = 6.2,3.5\n",
    "#mpl.rcParams['axes.labelsize'] = 17\n",
    "#mpl.rcParams['lines.linewidth'] = 3\n",
    "#mpl.rcParams['lines.markersize'] = 6\n",
    "#mpl.rcParams['legend.fontsize']= 15\n",
    "\n",
    "\n",
    "\n",
    "mpl.rcParams.update({'font.size': 18})\n",
    "mpl.rcParams.update({'legend.fontsize': 20})\n",
    "mpl.rcParams.update({'xtick.labelsize': 18}) \n",
    "mpl.rcParams.update({'ytick.labelsize': 18}) \n",
    "mpl.rcParams.update({'text.usetex' : False})"
   ]
  },
  {
   "cell_type": "code",
   "execution_count": 2,
   "metadata": {},
   "outputs": [],
   "source": [
    "def applyCut(inputDataframe, cut, text=None):\n",
    "    nbeforecut = inputDataframe.shape[0]\n",
    "    if nbeforecut>0:\n",
    "        cutDataframe = inputDataframe.query(cut)\n",
    "        if text:\n",
    "            print text, cutDataframe.shape[0], ' (%2.2f '%(100.0*cutDataframe.shape[0]/nbeforecut), '%)'\n",
    "    return cutDataframe\n",
    "def applyHadronCuts(fullDataframe,name='default',isMC=False): \n",
    "    dataframe = fullDataframe\n",
    "    print 'Entries before cut ', dataframe.shape[0]\n",
    "    dataframe.eval('inelasticity = Nu/5.014', inplace=True)\n",
    "    dataframe.eval('E = z*Nu', inplace=True)\n",
    "    dataframe.eval('P = sqrt(E*E-0.140*0.140)', inplace=True)\n",
    "    \n",
    "    #dataframe = applyCut(dataframe, 'Q2>1.0 and Q2<1.25', ' 1.0 <Q2<1.25 :')\n",
    "    #dataframe = applyCut(dataframe, 'Nu>3.5 and Nu<4.0',  ' 3.5 <Nu<4.0')\n",
    "    dataframe = applyCut(dataframe, 'P <2.5 ', 'P<2.5 ')\n",
    "    dataframe = applyCut(dataframe, 'P >0.2 ', 'P>0.2 ')\n",
    "\n",
    "    dataframe = applyCut(dataframe, 'inelasticity<0.85','inelasticity < 0.85')\n",
    "    return dataframe\n",
    "\n",
    "def applyElectronCuts(fullDataframe,name='default',isMC=False): \n",
    "    dataframe = fullDataframe\n",
    "    print 'Entries before cut ', dataframe.shape[0]\n",
    "    dataframe.eval('inelasticity = Nu/5.014', inplace=True)\n",
    "    #dataframe = applyCut(dataframe, 'Q2>1.0 and Q2<1.25', ' 1.0 <Q2<1.25 :')\n",
    "    #dataframe = applyCut(dataframe, 'Nu>3.5 and Nu<4.0',  ' 3.5 <Nu<4.0')\n",
    "    dataframe = applyCut(dataframe, 'inelasticity<0.85','inelasticity < 0.85')\n",
    "    return dataframe\n",
    "\n",
    "\n",
    "\n"
   ]
  },
  {
   "cell_type": "code",
   "execution_count": 3,
   "metadata": {},
   "outputs": [],
   "source": [
    "def getRatio(df_A,df_D,df_electron_A,df_electron_D, variable='z',event_cut='Q2>1.0',hadron_cut = ' and P>0',minz=0.05,maxz=1.0,nbins=9):\n",
    "    \n",
    "    \n",
    "    norm_A = df_electron_A.query(event_cut).shape[0]\n",
    "    norm_D = df_electron_D.query(event_cut).shape[0]\n",
    "    print 'Number of electron A', norm_A\n",
    "    print 'Number of electron D', norm_D\n",
    "    \n",
    "    y_A, x_conditional = np.histogram(df_A.query(event_cut+hadron_cut)[variable],bins=np.logspace(np.log10(minz), np.log10(maxz),nbins))\n",
    "    y_D, x_conditional = np.histogram(df_D.query(event_cut+hadron_cut)[variable],bins=np.logspace(np.log10(minz), np.log10(maxz),nbins))\n",
    "    x_conditional = (x_conditional[1:] + x_conditional[:-1])/2.0\n",
    "    err_A = np.true_divide(np.sqrt(y_A),y_A)\n",
    "    err_D = np.true_divide(np.sqrt(y_D),y_D)\n",
    "    y_A = np.true_divide(y_A,norm_A)\n",
    "    y_D = np.true_divide(y_D,norm_D)\n",
    "    ratio_conditional = np.true_divide(y_A,y_D)\n",
    "    error_conditional = np.multiply(ratio_conditional, np.sqrt(np.power(err_A,2.0) + np.power(err_D,2.0)))\n",
    "    \n",
    "    return ratio_conditional,error_conditional,x_conditional"
   ]
  },
  {
   "cell_type": "markdown",
   "metadata": {},
   "source": [
    "## Get data from Ntuples to dataframes"
   ]
  },
  {
   "cell_type": "code",
   "execution_count": 4,
   "metadata": {},
   "outputs": [],
   "source": [
    "#this needs to be read in chunks otherwise it uses all memory. (from https://github.com/scikit-hep/root_pandas)\n",
    "def getdatainChunks(filename,treename):\n",
    "    dataframe =pd.DataFrame()\n",
    "    for df in read_root(filename, treename, chunksize=100000) :\n",
    "        #print df.shape[0]\n",
    "        dataframe = pd.concat([dataframe,df])\n",
    "    \n",
    "    print dataframe.shape[0]\n",
    "    return dataframe\n",
    "    "
   ]
  },
  {
   "cell_type": "code",
   "execution_count": 5,
   "metadata": {},
   "outputs": [],
   "source": [
    "df = {}"
   ]
  },
  {
   "cell_type": "markdown",
   "metadata": {},
   "source": [
    "## GiBUU "
   ]
  },
  {
   "cell_type": "code",
   "execution_count": 6,
   "metadata": {},
   "outputs": [
    {
     "name": "stdout",
     "output_type": "stream",
     "text": [
      "D\n",
      " hadron\n",
      "1336569\n",
      " electron\n",
      "1000001\n",
      "C\n",
      " hadron\n",
      "1453239\n",
      " electron\n",
      "1000001\n",
      "Fe\n",
      " hadron\n",
      "1509986\n",
      " electron\n",
      "1000001\n",
      "Pb\n",
      " hadron\n",
      "1555718\n",
      " electron\n",
      "1000001\n",
      "['GiBUU_Fe_hadron', 'GiBUU_Pb_electron', 'GiBUU_C_hadron', 'GiBUU_Pb_hadron', 'GiBUU_D_hadron', 'GiBUU_Fe_electron', 'GiBUU_D_electron', 'GiBUU_C_electron']\n"
     ]
    }
   ],
   "source": [
    "for target in ['D','C','Fe','Pb']:\n",
    "    #GiBUU\n",
    "    print target\n",
    "    print ' hadron'\n",
    "    df['GiBUU_%s_hadron'%target]= getdatainChunks('GiBUU_SingleHadron_%s.root'%target, '%s_hadron'%target)\n",
    "    print ' electron'\n",
    "    df['GiBUU_%s_electron'%target]= getdatainChunks('GiBUU_SingleHadron_%s.root'%target,'%s_electron'%target)\n",
    "print df.keys()"
   ]
  },
  {
   "cell_type": "code",
   "execution_count": 7,
   "metadata": {},
   "outputs": [
    {
     "name": "stdout",
     "output_type": "stream",
     "text": [
      "['GiBUU_Fe_hadron', 'GiBUU_Pb_electron', 'GiBUU_C_hadron', 'GiBUU_Pb_hadron', 'GiBUU_D_hadron', 'GiBUU_Fe_electron', 'GiBUU_D_electron', 'GiBUU_C_electron']\n"
     ]
    }
   ],
   "source": [
    "print df.keys()"
   ]
  },
  {
   "cell_type": "code",
   "execution_count": 8,
   "metadata": {},
   "outputs": [
    {
     "name": "stdout",
     "output_type": "stream",
     "text": [
      "D\n",
      "Entries before cut  1000001\n",
      "inelasticity < 0.85 1000001  (100.00  %)\n",
      "Entries before cut  1336569\n",
      "P<2.5  1217391  (91.08  %)\n",
      "P>0.2  1100514  (90.40  %)\n",
      "inelasticity < 0.85 1100514  (100.00  %)\n",
      " \n",
      "C\n",
      "Entries before cut  1000001\n",
      "inelasticity < 0.85 1000001  (100.00  %)\n",
      "Entries before cut  1453239\n",
      "P<2.5  1356528  (93.35  %)\n",
      "P>0.2  1121899  (82.70  %)\n",
      "inelasticity < 0.85 1121899  (100.00  %)\n",
      " \n",
      "Fe\n",
      "Entries before cut  1000001\n",
      "inelasticity < 0.85 1000001  (100.00  %)\n",
      "Entries before cut  1509986\n",
      "P<2.5  1434822  (95.02  %)\n",
      "P>0.2  1074531  (74.89  %)\n",
      "inelasticity < 0.85 1074531  (100.00  %)\n",
      " \n",
      "Pb\n",
      "Entries before cut  1000001\n",
      "inelasticity < 0.85 1000001  (100.00  %)\n",
      "Entries before cut  1555718\n",
      "P<2.5  1498238  (96.31  %)\n",
      "P>0.2  1013832  (67.67  %)\n",
      "inelasticity < 0.85 1013832  (100.00  %)\n",
      " \n"
     ]
    }
   ],
   "source": [
    "for target in ['D','C','Fe','Pb']:\n",
    "    print target\n",
    "    df['GiBUU_%s_electron'%target] = applyElectronCuts(df['GiBUU_%s_electron'%target], isMC=True)\n",
    "    df['GiBUU_%s_hadron'%target] = applyHadronCuts(df['GiBUU_%s_hadron'%target], isMC=True)\n",
    "    print ' ' \n"
   ]
  },
  {
   "cell_type": "markdown",
   "metadata": {},
   "source": [
    "## Apply cuts for trigger dataframes"
   ]
  },
  {
   "cell_type": "code",
   "execution_count": 9,
   "metadata": {},
   "outputs": [
    {
     "name": "stdout",
     "output_type": "stream",
     "text": [
      "Number of electron A 1000001\n",
      "Number of electron D 1000001\n",
      "Number of electron A 1000001\n",
      "Number of electron D 1000001\n",
      "Number of electron A 1000001\n",
      "Number of electron D 1000001\n"
     ]
    },
    {
     "data": {
      "image/png": "[encoded data removed]",
      "text/plain": [
       "<matplotlib.figure.Figure at 0x7f2d8000e350>"
      ]
     },
     "metadata": {
      "needs_background": "light"
     },
     "output_type": "display_data"
    }
   ],
   "source": [
    "fig = plt.figure(figsize=(8,6))\n",
    "\n",
    "for target in ['C','Fe','Pb']:\n",
    "    r, err,x = getRatio(df['GiBUU_%s_hadron'%target], df['GiBUU_D_hadron'], \n",
    "                        df['GiBUU_%s_electron'%target], df['GiBUU_D_electron'],\n",
    "                        minz=0.1,maxz=1.0,nbins=20)\n",
    "    plt.errorbar(x,r,yerr=err,label='This work,  %s'%target,fmt='o',ms=8)\n",
    "\n",
    "plt.xlabel('$z_{2}$',fontsize=18)\n",
    "plt.ylabel('$R_{2h}$',fontsize=18)\n",
    "\n",
    "\n",
    "plt.tight_layout()\n",
    "plt.savefig('Rh.png')\n",
    "#plt.xlim([0.05,0.5])\n",
    "\n",
    "#plt.xscale('log')\n",
    "#plt.savefig('ComparisonWithHermes_Log.png')\n",
    "\n",
    "plt.show()"
   ]
  },
  {
   "cell_type": "markdown",
   "metadata": {},
   "source": [
    "## Both pi+ and pi-"
   ]
  },
  {
   "cell_type": "code",
   "execution_count": 36,
   "metadata": {},
   "outputs": [
    {
     "name": "stdout",
     "output_type": "stream",
     "text": [
      "Number of electron A 1000001\n",
      "Number of electron D 1000001\n",
      "Number of electron A 1000001\n",
      "Number of electron D 1000001\n",
      "Number of electron A 1000001\n",
      "Number of electron D 1000001\n",
      "Number of electron A 1000001\n",
      "Number of electron D 1000001\n",
      "Number of electron A 1000001\n",
      "Number of electron D 1000001\n",
      "Number of electron A 1000001\n",
      "Number of electron D 1000001\n"
     ]
    },
    {
     "data": {
      "image/png": "[encoded data removed]",
      "text/plain": [
       "<matplotlib.figure.Figure at 0x7f2d807b3d90>"
      ]
     },
     "metadata": {
      "needs_background": "light"
     },
     "output_type": "display_data"
    }
   ],
   "source": [
    "fig = plt.figure(figsize=(8,6))\n",
    "\n",
    "\n",
    "colors = {}\n",
    "colors['C'] = 'red'\n",
    "colors['Fe'] = 'blue'\n",
    "colors['Pb']= 'black'\n",
    "\n",
    "for target in ['C','Fe','Pb']:\n",
    "    r, err,x = getRatio(df['GiBUU_%s_hadron'%target].query('pid==211'), df['GiBUU_D_hadron'].query('pid==211'), \n",
    "                        df['GiBUU_%s_electron'%target], df['GiBUU_D_electron'],\n",
    "                        minz=0.05,maxz=1.0,nbins=10)\n",
    "    \n",
    "    plt.errorbar(x,r,yerr=err,label=r'$\\pi^{+}$'+'%s'%target,fmt='-',ms=8,color=colors[target])\n",
    "    \n",
    "    \n",
    "    r, err,x = getRatio(df['GiBUU_%s_hadron'%target].query('pid==-211'), df['GiBUU_D_hadron'].query('pid==-211'), \n",
    "                        df['GiBUU_%s_electron'%target], df['GiBUU_D_electron'],\n",
    "                        minz=0.05,maxz=1.0,nbins=10)\n",
    "    \n",
    "    plt.errorbar(x,r,yerr=err,label=r'$\\pi^{-}$'+'%s'%target,fmt='-',ms=8,ls='--',color=colors[target])\n",
    "    \n",
    "\n",
    "plt.xlabel('$z$',fontsize=22)\n",
    "plt.ylabel('$R_{h}$',fontsize=22)\n",
    "plt.legend(loc='best',ncol=3,frameon=False)\n",
    "plt.ylim([0.0,1.3])\n",
    "\n",
    "plt.tight_layout()\n",
    "plt.savefig('Rh.png')"
   ]
  },
  {
   "cell_type": "markdown",
   "metadata": {},
   "source": [
    "# momentum"
   ]
  },
  {
   "cell_type": "code",
   "execution_count": 55,
   "metadata": {},
   "outputs": [
    {
     "name": "stdout",
     "output_type": "stream",
     "text": [
      "Number of electron A 1000001\n",
      "Number of electron D 1000001\n",
      "Number of electron A 1000001\n",
      "Number of electron D 1000001\n",
      "Number of electron A 1000001\n",
      "Number of electron D 1000001\n",
      "Number of electron A 1000001\n",
      "Number of electron D 1000001\n",
      "Number of electron A 1000001\n",
      "Number of electron D 1000001\n",
      "Number of electron A 1000001\n",
      "Number of electron D 1000001\n"
     ]
    },
    {
     "data": {
      "image/png": "[encoded data removed]",
      "text/plain": [
       "<matplotlib.figure.Figure at 0x7f2d80c242d0>"
      ]
     },
     "metadata": {
      "needs_background": "light"
     },
     "output_type": "display_data"
    }
   ],
   "source": [
    "fig = plt.figure(figsize=(8,6))\n",
    "\n",
    "\n",
    "colors = {}\n",
    "colors['C'] = 'red'\n",
    "colors['Fe'] = 'blue'\n",
    "colors['Pb']= 'black'\n",
    "\n",
    "for target in ['C','Fe','Pb']:\n",
    "    r, err,x = getRatio(df['GiBUU_%s_hadron'%target].query('pid==211'), df['GiBUU_D_hadron'].query('pid==211'), \n",
    "                        df['GiBUU_%s_electron'%target], df['GiBUU_D_electron'],\n",
    "                        minz=0.2,maxz=2.5,nbins=10,variable='P')\n",
    "    \n",
    "    plt.errorbar(x,r,yerr=err,label=r'$\\pi^{+}$'+'%s'%target,fmt='-',ms=8,color=colors[target])\n",
    "    \n",
    "    \n",
    "    r, err,x = getRatio(df['GiBUU_%s_hadron'%target].query('pid==-211'), df['GiBUU_D_hadron'].query('pid==-211'), \n",
    "                        df['GiBUU_%s_electron'%target], df['GiBUU_D_electron'],\n",
    "                        minz=0.2,maxz=2.5,nbins=10,variable='P')\n",
    "    \n",
    "    plt.errorbar(x,r,yerr=err,label=r'$\\pi^{-}$'+'%s'%target,fmt='-',ms=8,ls='--',color=colors[target])\n",
    "    \n",
    "\n",
    "plt.xlabel('$z$',fontsize=22)\n",
    "plt.ylabel('$R_{h}$',fontsize=22)\n",
    "plt.legend(loc='best',ncol=3,frameon=False)\n",
    "#plt.ylim([0.0,1.3])\n",
    "\n",
    "plt.tight_layout()\n",
    "plt.savefig('Rh.png')"
   ]
  },
  {
   "cell_type": "code",
   "execution_count": 52,
   "metadata": {},
   "outputs": [
    {
     "name": "stdout",
     "output_type": "stream",
     "text": [
      "Q2>1.85 and Q2<2.40 and Nu>2.20 and Nu<3.00\n",
      "Number of electron A 27997\n",
      "Number of electron D 27798\n"
     ]
    },
    {
     "name": "stderr",
     "output_type": "stream",
     "text": [
      "/usr/local/lib/python2.7/dist-packages/ipykernel_launcher.py:12: RuntimeWarning: invalid value encountered in true_divide\n",
      "  if sys.path[0] == '':\n",
      "/usr/local/lib/python2.7/dist-packages/ipykernel_launcher.py:13: RuntimeWarning: invalid value encountered in true_divide\n",
      "  del sys.path[0]\n",
      "/usr/local/lib/python2.7/dist-packages/ipykernel_launcher.py:16: RuntimeWarning: invalid value encountered in true_divide\n",
      "  app.launch_new_instance()\n"
     ]
    },
    {
     "name": "stdout",
     "output_type": "stream",
     "text": [
      "Number of electron A 27997\n",
      "Number of electron D 27798\n",
      "pi+ [       nan 1.58189588 1.13915234 1.14903432 1.04017267 1.04733265\n",
      " 0.92222573 0.78448541 0.72536284]\n",
      "pi- [       nan 1.5329317  0.99205209 0.94231287 0.95600564 0.94073629\n",
      " 0.89163919 0.89442967 0.83724955]\n",
      "[       nan 1.03194153 1.14827876 1.21937665 1.08804031 1.11331164\n",
      " 1.03430372 0.87707892 0.86636396]\n",
      "Number of electron A 27895\n",
      "Number of electron D 27798\n",
      "Number of electron A 27895\n",
      "Number of electron D 27798\n",
      "pi+ [       nan 2.01761293 1.20172006 1.09218501 1.02534954 0.87423399\n",
      " 0.7378559  0.63285429 0.56930971]\n",
      "pi- [       nan 1.78407598 0.94467314 0.93030854 0.92248001 0.80410074\n",
      " 0.69534864 0.65177562 0.63023326]\n",
      "[       nan 1.13090079 1.27210143 1.17400298 1.11151411 1.08721949\n",
      " 1.06113086 0.97096957 0.90333175]\n",
      "Number of electron A 27959\n",
      "Number of electron D 27798\n",
      "Number of electron A 27959\n",
      "Number of electron D 27798\n",
      "pi+ [       nan 1.81843566 1.01628916 0.89975744 0.80220737 0.69259439\n",
      " 0.51079755 0.46362368 0.40414079]\n",
      "pi- [       nan 2.13572992 1.12756415 0.93258318 0.90970628 0.82740629\n",
      " 0.61264453 0.59534071 0.57370426]\n",
      "[       nan 0.85143521 0.90131383 0.96480128 0.88183119 0.83706687\n",
      " 0.83375845 0.77875352 0.70444097]\n"
     ]
    },
    {
     "data": {
      "image/png": "[encoded data removed]",
      "text/plain": [
       "<matplotlib.figure.Figure at 0x7f2d809e7190>"
      ]
     },
     "metadata": {
      "needs_background": "light"
     },
     "output_type": "display_data"
    }
   ],
   "source": [
    "fig = plt.figure(figsize=(8,6))\n",
    "\n",
    "\n",
    "colors = {}\n",
    "colors['C'] = 'red'\n",
    "colors['Fe'] = 'blue'\n",
    "colors['Pb']= 'black'\n",
    "\n",
    "minQ2 = 1.85\n",
    "maxQ2 = 2.40\n",
    "minNu = 2.2\n",
    "maxNu = 3.0\n",
    "\n",
    "event_selection = 'Q2>%2.2f and Q2<%2.2f and Nu>%2.2f and Nu<%2.2f'%(minQ2,maxQ2,minNu,maxNu)\n",
    "print event_selection\n",
    "\n",
    "for target in ['C','Fe','Pb']:\n",
    "    r_pip, err,x = getRatio(df['GiBUU_%s_hadron'%target].query('pid==211'), df['GiBUU_D_hadron'].query('pid==211'), \n",
    "                        df['GiBUU_%s_electron'%target], df['GiBUU_D_electron'], event_cut = event_selection,\n",
    "                        minz=0.05,maxz=1.0,nbins=10)\n",
    "    \n",
    "    plt.errorbar(x,r_pip,yerr=err,label=r'$\\pi^{+}$'+'%s'%target,fmt='-',ms=8,color=colors[target])\n",
    "    \n",
    "    \n",
    "    r_pim, err,x = getRatio(df['GiBUU_%s_hadron'%target].query('pid==-211'), df['GiBUU_D_hadron'].query('pid==-211'), \n",
    "                        df['GiBUU_%s_electron'%target], df['GiBUU_D_electron'], event_cut = event_selection,\n",
    "                        minz=0.05,maxz=1.0,nbins=10)\n",
    "    \n",
    "    plt.errorbar(x,r_pim,yerr=err,label=r'$\\pi^{-}$'+'%s'%target,fmt='-',ms=8,ls='--',color=colors[target])\n",
    "    \n",
    "    print 'pi+', r_pip\n",
    "    print 'pi-', r_pim\n",
    "    print np.true_divide(r_pip,r_pim)\n",
    "\n",
    "plt.title(r'%2.2f$<Q^{2}<$%2.2f GeV$^{2}$, %2.2f$<\\nu<$%2.2f GeV'%(minQ2,maxQ2,minNu,maxNu))\n",
    "    \n",
    "plt.xlabel('$z$',fontsize=22)\n",
    "plt.ylabel('$R_{h}$',fontsize=22)\n",
    "plt.legend(loc='best',ncol=3,frameon=False)\n",
    "plt.ylim([0.0,1.3])\n",
    "\n",
    "plt.tight_layout()\n",
    "plt.savefig('Rh.png')"
   ]
  },
  {
   "cell_type": "code",
   "execution_count": 50,
   "metadata": {},
   "outputs": [
    {
     "name": "stdout",
     "output_type": "stream",
     "text": [
      "Q2>1.85 and Q2<2.40 and Nu>2.20 and Nu<3.00\n",
      "Number of electron A 27997\n",
      "Number of electron D 27798\n",
      "Number of electron A 27997\n",
      "Number of electron D 27798\n",
      "Number of electron A 27895\n",
      "Number of electron D 27798\n",
      "Number of electron A 27895\n",
      "Number of electron D 27798\n",
      "Number of electron A 27959\n",
      "Number of electron D 27798\n",
      "Number of electron A 27959\n",
      "Number of electron D 27798\n"
     ]
    },
    {
     "data": {
      "image/png": "[encoded data removed]",
      "text/plain": [
       "<matplotlib.figure.Figure at 0x7f2d8045dc90>"
      ]
     },
     "metadata": {
      "needs_background": "light"
     },
     "output_type": "display_data"
    }
   ],
   "source": [
    "fig = plt.figure(figsize=(8,6))\n",
    "\n",
    "\n",
    "colors = {}\n",
    "colors['C'] = 'red'\n",
    "colors['Fe'] = 'blue'\n",
    "colors['Pb']= 'black'\n",
    "\n",
    "minQ2 = 1.85\n",
    "maxQ2 = 2.40\n",
    "minNu = 2.2\n",
    "maxNu = 3.0\n",
    "\n",
    "event_selection = 'Q2>%2.2f and Q2<%2.2f and Nu>%2.2f and Nu<%2.2f'%(minQ2,maxQ2,minNu,maxNu)\n",
    "print event_selection\n",
    "\n",
    "for target in ['C','Fe','Pb']:\n",
    "    r, err,x = getRatio(df['GiBUU_%s_hadron'%target].query('pid==211'), df['GiBUU_D_hadron'].query('pid==211'), \n",
    "                        df['GiBUU_%s_electron'%target], df['GiBUU_D_electron'], event_cut = event_selection,\n",
    "                        minz=0.1,maxz=np.pi,nbins=10,variable='phi_pq')\n",
    "    \n",
    "    plt.errorbar(x,r,yerr=err,label=r'$\\pi^{+}$'+'%s'%target,fmt='-',ms=8,color=colors[target])\n",
    "    \n",
    "    \n",
    "    r, err,x = getRatio(df['GiBUU_%s_hadron'%target].query('pid==-211'), df['GiBUU_D_hadron'].query('pid==-211'), \n",
    "                        df['GiBUU_%s_electron'%target], df['GiBUU_D_electron'], event_cut = event_selection,\n",
    "                        minz=0.1,maxz=np.pi,nbins=10,variable='phi_pq')\n",
    "    \n",
    "    plt.errorbar(x,r,yerr=err,label=r'$\\pi^{-}$'+'%s'%target,fmt='-',ms=8,ls='--',color=colors[target])\n",
    "    \n",
    "\n",
    "\n",
    "plt.title(r'%2.2f$<Q^{2}<$%2.2f GeV$^{2}$, %2.2f$<\\nu<$%2.2f GeV'%(minQ2,maxQ2,minNu,maxNu))\n",
    "    \n",
    "plt.xlabel('$z$',fontsize=22)\n",
    "plt.ylabel('$R_{h}$',fontsize=22)\n",
    "plt.legend(loc='best',ncol=3,frameon=False)\n",
    "#plt.ylim([0.0,1.3])\n",
    "\n",
    "plt.tight_layout()\n",
    "plt.savefig('Rh.png')"
   ]
  },
  {
   "cell_type": "code",
   "execution_count": 65,
   "metadata": {},
   "outputs": [
    {
     "name": "stdout",
     "output_type": "stream",
     "text": [
      "Q2>1.85 and Q2<2.40\n",
      "Number of electron A 228480\n",
      "Number of electron D 228135\n",
      "pi+ [1.80478365 1.38380985 1.16855848 1.0467587  1.05306336 1.08972059\n",
      " 1.11424959 1.12124368 1.0668379  1.06183954 1.04491521 0.97919208\n",
      " 0.96651904 0.94539202 0.88187345 0.89459243 0.87130842 0.82307102\n",
      "        nan]\n",
      "pi- [2.54114224 1.66272827 1.2486739  1.03288008 0.99442525 0.9955121\n",
      " 1.03602211 1.02990313 1.03888731 0.95723381 0.89623326 0.80769378\n",
      " 0.72473692 0.68216863 0.6161385  0.58594594 0.59181959 0.5718263\n",
      "        nan]\n",
      "[0.71022535 0.83225255 0.9358396  1.01343682 1.05896684 1.09463319\n",
      " 1.07550754 1.08868849 1.02690436 1.10927918 1.16589648 1.21233083\n",
      " 1.33361363 1.38586265 1.43129093 1.52674908 1.47225341 1.43937244\n",
      "        nan]\n"
     ]
    },
    {
     "name": "stderr",
     "output_type": "stream",
     "text": [
      "/usr/local/lib/python2.7/dist-packages/ipykernel_launcher.py:12: RuntimeWarning: invalid value encountered in true_divide\n",
      "  if sys.path[0] == '':\n",
      "/usr/local/lib/python2.7/dist-packages/ipykernel_launcher.py:13: RuntimeWarning: invalid value encountered in true_divide\n",
      "  del sys.path[0]\n",
      "/usr/local/lib/python2.7/dist-packages/ipykernel_launcher.py:16: RuntimeWarning: invalid value encountered in true_divide\n",
      "  app.launch_new_instance()\n"
     ]
    },
    {
     "name": "stdout",
     "output_type": "stream",
     "text": [
      "Number of electron A 228390\n",
      "Number of electron D 228135\n",
      "pi+ [2.33935408 1.61333995 1.27080786 1.09202094 1.10590672 1.1100772\n",
      " 1.11660175 1.13981223 1.08330156 1.03792431 0.94295606 0.85974052\n",
      " 0.82448244 0.7774256  0.74664018 0.73586532 0.71416572 0.65341774\n",
      "        nan]\n",
      "pi- [2.54114224 1.66272827 1.2486739  1.03288008 0.99442525 0.9955121\n",
      " 1.03602211 1.02990313 1.03888731 0.95723381 0.89623326 0.80769378\n",
      " 0.72473692 0.68216863 0.6161385  0.58594594 0.59181959 0.5718263\n",
      "        nan]\n",
      "[0.92059155 0.97029682 1.01772598 1.0572582  1.11210644 1.11508157\n",
      " 1.07777792 1.1067179  1.04275175 1.0842955  1.0521324  1.0644387\n",
      " 1.13762997 1.13963845 1.21180576 1.25585871 1.20672875 1.14268569\n",
      "        nan]\n",
      "Number of electron A 227742\n",
      "Number of electron D 228135\n",
      "pi+ [2.17161661 1.46958871 1.18095865 0.98009889 0.95769374 0.95949302\n",
      " 0.95427413 0.96140058 0.90863985 0.8400229  0.75486083 0.67015947\n",
      " 0.6168306  0.59311476 0.55082262 0.5580367  0.53349926 0.48609093\n",
      "        nan]\n",
      "pi- [2.54114224 1.66272827 1.2486739  1.03288008 0.99442525 0.9955121\n",
      " 1.03602211 1.02990313 1.03888731 0.95723381 0.89623326 0.80769378\n",
      " 0.72473692 0.68216863 0.6161385  0.58594594 0.59181959 0.5718263\n",
      "        nan]\n",
      "[0.85458286 0.88384178 0.94577028 0.94889902 0.96306258 0.96381854\n",
      " 0.92109437 0.93348642 0.87462793 0.87755248 0.84225933 0.82971973\n",
      " 0.85110967 0.86945476 0.89399156 0.95236892 0.9014559  0.85006744\n",
      "        nan]\n"
     ]
    },
    {
     "data": {
      "image/png": "[encoded data removed]",
      "text/plain": [
       "<matplotlib.figure.Figure at 0x7f2d8090ce90>"
      ]
     },
     "metadata": {
      "needs_background": "light"
     },
     "output_type": "display_data"
    }
   ],
   "source": [
    "fig = plt.figure(figsize=(8,6))\n",
    "\n",
    "\n",
    "colors = {}\n",
    "colors['C'] = 'red'\n",
    "colors['Fe'] = 'blue'\n",
    "colors['Pb']= 'black'\n",
    "\n",
    "minQ2 = 1.85\n",
    "maxQ2 = 2.40\n",
    "minNu = 2.2\n",
    "maxNu = 3.0\n",
    "\n",
    "#event_selection = 'Q2>%2.2f and Q2<%2.2f and Nu>%2.2f and Nu<%2.2f'%(minQ2,maxQ2,minNu,maxNu)\n",
    "event_selection = 'Q2>%2.2f and Q2<%2.2f'%(minQ2,maxQ2)\n",
    "\n",
    "print event_selection\n",
    "\n",
    "for target in ['C','Fe','Pb']:\n",
    "    r_pip, err,x = getRatio(df['GiBUU_%s_hadron'%target].query('pid==211'), df['GiBUU_D_hadron'].query('pid==211'), \n",
    "                        df['GiBUU_%s_electron'%target], df['GiBUU_D_electron'], event_cut = event_selection,\n",
    "                        minz=0.2,maxz=3.0,nbins=20,variable='P')\n",
    "    \n",
    "    plt.errorbar(x,r_pip,yerr=err,label=r'$\\pi^{+}$'+'%s'%target,fmt='-',ms=8,color=colors[target])\n",
    "    \n",
    "    \n",
    "    #r_pim, err,x = getRatio(df['GiBUU_%s_hadron'%target].query('pid==-211'), df['GiBUU_D_hadron'].query('pid==-211'), \n",
    "    #                    df['GiBUU_%s_electron'%target], df['GiBUU_D_electron'], event_cut = event_selection,\n",
    "    #                    minz=0.2,maxz=3.0,nbins=20,variable='P')\n",
    "    \n",
    "    #plt.errorbar(x,r_pim,yerr=err,label=r'$\\pi^{-}$'+'%s'%target,fmt='-',ms=8,ls='--',color=colors[target])\n",
    "    \n",
    "    print 'pi+', r_pip\n",
    "    print 'pi-', r_pim\n",
    "    print np.true_divide(r_pip,r_pim)\n",
    "\n",
    "plt.title(r'%2.2f$<Q^{2}<$%2.2f GeV$^{2}$'%(minQ2,maxQ2))\n",
    "    \n",
    "plt.xlabel('$P [GeV]$',fontsize=22)\n",
    "plt.ylabel('$R_{h}$',fontsize=22)\n",
    "plt.legend(loc='best',ncol=3,frameon=False)\n",
    "plt.ylim([0.1,2.5])\n",
    "#plt.xscale('log')\n",
    "plt.tight_layout()\n",
    "plt.savefig('Rh.png')"
   ]
  },
  {
   "cell_type": "code",
   "execution_count": null,
   "metadata": {},
   "outputs": [],
   "source": [
    "## Plot the "
   ]
  },
  {
   "cell_type": "markdown",
   "metadata": {},
   "source": [
    "## Theory only"
   ]
  },
  {
   "cell_type": "code",
   "execution_count": null,
   "metadata": {},
   "outputs": [],
   "source": [
    "fig = plt.figure(figsize=(8,6))\n",
    "\n",
    "for target in ['C','Fe']:\n",
    "    r, err,x = getRatio(df['GiBUU_%s'%target],df['GiBUU_D'],df_trigger['GiBUU_%s_trigger'%target],df_trigger['GiBUU_D_trigger'])\n",
    "    plt.errorbar(x,r,yerr=err,label='GiBUU %s'%target,ms=8,lw=2)\n",
    "\n",
    "plt.xlabel('$z_{2}$',fontsize=18)\n",
    "plt.ylabel('$R_{2h}$',fontsize=18)\n",
    "\n",
    "plt.xlim([0.06,0.5])\n",
    "plt.ylim([0.0,2.0])\n",
    "\n",
    "plt.axhline(y=1.0,color='black',linestyle='--')\n",
    "plt.legend(loc='best',frameon=False,fontsize=15,ncol=1)\n",
    "\n",
    "\n",
    "plt.xscale('log')\n",
    "\n",
    "plt.tight_layout()\n",
    "plt.savefig('TheoryOnly.png')"
   ]
  },
  {
   "cell_type": "markdown",
   "metadata": {},
   "source": [
    "## Result compared with GiBUU"
   ]
  },
  {
   "cell_type": "code",
   "execution_count": null,
   "metadata": {},
   "outputs": [],
   "source": [
    "fig = plt.figure(figsize=(8,6))\n",
    "\n",
    "\n",
    "for i,target in enumerate(['C','Fe']):\n",
    "    r, err,x = getRatio(df['%s'%target], df['D_%s'%target], df_trigger['%s_trigger'%target], df_trigger['D_%s_trigger'%target]\n",
    "                       ,variable='z_asso',minz=0.07,maxz=0.5#,pair_cut='and z_asso>0.1'\n",
    "                       )\n",
    "    plt.errorbar(np.subtract(x,0*0.0025),r,yerr=err,label='This work, %s'%target,ms=8,fmt='o',alpha=0.8)\n",
    "\n",
    "    r, err,x = getRatio(df['GiBUU_%s'%target],df['GiBUU_D'],df_trigger['GiBUU_%s_trigger'%target],df_trigger['GiBUU_D_trigger']\n",
    "                       ,variable='z_asso',minz=0.07,maxz=0.5#,pair_cut='and z_asso>0.1'\n",
    "                       )\n",
    "    plt.fill_between(x,r,r-err,r+err,label='GiBUU %s'%target,alpha=0.5)\n",
    "\n",
    "#plt.xscale('log')\n",
    "plt.xlabel('$z_2$',fontsize=22)\n",
    "plt.ylabel('$R_{2h}$',fontsize=22)\n",
    "plt.axhline(y=1.0,color='black',linestyle='--')\n",
    "plt.ylim([0.0,1.5])\n",
    "plt.tight_layout()\n",
    "plt.savefig('MainResult_withGiBUU_z2.png')\n",
    "\n",
    "\n",
    "plt.errorbar(hermes_x['N'], hermes_y['N'],yerr=hermes_ytotal['N'],fmt='o',label='Hermes, N',fillstyle=None,ms=8,capsize=5)\n",
    "plt.errorbar(hermes_x['Kr'], hermes_y['Kr'],yerr=hermes_ytotal['Kr'],fmt='o',label='Hermes, Kr',fillstyle=None,ms=8,capsize=5)\n",
    "plt.errorbar(hermes_x['Xe'], hermes_y['Xe'],yerr=hermes_ytotal['Xe'],fmt='o',label='Hermes, Xe',fillstyle=None,ms=8,capsize=5)\n",
    "#plt.errorbar(neutrino_x, neutrino_y,yerr=neutrino_yerror,fmt='s',mfc='white',label='Neutrino, $A_{eff}=21$',fillstyle=None,ms=8,capsize=5)\n",
    "\n",
    "plt.tick_params(axis=\"x\", labelsize=16)\n",
    "plt.tick_params(axis=\"y\", labelsize=16)\n",
    "plt.text(0.20, 1.2, 'CLAS \\nINTERNAL', fontsize=30)\n",
    "\n",
    "plt.legend(frameon=False,ncol=3,fontsize=15)\n",
    "plt.tight_layout()\n",
    "plt.savefig('MainResult_withGiBUU_z2_withHERMES.png')\n",
    "plt.savefig('MainResult_withGiBUU_z2_withHERMES.pdf')\n"
   ]
  },
  {
   "cell_type": "markdown",
   "metadata": {},
   "source": [
    "## Results vs GiBUU (mass)"
   ]
  },
  {
   "cell_type": "code",
   "execution_count": null,
   "metadata": {},
   "outputs": [],
   "source": [
    "fig = plt.figure(figsize=(8,6))\n",
    "\n",
    "\n",
    "for target in ['C','Fe','Pb']:\n",
    "    r, err,x = getRatio(df['%s'%target], df['D_%s'%target], df_trigger['%s_trigger'%target], df_trigger['D_%s_trigger'%target]\n",
    "                       ,variable='mass',minz=0.4,maxz=1.8,nbins=12,pair_cut='and z_asso>0.15'\n",
    "                       )\n",
    "    plt.errorbar(x,r,yerr=err,label='This work, %s'%target,ms=8,fmt='o',alpha=0.8)\n",
    "\n",
    "    r, err,x = getRatio(df['GiBUU_%s'%target],df['GiBUU_D'],df_trigger['GiBUU_%s_trigger'%target],df_trigger['GiBUU_D_trigger']\n",
    "                       ,variable='mass',minz=0.4,maxz=1.8,nbins=12,pair_cut='and z_asso>0.15'\n",
    "                       )\n",
    "    plt.fill_between(x,r,r-err,r+err,label='GiBUU %s'%target,alpha=0.5)\n",
    "\n",
    "plt.tick_params(axis=\"x\", labelsize=16)\n",
    "plt.tick_params(axis=\"y\", labelsize=16)\n",
    "plt.legend(frameon=False,ncol=2)\n",
    "plt.xlabel('Dipion mass (GeV)',fontsize=22)\n",
    "plt.ylabel('$R_{2h}$',fontsize=22)\n",
    "plt.axhline(y=1.0,color='black',linestyle='--')\n",
    "\n",
    "plt.text(0.60, 1.1, 'CLAS \\nINTERNAL', fontsize=30)\n",
    "\n",
    "#plt.ylim([0.0,1.2])\n",
    "plt.tight_layout()\n",
    "plt.savefig('MainResult_withGiBUU_mass.png')\n",
    "plt.savefig('MainResult_withGiBUU_mass.pdf')"
   ]
  },
  {
   "cell_type": "code",
   "execution_count": null,
   "metadata": {},
   "outputs": [],
   "source": [
    "fig = plt.figure(figsize=(8,6))\n",
    "\n",
    "\n",
    "for target in ['C','Fe','Pb']:\n",
    "    r, err,x = getRatio(df['%s'%target], df['D_%s'%target], df_trigger['%s_trigger'%target], df_trigger['D_%s_trigger'%target]\n",
    "                       ,variable='dipion_pt',minz=0.05,maxz=1.8,nbins=12,pair_cut='and z_asso>0.15'\n",
    "                       )\n",
    "    plt.errorbar(x,r,yerr=err,label='This work, %s'%target,ms=8,fmt='o',alpha=0.8)\n",
    "\n",
    "    r, err,x = getRatio(df['GiBUU_%s'%target],df['GiBUU_D'],df_trigger['GiBUU_%s_trigger'%target],df_trigger['GiBUU_D_trigger']\n",
    "                       ,variable='dipion_pt',minz=0.0,maxz=1.8,nbins=12,pair_cut='and z_asso>0.15'\n",
    "                       )\n",
    "    plt.fill_between(x,r,r-err,r+err,label='GiBUU %s'%target,alpha=0.5)\n",
    "\n",
    "\n",
    "plt.legend(frameon=False)\n",
    "plt.xlabel('Dipion transverse momentum (GeV)',fontsize=18)\n",
    "plt.ylabel('$R_{2h}$',fontsize=18)\n",
    "plt.axhline(y=1.0,color='black',linestyle='--')\n",
    "\n",
    "plt.tight_layout()\n",
    "plt.savefig('MainResult_withGiBUU_mass.png')"
   ]
  },
  {
   "cell_type": "markdown",
   "metadata": {},
   "source": [
    "## Results vs GiBUU (momentum P2)"
   ]
  },
  {
   "cell_type": "code",
   "execution_count": null,
   "metadata": {},
   "outputs": [],
   "source": [
    "fig = plt.figure(figsize=(8,6))\n",
    "\n",
    "\n",
    "for target in ['C','Fe','Pb']:\n",
    "    r, err,x = getRatio(df['%s'%target], df['D_%s'%target], df_trigger['%s_trigger'%target], df_trigger['D_%s_trigger'%target]\n",
    "                       ,variable='P_asso',minz=0.250,maxz=1.0,nbins=7\n",
    "                       )\n",
    "    plt.errorbar(x,r,yerr=err,label='This work, %s'%target,ms=8,fmt='o',alpha=0.8)\n",
    "\n",
    "    r, err,x = getRatio(df['GiBUU_%s'%target],df['GiBUU_D'],df_trigger['GiBUU_%s_trigger'%target],df_trigger['GiBUU_D_trigger']\n",
    "                       ,variable='P_asso',minz=0.250,maxz=1.0,nbins=7\n",
    "                       )\n",
    "    plt.fill_between(x,r,r-err,r+err,label='GiBUU %s'%target,alpha=0.5)\n",
    "\n",
    "#plt.xscale('log')\n",
    "plt.legend(frameon=False)\n",
    "plt.xlabel('$P_{2}$ (GeV)',fontsize=18)\n",
    "plt.ylabel('$R_{2h}$',fontsize=18)\n",
    "plt.axhline(y=1.0,color='black',linestyle='--')\n",
    "\n",
    "plt.tight_layout()\n",
    "plt.savefig('GiBUU_Momentum.png')"
   ]
  },
  {
   "cell_type": "markdown",
   "metadata": {},
   "source": [
    "## Results vs GiBUU (ztot)"
   ]
  },
  {
   "cell_type": "code",
   "execution_count": null,
   "metadata": {},
   "outputs": [],
   "source": [
    "fig = plt.figure(figsize=(8,6))\n",
    "\n",
    "\n",
    "for target in ['C','Fe','Pb']:\n",
    "    r, err,x = getRatio(df['%s'%target], df['D_%s'%target], df_trigger['%s_trigger'%target], df_trigger['D_%s_trigger'%target]\n",
    "                       ,variable='z_tot',minz=0.56,maxz=1.0,nbins=15\n",
    "                       )\n",
    "    plt.errorbar(x,r,yerr=err,label='This work, %s'%target,ms=8,fmt='o',alpha=0.8)\n",
    "\n",
    "    r, err,x = getRatio(df['GiBUU_%s'%target],df['GiBUU_D'],df_trigger['GiBUU_%s_trigger'%target],df_trigger['GiBUU_D_trigger']\n",
    "                       ,variable='z_tot',minz=0.56,maxz=1.0,nbins=15\n",
    "                       )\n",
    "    plt.fill_between(x,r,r-err,r+err,label='GiBUU %s'%target,alpha=0.5)\n",
    "\n",
    "plt.xscale('log')\n",
    "plt.legend(frameon=False)\n",
    "plt.xlabel('$z_{tot}$',fontsize=18)\n",
    "plt.ylabel('$R_{2h}$',fontsize=18)\n",
    "plt.axhline(y=1.0,color='black',linestyle='--')\n",
    "\n",
    "plt.tight_layout()\n",
    "plt.savefig('GiBUU_Momentum.png')"
   ]
  },
  {
   "cell_type": "markdown",
   "metadata": {},
   "source": [
    "## Results vs GiBUU (Nu)"
   ]
  },
  {
   "cell_type": "code",
   "execution_count": null,
   "metadata": {},
   "outputs": [],
   "source": [
    "fig = plt.figure(figsize=(8,6))\n",
    "\n",
    "\n",
    "for target in ['C','Fe','Pb']:\n",
    "    r, err,x = getRatio(df['%s'%target], df['D_%s'%target], df_trigger['%s_trigger'%target], df_trigger['D_%s_trigger'%target]\n",
    "                       ,variable='Nu',minz=2.4,maxz=5,nbins=5,pair_cut='and z_asso>0.1'\n",
    "                       )\n",
    "    plt.errorbar(x,r,yerr=err,label='This work, %s'%target,ms=8,fmt='o',alpha=0.8)\n",
    "\n",
    "    r, err,x = getRatio(df['GiBUU_%s'%target],df['GiBUU_D'],df_trigger['GiBUU_%s_trigger'%target],df_trigger['GiBUU_D_trigger']\n",
    "                       ,variable='Nu',minz=2.4,maxz=5,nbins=5,pair_cut='and z_asso>0.1'\n",
    "                       )\n",
    "    plt.fill_between(x,r,r-err,r+err,label='GiBUU %s'%target,alpha=0.5)\n",
    "\n",
    "plt.legend(frameon=False)\n",
    "plt.xlabel('Nu (GeV)',fontsize=18)\n",
    "plt.ylabel('$R_{2h}$',fontsize=18)\n",
    "#plt.axhline(y=1.0,color='black',linestyle='--')\n",
    "\n",
    "plt.tight_layout()\n",
    "plt.savefig('GiBUU_Nu.png')"
   ]
  },
  {
   "cell_type": "markdown",
   "metadata": {},
   "source": [
    "## Results vs GiBUU (Q2)"
   ]
  },
  {
   "cell_type": "code",
   "execution_count": null,
   "metadata": {},
   "outputs": [],
   "source": [
    "fig = plt.figure(figsize=(8,6))\n",
    "\n",
    "\n",
    "for target in ['C','Fe','Pb']:\n",
    "    r, err,x = getRatio(df['%s'%target], df['D_%s'%target], df_trigger['%s_trigger'%target], df_trigger['D_%s_trigger'%target]\n",
    "                       ,variable='Q2',minz=1.0,maxz=4.0,nbins=8,pair_cut='and z_asso>0.1'\n",
    "                       )\n",
    "    plt.errorbar(x,r,yerr=err,label='This work, %s'%target,ms=8,fmt='o',alpha=0.8)\n",
    "\n",
    "    r, err,x = getRatio(df['GiBUU_%s'%target],df['GiBUU_D'],df_trigger['GiBUU_%s_trigger'%target],df_trigger['GiBUU_D_trigger']\n",
    "                       ,variable='Q2',minz=1.0,maxz=4.0,nbins=8,pair_cut='and z_asso>0.1'\n",
    "                       )\n",
    "    plt.fill_between(x,r,r-err,r+err,label='GiBUU %s'%target,alpha=0.5)\n",
    "\n",
    "plt.legend(frameon=False)\n",
    "plt.xlabel('$Q^{2}$ (GeV$^{2}$)',fontsize=18)\n",
    "plt.ylabel('$R_{2h}$',fontsize=18)\n",
    "#plt.axhline(y=1.0,color='black',linestyle='--')\n",
    "\n",
    "plt.tight_layout()\n",
    "plt.savefig('GiBUU_Nu.png')"
   ]
  },
  {
   "cell_type": "markdown",
   "metadata": {},
   "source": [
    "## R2h in mass bins"
   ]
  },
  {
   "cell_type": "code",
   "execution_count": null,
   "metadata": {},
   "outputs": [],
   "source": [
    "fig, axs = plt.subplots(1, 3,sharex=True, sharey=True, figsize=(16,6), gridspec_kw={'hspace': 0, 'wspace':0})\n",
    "\n",
    "\n",
    "mpl.rcParams['axes.labelsize'] = 17\n",
    "mpl.rcParams['lines.linewidth'] = 3\n",
    "mpl.rcParams['lines.markersize'] = 8\n",
    "mpl.rcParams['errorbar.capsize'] = 5\n",
    "mpl.rcParams['legend.fontsize']= 15\n",
    "\n",
    "for target in ['C','Fe','Pb']:\n",
    "    r, err,x   = getRatio(df[target], df['D_%s'%target], \n",
    "                          df_trigger['%s_trigger'%target], df_trigger['D_%s_trigger'%target],\n",
    "                          pair_cut='and mass<0.6 and mass>0.3')\n",
    "    axs[0].errorbar(x,r,yerr=err,label='%s'%target)\n",
    "axs[0].set_title('0.3< $M_{\\pi\\pi}$ <0.6 GeV',fontsize=16)\n",
    "for target in ['C','Fe','Pb']:\n",
    "    r, err, x  = getRatio(df['GiBUU_%s'%target],df['GiBUU_D'],df_trigger['GiBUU_%s_trigger'%target],df_trigger['GiBUU_D_trigger'],\n",
    "                 trig_cut='z>0.5', pair_cut='and mass<0.6 and mass>0.3')\n",
    "    axs[0].errorbar(x,r,yerr=err,label='GiBUU %s'%target,ms=0,lw=1)\n",
    "\n",
    "axs[0].axhline(y=1.0,color='black',linestyle='--')\n",
    "axs[0].legend(frameon=False)\n",
    "plt.xlim([0.0,0.5])\n",
    "\n",
    "for target in ['C','Fe','Pb']:\n",
    "    r, err,x   = getRatio(df[target], df['D_%s'%target], \n",
    "                          df_trigger['%s_trigger'%target], df_trigger['D_%s_trigger'%target],\n",
    "                          pair_cut='and mass>0.6 and mass<1.0')\n",
    "    axs[1].errorbar(x,r,yerr=err,label='%s'%target)\n",
    "axs[1].set_title('0.6< $M_{\\pi\\pi}$ <1.0 GeV',fontsize=16)\n",
    "for target in ['C','Fe','Pb']:\n",
    "    r, err, x  = getRatio(df['GiBUU_%s'%target],df['GiBUU_D'],df_trigger['GiBUU_%s_trigger'%target],df_trigger['GiBUU_D_trigger'],\n",
    "                 trig_cut='z>0.5', pair_cut='and mass>0.6 and mass<1.0')\n",
    "    axs[1].errorbar(x,r,yerr=err,label='GiBUU %s'%target,ms=0,lw=1)\n",
    "\n",
    "axs[1].axhline(y=1.0,color='black',linestyle='--')\n",
    "axs[1].legend(frameon=False)\n",
    "plt.xlim([0.0,0.5])\n",
    "\n",
    "\n",
    "for target in ['C','Fe','Pb']:\n",
    "    r, err,x   = getRatio(df[target], df['D_%s'%target], \n",
    "                          df_trigger['%s_trigger'%target], df_trigger['D_%s_trigger'%target],\n",
    "                          pair_cut='and mass>1.0 and mass<1.5')\n",
    "    axs[2].errorbar(x,r,yerr=err,label='%s'%target)\n",
    "axs[2].set_title('1.0< $M_{\\pi\\pi}$ <1.5 GeV',fontsize=16)\n",
    "for target in ['C','Fe']:\n",
    "    r, err, x  = getRatio(df['GiBUU_%s'%target],df['GiBUU_D'],df_trigger['GiBUU_%s_trigger'%target],df_trigger['GiBUU_D_trigger'],\n",
    "                 trig_cut='z>0.5', pair_cut='and mass>1.0 and mass<1.5')\n",
    "    axs[2].errorbar(x,r,yerr=err,label='GiBUU %s'%target,ms=0,lw=1)\n",
    "\n",
    "axs[2].axhline(y=1.0,color='black',linestyle='--')\n",
    "axs[2].legend(frameon=False)\n",
    "plt.xlim([0.0,0.5])\n",
    "plt.ylim([0.5,2.5])\n",
    "\n",
    "\n",
    "\n",
    "axs[0].xaxis.set_label_text('$z_{2}$',fontsize=18)\n",
    "axs[1].xaxis.set_label_text('$z_{2}$',fontsize=18)\n",
    "axs[2].xaxis.set_label_text('$z_{2}$',fontsize=18)\n",
    "\n",
    "axs[0].yaxis.set_label_text('$R_{2h}$',fontsize=18)\n",
    "\n",
    "plt.tight_layout()\n",
    "plt.savefig('R2h_massdependence.png')\n",
    "plt.show()"
   ]
  },
  {
   "cell_type": "markdown",
   "metadata": {},
   "source": [
    "## Compare results with and without z_tot<0.8 cut"
   ]
  },
  {
   "cell_type": "code",
   "execution_count": null,
   "metadata": {},
   "outputs": [],
   "source": [
    "fig, axs = plt.subplots(1, 2, sharey=True, figsize=(12,6), gridspec_kw={'hspace': 0, 'wspace':0})\n",
    "\n",
    "for target in ['C','Fe','Pb']:\n",
    "    r, err, x = getRatio(df[target],df['D_%s'%target],df_trigger['%s_trigger'%target],df_trigger['D_%s_trigger'%target],nbins=24,variable='z_asso')\n",
    "    axs[0].errorbar(x,r,yerr=err,label=target,fmt='o',ms=8,lw=3,capsize=5)\n",
    "    r, err, x  = getRatio(df['GiBUU_%s'%target],df['GiBUU_D'],df_trigger['GiBUU_%s_trigger'%target],df_trigger['GiBUU_D_trigger'],\n",
    "                          )\n",
    "    axs[0].fill_between(x,r+err,r-err,label='GiBUU %s'%target,alpha=0.5)\n",
    "\n",
    "    r, err, x = getRatio(df[target],df['D_%s'%target],df_trigger['%s_trigger'%target],df_trigger['D_%s_trigger'%target],nbins=24,variable='z_asso',pair_cut=' and z_tot<0.8')\n",
    "    axs[1].errorbar(x,r,yerr=err,label=target,fmt='o',mfc='white',ms=8,lw=3,capsize=5)\n",
    "    r, err, x  = getRatio(df['GiBUU_%s'%target],df['GiBUU_D'],df_trigger['GiBUU_%s_trigger'%target],df_trigger['GiBUU_D_trigger'],\n",
    "                         pair_cut=' and z_tot<0.80')\n",
    "    axs[1].fill_between(x,r+err,r-err,label='GiBUU %s'%target,alpha=0.5)\n",
    "    \n",
    "    \n",
    "axs[1].axhline(y=1.0,color='black',linestyle='--')\n",
    "axs[0].axhline(y=1.0,color='black',linestyle='--')\n",
    "\n",
    "axs[1].set_title('with $z_1+z_2<$0.8', fontsize=13)\n",
    "axs[0].set_title('no cut ', fontsize=13)\n",
    "\n",
    "axs[0].legend()\n",
    "axs[1].legend()\n",
    "\n",
    "plt.tight_layout()\n",
    "plt.savefig('ExclusiveCutVariation.png')\n",
    "plt.show()"
   ]
  },
  {
   "cell_type": "markdown",
   "metadata": {},
   "source": [
    "## Checking the dependency of the ratios on varios things like the charged of leading pion, subleading pion; Q2 and Nu"
   ]
  },
  {
   "cell_type": "code",
   "execution_count": null,
   "metadata": {},
   "outputs": [],
   "source": [
    "\n",
    "for target in ['C','Fe','Pb']:\n",
    "    fig, axs = plt.subplots(1, 2, sharey=True, figsize=(12,6), gridspec_kw={'hspace': 0, 'wspace':0})\n",
    "  \n",
    "    printPairBreakdown(df['%s'%target])\n",
    "\n",
    "    ##Negative associated hadron\n",
    "    r, err, x  = getRatio(df['%s'%target],df['D_%s'%target],df_trigger['%s_trigger'%target],\n",
    "                          df_trigger['D_%s_trigger'%target],trig_cut='pid>0 and z<0.7', pair_cut='and pid_asso>0',maxz=0.4)\n",
    "    axs[0].errorbar(x,r,yerr=err,label='%s, +/+'%target,fmt='o',ms=8,lw=3,capsize=5)\n",
    "    \n",
    "    r, err, x  = getRatio(df['%s'%target],df['D_%s'%target],df_trigger['%s_trigger'%target],\n",
    "                          df_trigger['D_%s_trigger'%target], trig_cut = 'pid<0 and z<0.7',pair_cut='and pid_asso>0',maxz=0.4)\n",
    "    axs[0].errorbar(x,r,yerr=err,label='%s, -/+'%target,fmt='o',ms=8,lw=3,capsize=5)\n",
    "    \n",
    "    \n",
    "    r, err, x  = getRatio(df['%s'%target],df['D_%s'%target],df_trigger['%s_trigger'%target],\n",
    "                          df_trigger['D_%s_trigger'%target],trig_cut='pid>0 and z<0.7', pair_cut='and pid_asso<0',maxz=0.4)\n",
    "    axs[0].errorbar(x,r,yerr=err,label='%s, +/-'%target,fmt='o',ms=8,lw=3,capsize=5)\n",
    "    \n",
    "    #r, err, x  = getRatio(df['%s'%target],df['D_%s'%target],df_trigger['%s_trigger'%target],\n",
    "    #                      df_trigger['D_%s_trigger'%target], trig_cut = 'pid<0',pair_cut='and pid_asso<0')\n",
    "    #axs[0].errorbar(x,r,yerr=err,label='%s, -/-'%target,fmt='o',ms=8,lw=3,capsize=5)\n",
    "    \n",
    "    \n",
    "    ## no charge cut\n",
    "    #r, err, x  = getRatio(df['%s'%target],df['D_%s'%target],df_trigger['%s_trigger'%target],\n",
    "    #                      df_trigger['D_%s_trigger'%target], minz=0.07)\n",
    "    #axs[0].errorbar(x,r,yerr=err,label='%s, all'%target,fmt='o',ms=8,lw=3,capsize=5)  \n",
    "\n",
    "\n",
    "    ##GiBUU negative trigger\n",
    "    #r, err, x  = getRatio(df['GiBUU_%s'%target],df['GiBUU_D'],df_trigger['GiBUU_%s_trigger'%target],\n",
    "    #                      df_trigger['GiBUU_D_trigger'], pair_cut='and pid_asso<0')                                              \n",
    "    #axs[1].errorbar(x,r,yerr=err,label='GiBUU %s, pi- asso'%target,ms=8,lw=3,capsize=5)\n",
    "    \n",
    "    ##GiBUU positive trigger\n",
    "    #r, err, x  = getRatio(df['GiBUU_%s'%target],df['GiBUU_D'],df_trigger['GiBUU_%s_trigger'%target],\n",
    "    #                      df_trigger['GiBUU_D_trigger'], pair_cut='and pid_asso>0')                                              \n",
    "    #axs[1].errorbar(x,r,yerr=err,label='GiBUU %s, pi+ asso'%target,ms=8,lw=3,capsize=5)\n",
    "    \n",
    "    ##GiBUU all hadrons\n",
    "    #r, err, x  = getRatio(df['GiBUU_%s'%target],df['GiBUU_D'],df_trigger['GiBUU_%s_trigger'%target],\n",
    "    #                      df_trigger['GiBUU_D_trigger'])                                              \n",
    "    #axs[1].errorbar(x,r,yerr=err,label='GiBUU %s, all'%target,ms=8,lw=3,capsize=5)\n",
    "    \n",
    "    plt.ylim([0.0,1.0])\n",
    "\n",
    "\n",
    "    axs[1].axhline(y=1.0,color='black',linestyle='--')\n",
    "    axs[0].axhline(y=1.0,color='black',linestyle='--')\n",
    "\n",
    "    axs[0].legend(frameon=False)\n",
    "    axs[1].legend(frameon=False)\n",
    "\n",
    "\n",
    "    plt.savefig('ConsistencyCharge_%s.png'%target)\n",
    "    plt.show()\n",
    "    plt.clf()"
   ]
  },
  {
   "cell_type": "markdown",
   "metadata": {},
   "source": [
    "## R_2h as a function of theta"
   ]
  },
  {
   "cell_type": "code",
   "execution_count": null,
   "metadata": {},
   "outputs": [],
   "source": [
    "plt.hist(df['C'].query('pid>0')['theta_lab_asso'],bins=100,alpha=0.5,label='positive trigger')\n",
    "plt.hist(df['C'].query('pid<0')['theta_lab_asso'],bins=100,alpha=0.5,label='negative trigger')\n",
    "plt.legend()\n",
    "plt.show()"
   ]
  },
  {
   "cell_type": "code",
   "execution_count": null,
   "metadata": {},
   "outputs": [],
   "source": [
    "fig, axs = plt.subplots(1, 2, sharey=True, figsize=(12,6), gridspec_kw={'hspace': 0, 'wspace':0})\n",
    "\n",
    "\n",
    "Edges = [25,40,55,80]\n",
    "bins = [(x, y) for (x, y) in zip(Edges[:-1], Edges[1:])]\n",
    "for target in ['Fe']:\n",
    "    for j, ibin in enumerate(bins):\n",
    "\n",
    "        pair_cut = 'and theta_lab_asso>%2.2f and theta_lab_asso<=%2.2f'%(ibin[0],ibin[1])\n",
    "        label = '%2.0f$<\\Theta<$%2.0f, D'%(ibin[0],ibin[1])\n",
    "\n",
    "    \n",
    "    ##Positive trigger\n",
    "        r, err, x  = getRatio(df['%s'%target],df['D_%s'%target],df_trigger['%s_trigger'%target],\n",
    "                          df_trigger['D_%s_trigger'%target],trig_cut='pid>0', \n",
    "                          pair_cut=pair_cut,minz=0.07,nbins=8)\n",
    "        axs[0].errorbar(x,r,yerr=err,fmt='o',ms=8,lw=3,capsize=5,label=label)\n",
    "        \n",
    "        ##negative trigger\n",
    "        \n",
    "        r, err, x  = getRatio(df['%s'%target],df['D_%s'%target],df_trigger['%s_trigger'%target],\n",
    "                          df_trigger['D_%s_trigger'%target],trig_cut='pid<0', \n",
    "                          pair_cut=pair_cut,minz=0.07,nbins=8)\n",
    "        axs[1].errorbar(x,r,yerr=err,fmt='o',ms=8,lw=3,capsize=5,label=label)\n",
    "        \n",
    "axs[0].legend(frameon=False,fontsize=12,ncol=2)\n",
    "axs[1].legend(frameon=False,fontsize=12,ncol=1)    \n",
    "\n",
    "\n"
   ]
  },
  {
   "cell_type": "markdown",
   "metadata": {},
   "source": [
    "## z2 distribution breakdown for pi+ and pi- for all nuclei"
   ]
  },
  {
   "cell_type": "code",
   "execution_count": null,
   "metadata": {},
   "outputs": [],
   "source": [
    "fig = plt.figure( figsize=(12, 10))\n",
    "\n",
    "for i, target in enumerate(['D','C','Fe','Pb']):\n",
    "    plt.subplot(2,2,i+1)\n",
    "    plt.hist(df[target].query('z>0.5 and pid_asso>0')['z_asso'], bins=100,range =(0,0.5),label='$\\pi^+$',alpha=0.5)\n",
    "    plt.hist(df[target].query('z>0.5 and pid_asso<0')['z_asso'], bins=100,range =(0,0.5),label='$\\pi^-$',alpha=0.5)\n",
    "\n",
    "    plt.title('%s, Conditional for $z_{1}>0.5$'%target)\n",
    "    plt.ylabel('pairs',fontsize=16)\n",
    "    plt.xlabel('$z_{2}$',fontsize=16)\n",
    "    plt.legend(frameon=False)    \n",
    "\n",
    "plt.savefig('ConditionalDistribution_z2_BothPions.png')"
   ]
  },
  {
   "cell_type": "markdown",
   "metadata": {},
   "source": [
    "# z distribution of triggers by charge"
   ]
  },
  {
   "cell_type": "code",
   "execution_count": null,
   "metadata": {},
   "outputs": [],
   "source": [
    "fig = plt.figure( figsize=(12, 10))\n",
    "\n",
    "for i, target in enumerate(['D','C','Fe','Pb']):\n",
    "    plt.subplot(2,2,i+1)\n",
    "    plt.hist(df_trigger['%s_trigger'%target].query('z>0.5 and pid>0')['z'], bins=100,range =(0.5,1.0),label='$\\pi^+$',alpha=0.5)\n",
    "    plt.hist(df_trigger['%s_trigger'%target].query('z>0.5 and pid<0')['z'], bins=100,range =(0.5,1.0),label='$\\pi^-$',alpha=0.5)\n",
    "\n",
    "    plt.ylabel('pairs',fontsize=16)\n",
    "    plt.xlabel('$z_{1}$',fontsize=16)\n",
    "    plt.legend(frameon=False)    \n",
    "\n",
    "plt.savefig('Triggers.png')"
   ]
  },
  {
   "cell_type": "markdown",
   "metadata": {},
   "source": [
    "## Distributions\n"
   ]
  },
  {
   "cell_type": "code",
   "execution_count": null,
   "metadata": {},
   "outputs": [],
   "source": [
    "fig, axs = plt.subplots(1, 2,figsize=(15,6),sharey=True,gridspec_kw={'hspace': 0, 'wspace':0})\n",
    "\n",
    "for target in ['D','C','Fe','Pb']:\n",
    "    axs[0].hist(df['GiBUU_%s_trigger'%target]['z_asso'],bins=50,normed=True,range=(0.0,0.5),lw=2,label='GiBUU, %s'%target,histtype='step')\n",
    "    axs[1].hist(df['%s_trigger'%target]['z_asso'],bins=50,normed=True,range=(0.0,0.5),lw=2,label=' %s'%target,histtype='step')\n",
    "\n",
    "axs[0].legend(frameon=False)\n",
    "axs[1].legend(frameon=False)\n",
    "\n",
    "axs[0].xaxis.set_label_text('$z_{2}$',fontsize=15)\n",
    "axs[1].xaxis.set_label_text('$z_{2}$',fontsize=15)\n",
    "\n",
    "axs[0].yaxis.set_label_text(\"normalized units\", fontsize=15)\n",
    "axs[0].set_title('Events with a leading pion $z_{1}>0.5$',fontsize=15)\n",
    "axs[1].set_title('Events with a leading pion $z_{1}>0.5$',fontsize=15)\n",
    "\n",
    "plt.show()"
   ]
  },
  {
   "cell_type": "code",
   "execution_count": null,
   "metadata": {},
   "outputs": [],
   "source": [
    "fig, axs = plt.subplots(1, 2,figsize=(15,6),sharey=True,gridspec_kw={'hspace': 0, 'wspace':0})\n",
    "\n",
    "for target in ['D','C','Fe','Pb']:\n",
    "    axs[0].hist(df['GiBUU_%s'%target]['P_asso'],bins=50,normed=True,range=(0.0,2.0),lw=2,label='GiBUU, %s'%target,histtype='step')\n",
    "    axs[1].hist(df['%s'%target]['P_asso'],bins=50,normed=True,range=(0.0,2.0),lw=2,label=' %s'%target,histtype='step')\n",
    "\n",
    "axs[0].legend(frameon=False)\n",
    "axs[1].legend(frameon=False)\n",
    "\n",
    "axs[0].xaxis.set_label_text('$P_{2}$ (GeV)',fontsize=18)\n",
    "axs[1].xaxis.set_label_text('$P_{2}$ (GeV)',fontsize=18)\n",
    "\n",
    "axs[0].yaxis.set_label_text(\"normalized units\", fontsize=18)\n",
    "axs[0].set_title('Events with a leading pion $z_{1}>0.5$',fontsize=15)\n",
    "axs[1].set_title('Events with a leading pion $z_{1}>0.5$',fontsize=15)\n",
    "\n",
    "plt.show()"
   ]
  },
  {
   "cell_type": "code",
   "execution_count": null,
   "metadata": {},
   "outputs": [],
   "source": [
    "fig, axs = plt.subplots(1, 2,figsize=(15,6),sharey=True,gridspec_kw={'hspace': 0, 'wspace':0})\n",
    "\n",
    "for target in ['D','C','Fe','Pb']:\n",
    "    axs[0].hist(df_trigger['GiBUU_%s_trigger'%target]['Nu'],bins=50,normed=True,range=(2.0,5.0),lw=2,label='GiBUU, %s'%target,histtype='step')\n",
    "    axs[1].hist(df_trigger['%s_trigger'%target]['Nu'],bins=50,normed=True,range=(2.0,5.0),lw=2,label=' %s'%target,histtype='step')\n",
    "\n",
    "axs[0].legend(frameon=False)\n",
    "axs[1].legend(frameon=False)\n",
    "\n",
    "axs[0].xaxis.set_label_text('Nu (GeV)',fontsize=18)\n",
    "axs[1].xaxis.set_label_text('Nu (GeV)',fontsize=18)\n",
    "\n",
    "axs[0].yaxis.set_label_text(\"normalized units\", fontsize=18)\n",
    "#axs[0].set_title('Events with a leading pion $z_{1}>0.5$',fontsize=15)\n",
    "#axs[1].set_title('Events with a leading pion $z_{1}>0.5$',fontsize=15)\n",
    "\n",
    "plt.show()"
   ]
  },
  {
   "cell_type": "code",
   "execution_count": null,
   "metadata": {},
   "outputs": [],
   "source": [
    "fig, axs = plt.subplots(1, 2,figsize=(15,6),sharey=True,gridspec_kw={'hspace': 0, 'wspace':0})\n",
    "\n",
    "for target in ['D','C','Fe','Pb']:\n",
    "    axs[0].hist(df_trigger['GiBUU_%s_trigger'%target]['Q2'],bins=50,normed=True,range=(1.0,4.0),lw=2,label='GiBUU, %s'%target,histtype='step')\n",
    "    axs[1].hist(df_trigger['%s_trigger'%target]['Q2'],bins=50,normed=True,range=(1.0,4.0),lw=2,label=' %s'%target,histtype='step')\n",
    "\n",
    "axs[0].legend(frameon=False)\n",
    "axs[1].legend(frameon=False)\n",
    "\n",
    "axs[0].xaxis.set_label_text('Q2 (GeV2)',fontsize=18)\n",
    "axs[1].xaxis.set_label_text('Q2 (GeV2)',fontsize=18)\n",
    "\n",
    "axs[0].yaxis.set_label_text(\"normalized units\", fontsize=18)\n",
    "#axs[0].set_title('Events with a leading pion $z_{1}>0.5$',fontsize=15)\n",
    "#axs[1].set_title('Events with a leading pion $z_{1}>0.5$',fontsize=15)\n",
    "\n",
    "plt.show()"
   ]
  },
  {
   "cell_type": "code",
   "execution_count": null,
   "metadata": {},
   "outputs": [],
   "source": [
    "fig, axs = plt.subplots(1, 2,figsize=(15,6),sharey=True,gridspec_kw={'hspace': 0, 'wspace':0})\n",
    "\n",
    "for target in ['D','C','Fe','Pb']:\n",
    "    axs[0].hist(df['GiBUU_%s'%target]['z_tot'],bins=50,normed=True,range=(0.5,1.0),lw=2,label='GiBUU, %s'%target,histtype='step')\n",
    "    axs[1].hist(df['%s'%target]['z_tot'],bins=50,normed=True,range=(0.5,1.0),lw=2,label=' %s'%target,histtype='step')\n",
    "\n",
    "axs[0].legend(frameon=False)\n",
    "axs[1].legend(frameon=False)\n",
    "\n",
    "axs[0].xaxis.set_label_text('$z_{tot}$',fontsize=18)\n",
    "axs[1].xaxis.set_label_text('$z_{tot}$',fontsize=18)\n",
    "\n",
    "axs[0].yaxis.set_label_text(\"normalized units\", fontsize=18)\n",
    "axs[0].set_title('Events with a leading pion $z_{1}>0.5$',fontsize=15)\n",
    "axs[1].set_title('Events with a leading pion $z_{1}>0.5$',fontsize=15)\n",
    "\n",
    "plt.show()"
   ]
  },
  {
   "cell_type": "code",
   "execution_count": null,
   "metadata": {},
   "outputs": [],
   "source": [
    "fig, axs = plt.subplots(1, 2,figsize=(15,6),sharey=True,gridspec_kw={'hspace': 0, 'wspace':0})\n",
    "\n",
    "for target in ['D','C','Fe','Pb']:\n",
    "    axs[0].hist(df['GiBUU_%s'%target]['mass'],bins=50,normed=True,range=(0.0,2.0),lw=2,label='GiBUU, %s'%target,histtype='step')\n",
    "    axs[1].hist(df['%s'%target]['mass'],bins=50,normed=True,range=(0.0,2.0),lw=2,label=' %s'%target,histtype='step')\n",
    "\n",
    "axs[0].legend(frameon=False)\n",
    "axs[1].legend(frameon=False)\n",
    "\n",
    "axs[0].xaxis.set_label_text('Dipion mass (GeV)',fontsize=18)\n",
    "axs[1].xaxis.set_label_text('Dipion mass (GeV)',fontsize=18)\n",
    "\n",
    "axs[0].yaxis.set_label_text(\"normalized units\", fontsize=18)\n",
    "axs[0].set_title('Events with a leading pion $z_{1}>0.5$',fontsize=15)\n",
    "axs[1].set_title('Events with a leading pion $z_{1}>0.5$',fontsize=15)\n",
    "\n",
    "plt.show()"
   ]
  },
  {
   "cell_type": "code",
   "execution_count": null,
   "metadata": {},
   "outputs": [],
   "source": [
    "for target in ['C','Fe','Pb']:\n",
    "    y, x = np.histogram(df_trigger['%s_trigger'%target]['z'], bins=100,range =(0.5,1.0))\n",
    "    y_D, x = np.histogram(df_trigger['D_%s_trigger'%target]['z'], bins=100,range =(0.5,1.0))\n",
    "    x = (x[:-1] + x[1:])/2.0\n",
    "    ratio = np.true_divide(y,y_D)\n",
    "    plt.plot(x,ratio,label=target)\n",
    "\n",
    "plt.xlabel('z')\n",
    "plt.ylabel('ratio to deuterium')\n",
    "plt.legend(frameon=False)\n",
    "plt.show()\n",
    "plt.savefig('Triggers_z1distributions_RatioToD.png')"
   ]
  },
  {
   "cell_type": "code",
   "execution_count": null,
   "metadata": {},
   "outputs": [],
   "source": [
    "fig = plt.figure( figsize=(18, 4))\n",
    "\n",
    "for i, target in enumerate(['C','Fe','Pb']):\n",
    "    plt.subplot(1,3,i+1)\n",
    "    plt.hist(df_trigger['%s_trigger'%target]['z'], bins=100,range =(0.5,1.0),histtype='step', label=target)\n",
    "    plt.hist(df_trigger['D_%s_trigger'%target]['z'], bins=100,range =(0.5,1.0),histtype='step',label='D (%s)'%target)\n",
    "\n",
    "    plt.ylabel('Number of pions',fontsize=13)\n",
    "    plt.xlabel('$z_{1}$',fontsize=13)\n",
    "    plt.legend(frameon=False)    \n",
    "\n",
    "plt.savefig('Triggers_z1distributions.png')"
   ]
  },
  {
   "cell_type": "code",
   "execution_count": null,
   "metadata": {},
   "outputs": [],
   "source": [
    "plt.hexbin(df_trigger['D_trigger']['Q2'],df_trigger['D_trigger']['Nu'], cmap='inferno')\n"
   ]
  },
  {
   "cell_type": "code",
   "execution_count": null,
   "metadata": {},
   "outputs": [],
   "source": [
    "plt.hexbin(df_trigger['GiBUU_D_trigger']['Q2'],df_trigger['GiBUU_D_trigger']['Nu'],cmap='inferno')\n"
   ]
  },
  {
   "cell_type": "code",
   "execution_count": null,
   "metadata": {},
   "outputs": [],
   "source": []
  }
 ],
 "metadata": {
  "kernelspec": {
   "display_name": "Python 2",
   "language": "python",
   "name": "python2"
  },
  "language_info": {
   "codemirror_mode": {
    "name": "ipython",
    "version": 2
   },
   "file_extension": ".py",
   "mimetype": "text/x-python",
   "name": "python",
   "nbconvert_exporter": "python",
   "pygments_lexer": "ipython2",
   "version": "2.7.12"
  }
 },
 "nbformat": 4,
 "nbformat_minor": 2
}

{
 "cells": [
  {
   "cell_type": "code",
   "execution_count": 1,
   "metadata": {
    "scrolled": true
   },
   "outputs": [
    {
     "name": "stdout",
     "output_type": "stream",
     "text": [
      "Welcome to JupyROOT 6.15/01\n"
     ]
    }
   ],
   "source": [
    "import ROOT\n",
    "from ROOT import TFile\n",
    "import numpy as np\n",
    "import matplotlib as mpl\n",
    "import matplotlib.pyplot as plt\n",
    "import copy\n",
    "import pandas as pd \n",
    "import time\n",
    "from os import listdir"
   ]
  },
  {
   "cell_type": "code",
   "execution_count": 2,
   "metadata": {},
   "outputs": [],
   "source": [
    "class particle:\n",
    "    def __init__(self, pid, fourvector, virtual_photon):\n",
    "        self.virtual_photon = virtual_photon #z-axis with respect to the lab\n",
    "        Nu = virtual_photon.E()\n",
    "        Q2 = -virtual_photon.M2()\n",
    "        self.proton = ROOT.TLorentzVector()\n",
    "        self.proton.SetPxPyPzE(0,0,0, 0.938)\n",
    "        self.W = (virtual_photon + self.proton).M()\n",
    "        incoming_e = ROOT.TLorentzVector()\n",
    "        incoming_e.SetPxPyPzE(0,0,5.0,5.0)####INCONSISTENT\n",
    "        part1 = virtual_photon.Vect().Cross(incoming_e.Vect()).Unit()\n",
    "        part2 = virtual_photon.Vect().Cross(fourvector.Vect()).Unit()\n",
    "        sign  = np.sign(part1.Dot(fourvector.Vect()))\n",
    "        self.PhiPQ = sign*np.arccos(part1.Dot(part2))\n",
    "        \n",
    "        photon_pz = np.sqrt(Nu*Nu+Q2) #direction is positive by definition\n",
    "        self.bcm = photon_pz/(Nu + 0.938)#photon-nucleon center-of-mass velocity \n",
    "        self.ycm = 0.5*np.log(( 1+self.bcm)/(1-self.bcm)) #photon-nucleon center-of-mass rapidity\n",
    "        \n",
    "        self.LorentzVector = fourvector #hadron four-vector\n",
    "        self.PhiLab = self.LorentzVector.Phi()\n",
    "        self.E = self.LorentzVector.E() #energy in lab frame\n",
    "        self.vector = self.LorentzVector.Vect()\n",
    "        self.Pt = self.vector.Perp(virtual_photon.Vect().Unit()) #pT with respect to photon direction\n",
    "        self.Pl  = self.vector.Dot(virtual_photon.Vect().Unit()) #pL with respect to photon direction (in lab frame)\n",
    "        self.y =  0.5*np.log( (self.E+self.Pl)/(self.E-self.Pl)) #rapidity in lab frame\n",
    "        self.mT = np.sqrt(self.LorentzVector.M2() + self.Pt*self.Pt)\n",
    "        self.y_star = self.y - self.ycm\n",
    "        self.Pl_star = self.mT*np.sinh(self.y_star)\n",
    "        self.Xf = 2.0*self.Pl_star/self.W \n",
    "        self.pid = pid\n",
    "        self.Zh = self.E/Nu\n",
    "        self.ThetaPQ = np.arctan(self.Pt/self.Pl)\n",
    "        self.Xb = Q2/(2*0.938*Nu)\n",
    "\n",
    "        \n",
    "    def print_properties(self):\n",
    "        print 'Hello, let me introduce myself, i am particle pid = ' , self.pid\n",
    "        print 'zh = ', self.Zh, ' phi_pq= ', self.PhiPQ, ' theta_pq=' , self.ThetaPQ, 'E = ', self.E, ' xf', self.Xf,'Pt ', self.Pt, ' Pl= ', self.Pl, ' rapidity=' ,  self.y\n"
   ]
  },
  {
   "cell_type": "code",
   "execution_count": 3,
   "metadata": {},
   "outputs": [],
   "source": [
    "class mytupla:\n",
    "    def __init__(self):\n",
    "        \n",
    "        hadron_variables = ['pid','xf','z','y','ycm','pt','Q2','Xb','Nu','W','phi_pq','theta_pq',\n",
    "                             'TargType','phi_lab','theta_lab','pos_x','pos_y','pos_z']\n",
    "        \n",
    "        self.tupla_hadron = {}\n",
    "        for var in hadron_variables:\n",
    "            self.tupla_hadron[var] = []    \n",
    "            \n",
    "            \n",
    "        electron_variables = ['Q2','Xb','Nu','W','costheta']\n",
    "        self.tupla_electron = {}\n",
    "        for var in electron_variables:\n",
    "            self.tupla_electron[var] = [] "
   ]
  },
  {
   "cell_type": "code",
   "execution_count": 9,
   "metadata": {},
   "outputs": [],
   "source": [
    "\n",
    "def getDataframes(filename, Target=1,maxevents=1e9,beamenergy=5.0):\n",
    "    dphi = np.array([])\n",
    "    ParticlesFromPrevious = []\n",
    "    try:\n",
    "        myfile = TFile.Open('%s'%filename,'READ')\n",
    "    except:\n",
    "        print(\"could not open file\")\n",
    "\n",
    "        \n",
    "    myfile.Print()\n",
    "    mytree = myfile.Get('RootTuple')\n",
    "    \n",
    "    print filename, ' has ', mytree.GetEntries(), ' entries'\n",
    "    print 'The max number of events to be analyzes is ', maxevents\n",
    "    df = mytupla()    \n",
    "    \n",
    "    start = time.time()\n",
    "    for ievt  in range(mytree.GetEntries()):\n",
    "        if(ievt%1e5==0):\n",
    "            print 'Event # ', ievt\n",
    "            end = time.time()\n",
    "            print 'Processed in',  end-start, 'seconds'\n",
    "            start = time.time()\n",
    "        mytree.GetEntry(ievt)   \n",
    "        if mytree.Q2<1.0: continue\n",
    "        if ievt>maxevents: break\n",
    "        Nu = mytree.nu\n",
    "        Q2 = mytree.Q2\n",
    "        phi_e = mytree.phiL \n",
    "        E    = beamenergy\n",
    "        Eprime = E-Nu\n",
    "        \n",
    "        incoming_e = ROOT.TLorentzVector()\n",
    "        incoming_e.SetPxPyPzE(0,0,E,E)\n",
    "        \n",
    "        #scattered electron\n",
    "        scattered_e = ROOT.TLorentzVector()\n",
    "        cos_thetae = 1-Q2/(2*E*Eprime)\n",
    "        sin_thetae = np.sqrt(1-cos_thetae*cos_thetae)\n",
    "        scattered_e.SetPxPyPzE(Eprime*sin_thetae*np.cos(phi_e),\n",
    "                               Eprime*sin_thetae*np.sin(phi_e),\n",
    "                               Eprime*cos_thetae,\n",
    "                               Eprime)\n",
    "        virtual_photon  = incoming_e - scattered_e\n",
    "        virtual_photon_unitvector = virtual_photon.Vect().Unit()\n",
    "\n",
    "        proton = ROOT.TLorentzVector()\n",
    "        proton.SetPxPyPzE(0,0,0, 0.938)\n",
    "        #print virtual_photon.M2(), ' ' , Q2\n",
    "        #print virtual_photon.Vect().Mag(), ' ' , np.sqrt(Nu*Nu+Q2*Q2)\n",
    "        \n",
    "        #virtual_photon = ROOT.TLorentzVector()\n",
    "        #virtual_photon.SetPxPyPzE( 0, 0, np.sqrt(Nu*Nu+Q2*Q2),Nu)  #lab frame but with z in photon direction \n",
    "        #cos_thetaphoton = E -Eprime\n",
    "        \n",
    "        #need to rotate to lab frame with z aligned with beam frame\n",
    "        #virtual_photon.Rotate()\n",
    "        #### virtual photon \n",
    "        #electron in lab frame = (0,0,E,E)\n",
    "        #scattered electron in lab frame = (E'sintheta*cosphi,E'sintheta'sinphi,E'costheta,E')\n",
    "        \n",
    "        #Q2= 2EE'(1-cos_thetae)\n",
    "        # cos_thetae =1- Q2/2EE'\n",
    "\n",
    "        #photon in lab frame is e-e'\n",
    "        # (-E'sintheta*cosphi, -E'sintheta*sinphi, E-E'costheta, E-E')\n",
    "        \n",
    "        #cos_thetaphoton = (E- E'*costheta)/(E-E')\n",
    "        #cos_thetaphoton = (E- E'*(1- Q2/2EE'))/(E-E')\n",
    "        #sin_thetaphoton = sqrt(1-cos_thetaphoton*cos_thetaphoton)\n",
    "        #Thus, photon pT in lab frame with z-lepton direction is:\n",
    "        #pT = E'sqrt(1-cos_thetaphoton^{2})\n",
    "        #pT = E'sqrt(1- (E- E'*(1- Q2/2EE'))/(E-E')^{2} )\n",
    "        #and finally, photon phi angle is:\n",
    "        # phi_photon = -phi_electron (given)\n",
    "        df.tupla_electron['Q2'].append(Q2)\n",
    "        df.tupla_electron['Xb'].append(0)\n",
    "        df.tupla_electron['Nu'].append(Nu)\n",
    "        df.tupla_electron['W'].append(0)\n",
    "        df.tupla_electron['costheta'].append(cos_thetae)\n",
    "        \n",
    "        for i in range(len(mytree.Px)):\n",
    "            if abs(mytree.barcode[i]) !=211: continue\n",
    "            i_lv = ROOT.TLorentzVector()    \n",
    "            i_lv.SetPxPyPzE(mytree.Px[i],mytree.Py[i],mytree.Pz[i],mytree.E[i]) #with respect to photon direction\n",
    "            i_part = particle(mytree.barcode[i], i_lv, virtual_photon)\n",
    "            if i_part.Zh > 0.0:\n",
    "                df.tupla_hadron['TargType'].append(999)\n",
    "                df.tupla_hadron['pid'].append(i_part.pid)\n",
    "                df.tupla_hadron['xf'].append(i_part.Xf)\n",
    "                df.tupla_hadron['z'].append(i_part.Zh)\n",
    "                df.tupla_hadron['y'].append(i_part.y_star)\n",
    "                df.tupla_hadron['ycm'].append(i_part.ycm)\n",
    "                df.tupla_hadron['pt'].append(i_part.LorentzVector.Pt())\n",
    "                df.tupla_hadron['phi_pq'].append(i_part.PhiPQ)\n",
    "                df.tupla_hadron['theta_pq'].append(i_part.ThetaPQ)\n",
    "                df.tupla_hadron['Q2'].append(Q2)\n",
    "                df.tupla_hadron['Xb'].append(i_part.Xb)\n",
    "                df.tupla_hadron['Nu'].append(Nu)\n",
    "                df.tupla_hadron['W'].append(i_part.W)\n",
    "                df.tupla_hadron['phi_lab'].append(i_part.LorentzVector.Phi())\n",
    "                df.tupla_hadron['theta_lab'].append(i_part.LorentzVector.Theta())\n",
    "                df.tupla_hadron['pos_x'].append(mytree.x[i])\n",
    "                df.tupla_hadron['pos_y'].append(mytree.y[i])\n",
    "                df.tupla_hadron['pos_z'].append(mytree.z[i])\n",
    "             \n",
    "        \n",
    "        \n",
    "    end = time.time()\n",
    "    print 'Processed in',  end-start, 'seconds'\n",
    "    df_hadron = pd.DataFrame(df.tupla_hadron)\n",
    "    df_electron = pd.DataFrame(df.tupla_electron)\n",
    "    return df_electron,df_hadron"
   ]
  },
  {
   "cell_type": "code",
   "execution_count": 10,
   "metadata": {},
   "outputs": [],
   "source": [
    "df = {}"
   ]
  },
  {
   "cell_type": "markdown",
   "metadata": {},
   "source": [
    "## Configuration for CLAS6"
   ]
  },
  {
   "cell_type": "code",
   "execution_count": 11,
   "metadata": {},
   "outputs": [],
   "source": [
    "nevents = 5e6\n",
    "beamenergy = 5.0\n",
    "df = {}"
   ]
  },
  {
   "cell_type": "code",
   "execution_count": 15,
   "metadata": {},
   "outputs": [
    {
     "name": "stdout",
     "output_type": "stream",
     "text": [
      "GiBUU/Lead/GiBUU_Pb.root  has  1800379  entries\n",
      "The max number of events to be analyzes is  10000000.0\n",
      "Event #  0\n",
      "Processed in 0.0166640281677 seconds\n",
      "Event #  100000\n",
      "Processed in 76.8442020416 seconds\n",
      "Event #  200000\n",
      "Processed in 75.0241250992 seconds\n",
      "Event #  300000\n",
      "Processed in 75.404020071 seconds\n",
      "Event #  400000\n",
      "Processed in 75.9259080887 seconds\n",
      "Event #  500000\n",
      "Processed in 75.3598201275 seconds\n",
      "Event #  600000\n",
      "Processed in 75.4503898621 seconds\n",
      "Event #  700000\n",
      "Processed in 75.766397953 seconds\n",
      "Event #  800000\n",
      "Processed in 75.2667651176 seconds\n",
      "Event #  900000\n",
      "Processed in 75.4402060509 seconds\n",
      "Event #  1000000\n",
      "Processed in 76.1215639114 seconds\n",
      "Event #  1100000\n",
      "Processed in 75.5031979084 seconds\n",
      "Event #  1200000\n",
      "Processed in 75.7081418037 seconds\n",
      "Event #  1300000\n",
      "Processed in 75.565639019 seconds\n",
      "Event #  1400000\n",
      "Processed in 75.3575320244 seconds\n",
      "Event #  1500000\n",
      "Processed in 75.8173091412 seconds\n",
      "Event #  1600000\n",
      "Processed in 76.1493859291 seconds\n",
      "Event #  1700000\n",
      "Processed in 75.6285629272 seconds\n",
      "Event #  1800000\n",
      "Processed in 75.5533139706 seconds\n",
      "Processed in 0.214272975922 seconds\n",
      "TFile: name=GiBUU/Lead/GiBUU_Pb.root, title=, option=READ\n"
     ]
    }
   ],
   "source": [
    "df['Pb_electron'], df['Pb_hadron'] = getDataframes('GiBUU/Lead/GiBUU_Pb.root',maxevents=1e7)"
   ]
  },
  {
   "cell_type": "code",
   "execution_count": 16,
   "metadata": {},
   "outputs": [
    {
     "name": "stdout",
     "output_type": "stream",
     "text": [
      "GiBUU/Iron/GiBUU_Fe.root  has  1852429  entries\n",
      "The max number of events to be analyzes is  10000000.0\n",
      "Event #  0\n",
      "Processed in 0.0284481048584 seconds\n",
      "Event #  100000\n",
      "Processed in 73.1404750347 seconds\n",
      "Event #  200000\n",
      "Processed in 72.7579450607 seconds\n",
      "Event #  300000\n",
      "Processed in 72.7498219013 seconds\n",
      "Event #  400000\n",
      "Processed in 73.0303108692 seconds\n",
      "Event #  500000\n",
      "Processed in 73.157476902 seconds\n",
      "Event #  600000\n",
      "Processed in 73.1173689365 seconds\n",
      "Event #  700000\n",
      "Processed in 72.7584309578 seconds\n",
      "Event #  800000\n",
      "Processed in 72.8067429066 seconds\n",
      "Event #  900000\n",
      "Processed in 73.3212749958 seconds\n",
      "Event #  1000000\n",
      "Processed in 73.2256269455 seconds\n",
      "Event #  1100000\n",
      "Processed in 72.5408539772 seconds\n",
      "Event #  1200000\n",
      "Processed in 73.0758519173 seconds\n",
      "Event #  1300000\n",
      "Processed in 72.9796490669 seconds\n",
      "Event #  1400000\n",
      "Processed in 73.0039129257 seconds\n",
      "Event #  1500000\n",
      "Processed in 72.9062559605 seconds\n",
      "Event #  1600000\n",
      "Processed in 72.7935709953 seconds\n",
      "Event #  1700000\n",
      "Processed in 72.8702480793 seconds\n",
      "Event #  1800000\n",
      "Processed in 72.677531004 seconds\n",
      "Processed in 38.2973778248 seconds\n",
      "TFile: name=GiBUU/Iron/GiBUU_Fe.root, title=, option=READ\n"
     ]
    }
   ],
   "source": [
    "df['Fe_electron'], df['Fe_hadron'] = getDataframes('GiBUU/Iron/GiBUU_Fe.root',maxevents=1e7)"
   ]
  },
  {
   "cell_type": "code",
   "execution_count": 17,
   "metadata": {},
   "outputs": [
    {
     "name": "stdout",
     "output_type": "stream",
     "text": [
      "GiBUU/Carbon/GiBUU_C.root  has  2566117  entries\n",
      "The max number of events to be analyzes is  10000000.0\n",
      "Event #  0\n",
      "Processed in 0.033716917038 seconds\n",
      "Event #  100000\n",
      "Processed in 70.2186279297 seconds\n",
      "Event #  200000\n",
      "Processed in 69.7237439156 seconds\n",
      "Event #  300000\n",
      "Processed in 69.38331604 seconds\n",
      "Event #  400000\n",
      "Processed in 70.141438961 seconds\n",
      "Event #  500000\n",
      "Processed in 70.0391778946 seconds\n",
      "Event #  600000\n",
      "Processed in 69.3421230316 seconds\n",
      "Event #  700000\n",
      "Processed in 70.161755085 seconds\n",
      "Event #  800000\n",
      "Processed in 70.0224199295 seconds\n",
      "Event #  900000\n",
      "Processed in 69.4658420086 seconds\n",
      "Event #  1000000\n",
      "Processed in 69.8212461472 seconds\n",
      "Event #  1100000\n",
      "Processed in 69.65152812 seconds\n",
      "Event #  1200000\n",
      "Processed in 70.5661640167 seconds\n",
      "Event #  1300000\n",
      "Processed in 70.0741090775 seconds\n",
      "Event #  1400000\n",
      "Processed in 69.5899779797 seconds\n",
      "Event #  1500000\n",
      "Processed in 69.5457019806 seconds\n",
      "Event #  1600000\n",
      "Processed in 70.1451480389 seconds\n",
      "Event #  1700000\n",
      "Processed in 70.025496006 seconds\n",
      "Event #  1800000\n",
      "Processed in 69.8802070618 seconds\n",
      "Event #  1900000\n",
      "Processed in 70.210547924 seconds\n",
      "Event #  2000000\n",
      "Processed in 69.7639219761 seconds\n",
      "Event #  2100000\n",
      "Processed in 69.3977079391 seconds\n",
      "Event #  2200000\n",
      "Processed in 70.1972649097 seconds\n",
      "Event #  2300000\n",
      "Processed in 69.6913568974 seconds\n",
      "Event #  2400000\n",
      "Processed in 69.3997290134 seconds\n",
      "Event #  2500000\n",
      "Processed in 70.2318730354 seconds\n",
      "Processed in 45.3095090389 seconds\n",
      "TFile: name=GiBUU/Carbon/GiBUU_C.root, title=, option=READ\n"
     ]
    }
   ],
   "source": [
    "df['C_electron'], df['C_hadron'] = getDataframes('GiBUU/Carbon/GiBUU_C.root',maxevents=1e7)"
   ]
  },
  {
   "cell_type": "code",
   "execution_count": 18,
   "metadata": {},
   "outputs": [
    {
     "name": "stdout",
     "output_type": "stream",
     "text": [
      "GiBUU/D/GiBUU_D.root  has  2458112  entries\n",
      "The max number of events to be analyzes is  10000000.0\n",
      "Event #  0\n",
      "Processed in 0.0596828460693 seconds\n",
      "Event #  100000\n",
      "Processed in 64.8194980621 seconds\n",
      "Event #  200000\n",
      "Processed in 74.4536631107 seconds\n",
      "Event #  300000\n",
      "Processed in 98.1022372246 seconds\n",
      "Event #  400000\n",
      "Processed in 64.7440900803 seconds\n",
      "Event #  500000\n",
      "Processed in 64.5557539463 seconds\n",
      "Event #  600000\n",
      "Processed in 64.5460510254 seconds\n",
      "Event #  700000\n",
      "Processed in 64.3870680332 seconds\n",
      "Event #  800000\n",
      "Processed in 64.4218099117 seconds\n",
      "Event #  900000\n",
      "Processed in 64.2102029324 seconds\n",
      "Event #  1000000\n",
      "Processed in 64.1644339561 seconds\n",
      "Event #  1100000\n",
      "Processed in 64.4240131378 seconds\n",
      "Event #  1200000\n",
      "Processed in 64.2790250778 seconds\n",
      "Event #  1300000\n",
      "Processed in 64.5251970291 seconds\n",
      "Event #  1400000\n",
      "Processed in 64.5037689209 seconds\n",
      "Event #  1500000\n",
      "Processed in 64.3932387829 seconds\n",
      "Event #  1600000\n",
      "Processed in 64.753123045 seconds\n",
      "Event #  1700000\n",
      "Processed in 64.852725029 seconds\n",
      "Event #  1800000\n",
      "Processed in 64.2116029263 seconds\n",
      "Event #  1900000\n",
      "Processed in 64.5299739838 seconds\n",
      "Event #  2000000\n",
      "Processed in 64.2089641094 seconds\n",
      "Event #  2100000\n",
      "Processed in 64.7965509892 seconds\n",
      "Event #  2200000\n",
      "Processed in 64.3365218639 seconds\n",
      "Event #  2300000\n",
      "Processed in 64.4076449871 seconds\n",
      "Event #  2400000\n",
      "Processed in 64.4489989281 seconds\n",
      "Processed in 37.3877401352 seconds\n",
      "TFile: name=GiBUU/D/GiBUU_D.root, title=, option=READ\n"
     ]
    }
   ],
   "source": [
    "df['D_electron'], df['D_hadron'] = getDataframes('GiBUU/D/GiBUU_D.root',maxevents=1e7)"
   ]
  },
  {
   "cell_type": "code",
   "execution_count": 19,
   "metadata": {},
   "outputs": [],
   "source": [
    "import root_pandas\n",
    "from root_pandas import read_root\n",
    "from root_pandas import to_root "
   ]
  },
  {
   "cell_type": "markdown",
   "metadata": {},
   "source": [
    "## Save dataframes to ROOT files"
   ]
  },
  {
   "cell_type": "code",
   "execution_count": 20,
   "metadata": {},
   "outputs": [],
   "source": [
    "to_root(df['D_electron'],'GiBUU_SingleHadron_D.root', key='D_electron')\n",
    "to_root(df['D_hadron'],'GiBUU_SingleHadron_D.root', key='D_hadron', mode='a')"
   ]
  },
  {
   "cell_type": "code",
   "execution_count": 21,
   "metadata": {},
   "outputs": [],
   "source": [
    "to_root(df['C_electron'],'GiBUU_SingleHadron_C.root', key='C_electron')\n",
    "to_root(df['C_hadron'],'GiBUU_SingleHadron_C.root', key='C_hadron', mode='a')"
   ]
  },
  {
   "cell_type": "code",
   "execution_count": 22,
   "metadata": {},
   "outputs": [],
   "source": [
    "to_root(df['Fe_electron'],'GiBUU_SingleHadron_Fe.root', key='Fe_electron')\n",
    "to_root(df['Fe_hadron'],'GiBUU_SingleHadron_Fe.root', key='Fe_hadron', mode='a')"
   ]
  },
  {
   "cell_type": "code",
   "execution_count": 23,
   "metadata": {},
   "outputs": [],
   "source": [
    "to_root(df['Pb_electron'],'GiBUU_SingleHadron_Pb.root', key='Pb_electron')\n",
    "to_root(df['Pb_hadron'],'GiBUU_SingleHadron_Pb.root', key='Pb_hadron', mode='a')"
   ]
  },
  {
   "cell_type": "markdown",
   "metadata": {},
   "source": [
    "## Check simulated data"
   ]
  },
  {
   "cell_type": "code",
   "execution_count": 24,
   "metadata": {},
   "outputs": [
    {
     "data": {
      "image/png": "[encoded data removed]",
      "text/plain": [
       "<matplotlib.figure.Figure at 0x7fea85514f10>"
      ]
     },
     "metadata": {
      "needs_background": "light"
     },
     "output_type": "display_data"
    }
   ],
   "source": [
    "df['Pb_hadron'].hist(figsize=(15, 15),normed=True,alpha=0.5,bins=100)\n",
    "plt.show()"
   ]
  },
  {
   "cell_type": "code",
   "execution_count": null,
   "metadata": {},
   "outputs": [],
   "source": [
    "df['Fe'].hist(figsize=(15, 15),normed=True,alpha=0.5,bins=100)\n",
    "plt.show()"
   ]
  },
  {
   "cell_type": "code",
   "execution_count": null,
   "metadata": {},
   "outputs": [],
   "source": [
    "df['D'].hist(figsize=(15, 15),normed=True,alpha=0.5,bins=20)\n",
    "\n",
    "plt.show()"
   ]
  },
  {
   "cell_type": "code",
   "execution_count": null,
   "metadata": {},
   "outputs": [],
   "source": [
    "D_electrons = df['D'].query('Q2>1.0 and Q2<4.0').shape[0]\n",
    "y_D, x  = np.histogram(df['D_trigger'].query('Q2>1.0 and Q2<4.0')['z'],bins=15,range=(0.1,0.9))\n",
    "\n",
    "denominator = np.true_divide(y_D,D_electrons)\n",
    "\n",
    "for nuclei in ['C','Fe','Pb']:\n",
    "    A_electrons = df[nuclei].query('Q2>1.0 and Q2<4.0').shape[0]\n",
    "    y_A, x  = np.histogram(df['%s_trigger'%nuclei].query('Q2>1.0 and Q2<4.0')['z'],bins=15,range=(0.1,0.9))\n",
    "    x = (x[1:] + x[:-1])/2.0\n",
    "\n",
    "    numerator = np.true_divide(y_A,A_electrons)\n",
    "    ratio = np.divide(numerator, denominator)\n",
    "    plt.errorbar(x, ratio, marker='o')\n",
    "\n",
    "plt.show()"
   ]
  },
  {
   "cell_type": "code",
   "execution_count": null,
   "metadata": {},
   "outputs": [],
   "source": [
    "print y_D\n",
    "print y_Fe\n",
    "print D_electrons\n",
    "print Fe_electrons\n",
    "print np.divide(y_D,D_electrons)\n",
    "print np.divide(y_Fe,Fe_electrons)"
   ]
  },
  {
   "cell_type": "code",
   "execution_count": null,
   "metadata": {},
   "outputs": [],
   "source": [
    "\n",
    "denominator = np.divide(y_D,D_electrons)\n",
    "numerator = np.divide(y_Fe,Fe_electrons)\n",
    "ratio = np.divide(numerator, denominator)\n",
    "plt.errorbar(x, ratio, marker='o')\n",
    "\n",
    "plt.ylim([0.2,1.4])\n",
    "plt.show()"
   ]
  },
  {
   "cell_type": "code",
   "execution_count": null,
   "metadata": {},
   "outputs": [],
   "source": [
    "y_D, x , _  = plt.hist(df['D'].query('Q2>1.5 and Q2<2.0')['Xb'],bins=5,range=(0.1,0.7),normed=True,alpha=0.7,label='D')\n",
    "y_Fe, x , _  = plt.hist(df['Fe'].query('Q2>1.5 and Q2<2.0')['Xb'],bins=5,range=(0.1,0.7),normed=True,alpha=0.7,label='Fe')\n",
    "x = (x[1:] + x[:-1])/2.0\n"
   ]
  },
  {
   "cell_type": "code",
   "execution_count": null,
   "metadata": {},
   "outputs": [],
   "source": [
    "plt.errorbar(x, y_D, marker='o')\n",
    "plt.errorbar(x, y_Fe, marker='o')\n"
   ]
  },
  {
   "cell_type": "code",
   "execution_count": null,
   "metadata": {},
   "outputs": [],
   "source": [
    "plt.errorbar(x, np.divide(y_Fe, y_D), marker='o')\n",
    "\n"
   ]
  },
  {
   "cell_type": "code",
   "execution_count": null,
   "metadata": {},
   "outputs": [],
   "source": []
  }
 ],
 "metadata": {
  "kernelspec": {
   "display_name": "Python 2",
   "language": "python",
   "name": "python2"
  },
  "language_info": {
   "codemirror_mode": {
    "name": "ipython",
    "version": 2
   },
   "file_extension": ".py",
   "mimetype": "text/x-python",
   "name": "python",
   "nbconvert_exporter": "python",
   "pygments_lexer": "ipython2",
   "version": "2.7.12"
  }
 },
 "nbformat": 4,
 "nbformat_minor": 2
}

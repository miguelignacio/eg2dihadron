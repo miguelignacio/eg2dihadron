{
 "cells": [
  {
   "cell_type": "code",
   "execution_count": null,
   "metadata": {},
   "outputs": [],
   "source": [
    "import ROOT\n",
    "from ROOT import TFile\n",
    "import numpy as np\n",
    "import matplotlib as mpl\n",
    "import matplotlib.pyplot as plt\n",
    "import copy\n",
    "import pandas as pd \n",
    "import time\n",
    "from os import listdir\n",
    "\n",
    "import root_pandas\n",
    "from root_pandas import read_root\n",
    "from root_pandas import to_root "
   ]
  },
  {
   "cell_type": "code",
   "execution_count": null,
   "metadata": {},
   "outputs": [],
   "source": [
    "hadron_variables = ['P','Theta','Phi','Zh','pid']\n",
    "event_variables = ['Q2','Nu','TargType']\n",
    "columns = hadron_variables + event_variables"
   ]
  },
  {
   "cell_type": "code",
   "execution_count": null,
   "metadata": {},
   "outputs": [],
   "source": [
    "#this needs to be read in chunks otherwise it uses all memory. (from https://github.com/scikit-hep/root_pandas)\n",
    "def getdatainChunks(filename,treename):\n",
    "    dataframe =pd.DataFrame()\n",
    "    for df in read_root(filename, treename, chunksize=10000,columns=columns,flatten=hadron_variables) :\n",
    "        #print df.shape[0]\n",
    "        dataframe = pd.concat([dataframe,df])\n",
    "    \n",
    "    #print dataframe.shape[0]\n",
    "    return dataframe"
   ]
  },
  {
   "cell_type": "code",
   "execution_count": null,
   "metadata": {},
   "outputs": [],
   "source": [
    "accept = {}\n",
    "thrown = {}"
   ]
  },
  {
   "cell_type": "code",
   "execution_count": null,
   "metadata": {},
   "outputs": [],
   "source": [
    "\n",
    "thrown['C'] = None\n",
    "accept['C'] = None\n",
    "\n",
    "path = '/mnt/c/Users/marratia/Linux/MC_C/'\n",
    "\n",
    "Files = listdir(path) \n",
    "print 'A total of ' , len(Files), ' files'\n",
    "\n",
    "for i , name in enumerate(Files):\n",
    "    filename = path+name\n",
    "    #print filename\n",
    "    accept['C'] = pd.concat([ accept['C'] , getdatainChunks(filename,'tree_accept')])\n",
    "    thrown['C'] = pd.concat([ thrown['C'] , getdatainChunks(filename,'tree_thrown')])\n",
    "\n",
    "    #if i>20:\n",
    "    #    break"
   ]
  },
  {
   "cell_type": "code",
   "execution_count": null,
   "metadata": {},
   "outputs": [],
   "source": [
    "thrown['D'] = None\n",
    "accept['D'] = None\n",
    "\n",
    "path = '/mnt/c/Users/marratia/Linux/MC_D/'\n",
    "\n",
    "Files = listdir(path) \n",
    "print 'A total of ' , len(Files), ' files'\n",
    "for i , name in enumerate(Files):\n",
    "    filename = path+name\n",
    "    print filename\n",
    "    accept['D'] = pd.concat([ accept['D'] , getdatainChunks(filename,'tree_accept')])\n",
    "    thrown['D'] = pd.concat([ thrown['D'] , getdatainChunks(filename,'tree_thrown')])\n",
    "\n",
    "    #if i>20:\n",
    "    #    break"
   ]
  },
  {
   "cell_type": "markdown",
   "metadata": {},
   "source": [
    "## Plot all variables in the dataframe"
   ]
  },
  {
   "cell_type": "code",
   "execution_count": null,
   "metadata": {},
   "outputs": [],
   "source": [
    "#thrown.hist(figsize=(12,12),bins=100)\n",
    "accept['D'].hist(figsize=(12,12),bins=100)\n",
    "print accept['D'].shape[0]\n",
    "plt.show()"
   ]
  },
  {
   "cell_type": "markdown",
   "metadata": {},
   "source": [
    "## Acceptance for positive pions"
   ]
  },
  {
   "cell_type": "code",
   "execution_count": null,
   "metadata": {},
   "outputs": [],
   "source": [
    "fig, axs = plt.subplots(1, 2, figsize=(12,5))\n",
    "\n",
    "\n",
    "Edges = [10,30,45,60,75,90,120,140]#,100,140]#,100]\n",
    "bins = [(x, y) for (x, y) in zip(Edges[:-1], Edges[1:])]\n",
    "hbins = np.logspace(np.log10(0.050), np.log10(1.5),12)\n",
    "\n",
    "prop_cycle = plt.rcParams['axes.prop_cycle']\n",
    "colors = prop_cycle.by_key()['color']\n",
    "\n",
    "for j, ibin in enumerate(bins):\n",
    "    query = 'pid==211 and Theta>%2.2f and Theta<=%2.2f'%(ibin[0],ibin[1])\n",
    "    num,x = np.histogram(accept['C'].query(query)['P'],bins=hbins)\n",
    "    den, x = np.histogram(thrown['C'].query(query)['P'],bins=hbins)\n",
    "    x = (x[:-1] + x[1:])/2.0\n",
    "    ratio_A = np.true_divide(num,den)\n",
    "    ratio_A_err = np.sqrt(np.true_divide(np.multiply(ratio_A,1-ratio_A),den))\n",
    "    label = '%2.0f$<\\Theta<$%2.0f, C'%(ibin[0],ibin[1])\n",
    "    axs[0].errorbar(x,y=ratio_A,yerr=ratio_A_err,label=label,color=colors[j])\n",
    "    \n",
    "    #Deuterium\n",
    "    query = 'pid==211 and Theta>%2.2f and Theta<=%2.2f'%(ibin[0],ibin[1])\n",
    "    num,x = np.histogram(accept['D'].query(query)['P'],bins=hbins)\n",
    "    den, x = np.histogram(thrown['D'].query(query)['P'],bins=hbins)\n",
    "    x = (x[:-1] + x[1:])/2.0\n",
    "    ratio_D = np.true_divide(num,den)\n",
    "    ratio_D_err = np.sqrt(np.true_divide(np.multiply(ratio_D,1-ratio_D),den))\n",
    "\n",
    "    label = '%2.0f$<\\Theta<$%2.0f, D'%(ibin[0],ibin[1])\n",
    "    #plt.ylim([0.0,1.0])\n",
    "\n",
    "    axs[0].errorbar(x,y=ratio_D,yerr=ratio_D_err, label=label,color=colors[j],ls='--')\n",
    "\n",
    "    ratio = np.true_divide(ratio_D,ratio_A)\n",
    "    axs[1].plot(x,ratio,label=label,color=colors[j],lw=2)#,marker='o')\n",
    "    \n",
    "axs[0].legend(frameon=False,fontsize=12,ncol=2)\n",
    "axs[1].legend(frameon=False,fontsize=12,ncol=1)\n",
    "axs[0].xaxis.set_label_text(\"Momentum  [GeV]\", fontsize=15)\n",
    "axs[1].xaxis.set_label_text(\"Momentum  [GeV]\", fontsize=15)\n",
    "axs[0].yaxis.set_label_text(\"Acceptance $\\pi^{+}$\", fontsize=15)\n",
    "axs[1].yaxis.set_label_text(\"Acceptance ratio $\\pi^{+}$ (D/A)\", fontsize=15)\n",
    "axs[1].fill_between(x,0.95,1.05,alpha=0.2,color='black')\n",
    "axs[1].set_ylim([0,1.4])\n",
    "axs[0].set_ylim([0,1.0])\n",
    "\n",
    "plt.tight_layout()\n",
    "plt.savefig('Acceptance_P_piplus.png')    \n",
    "plt.show()"
   ]
  },
  {
   "cell_type": "markdown",
   "metadata": {},
   "source": [
    "## Acceptance for negative pions"
   ]
  },
  {
   "cell_type": "code",
   "execution_count": null,
   "metadata": {},
   "outputs": [],
   "source": [
    "fig, axs = plt.subplots(1, 2, figsize=(12,5))\n",
    "\n",
    "\n",
    "#Edges = [25,50,75,85,100]\n",
    "Edges = [10,30,45,60,75,90,120]#,140]#,100,140]#,100]\n",
    "\n",
    "bins = [(x, y) for (x, y) in zip(Edges[:-1], Edges[1:])]\n",
    "hbins = np.logspace(np.log10(0.05), np.log10(1.5),12)\n",
    "\n",
    "prop_cycle = plt.rcParams['axes.prop_cycle']\n",
    "colors = prop_cycle.by_key()['color']\n",
    "\n",
    "for j, ibin in enumerate(bins):\n",
    "    query = 'pid==-211 and Theta>%2.2f and Theta<=%2.2f'%(ibin[0],ibin[1])\n",
    "    num,x = np.histogram(accept['C'].query(query)['P'],bins=hbins)\n",
    "    den, x = np.histogram(thrown['C'].query(query)['P'],bins=hbins)\n",
    "    x = (x[:-1] + x[1:])/2.0\n",
    "    ratio_A = np.true_divide(num,den)\n",
    "    ratio_A_err = np.sqrt(np.true_divide(np.multiply(ratio_A,1-ratio_A),den))\n",
    "\n",
    "    label = '%2.0f$<\\Theta<$%2.0f, C'%(ibin[0],ibin[1])\n",
    "    axs[0].errorbar(x,y=ratio_A,yerr=ratio_A_err,label=label,color=colors[j])\n",
    "    \n",
    "    #Deuterium\n",
    "    query = 'pid==-211 and Theta>%2.2f and Theta<=%2.2f'%(ibin[0],ibin[1])\n",
    "    num,x = np.histogram(accept['D'].query(query)['P'],bins=hbins)\n",
    "    den, x = np.histogram(thrown['D'].query(query)['P'],bins=hbins)\n",
    "    x = (x[:-1] + x[1:])/2.0\n",
    "    ratio_D = np.true_divide(num,den)\n",
    "    ratio_D_err = np.sqrt(np.true_divide(np.multiply(ratio_D,1-ratio_D),den))\n",
    "\n",
    "    label = '%2.0f$<\\Theta<$%2.0f, D'%(ibin[0],ibin[1])\n",
    "    #plt.ylim([0.0,1.0])\n",
    "\n",
    "    axs[0].errorbar(x,y=ratio_D,yerr=ratio_D_err, label=label,color=colors[j],ls='--')\n",
    "\n",
    "    ratio = np.true_divide(ratio_D,ratio_A)\n",
    "    axs[1].plot(x,ratio,label=label,color=colors[j],lw=2)#,marker='o')\n",
    "    \n",
    "axs[0].legend(frameon=False,fontsize=12,ncol=2)\n",
    "axs[1].legend(frameon=False,fontsize=12,ncol=1)\n",
    "axs[0].xaxis.set_label_text(\"Momentum  [GeV]\", fontsize=15)\n",
    "axs[1].xaxis.set_label_text(\"Momentum  [GeV]\", fontsize=15)\n",
    "axs[0].yaxis.set_label_text(\"Acceptance $\\pi^{-}$\", fontsize=15)\n",
    "axs[1].yaxis.set_label_text(\"Acceptance ratio $\\pi^{-}$ (D/A)\", fontsize=15)\n",
    "axs[1].fill_between(x,0.95,1.05,alpha=0.2,color='black')\n",
    "axs[1].set_ylim([0,1.4])\n",
    "axs[0].set_ylim([0,1.0])\n",
    "\n",
    "plt.tight_layout()\n",
    "plt.savefig('Acceptance_P_piminus.png')    \n",
    "plt.show()"
   ]
  },
  {
   "cell_type": "markdown",
   "metadata": {},
   "source": [
    "## Acceptance as a function of theta"
   ]
  },
  {
   "cell_type": "markdown",
   "metadata": {},
   "source": [
    "# Negative pions"
   ]
  },
  {
   "cell_type": "code",
   "execution_count": null,
   "metadata": {},
   "outputs": [],
   "source": [
    "query = 'pid==-211 and P>0.2 and P<1.0'\n",
    "num,x = np.histogram(accept['C'].query(query)['Theta'],range=(0,140),bins=50)\n",
    "den, x = np.histogram(thrown['C'].query(query)['Theta'],range=(0,140),bins=50)\n",
    "x = (x[:-1] + x[1:])/2.0\n",
    "ratio_C = np.true_divide(num,den)\n",
    "plt.plot(x,ratio_C,label='$\\pi^{-}$, C')\n",
    "\n",
    "num,x = np.histogram(accept['D'].query(query)['Theta'],range=(0,140),bins=50)\n",
    "den, x = np.histogram(thrown['D'].query(query)['Theta'],range=(0,140),bins=50)\n",
    "x = (x[:-1] + x[1:])/2.0\n",
    "ratio_D= np.true_divide(num,den)\n",
    "plt.plot(x,ratio_D,label='$\\pi^{-}$, D')\n",
    "\n",
    "ratio_acceptance = np.true_divide(ratio_D,ratio_C)\n",
    "plt.plot(x,ratio_acceptance,label='ratio D/C',ls='--')\n",
    "\n",
    "\n",
    "plt.title('Acceptance $\\pi^{-}$ with P>200 MeV',fontsize=15)\n",
    "plt.ylabel('$A$',fontsize=15)\n",
    "plt.xlabel('Theta (degrees)',fontsize=15)\n",
    "plt.legend(frameon=False,fontsize=15)\n",
    "#plt.ylim([0.0,1.5])\n",
    "plt.fill_between(x,0.95,1.05,alpha=0.2,color='black')\n",
    "\n",
    "plt.tight_layout()\n",
    "plt.savefig('Acceptance_Theta_negativepion.png')    \n",
    "plt.show()"
   ]
  },
  {
   "cell_type": "markdown",
   "metadata": {},
   "source": [
    "## Positive pion"
   ]
  },
  {
   "cell_type": "code",
   "execution_count": null,
   "metadata": {},
   "outputs": [],
   "source": [
    "query = 'pid==+211 and P>0.2 and P<1.0'\n",
    "num,x = np.histogram(accept['C'].query(query)['Theta'],range=(0,140),bins=50)\n",
    "den, x = np.histogram(thrown['C'].query(query)['Theta'],range=(0,140),bins=50)\n",
    "x = (x[:-1] + x[1:])/2.0\n",
    "ratio_C = np.true_divide(num,den)\n",
    "plt.plot(x,ratio_C,label='$\\pi^{+}$, C')\n",
    "\n",
    "num,x = np.histogram(accept['D'].query(query)['Theta'],range=(0,140),bins=50)\n",
    "den, x = np.histogram(thrown['D'].query(query)['Theta'],range=(0,140),bins=50)\n",
    "x = (x[:-1] + x[1:])/2.0\n",
    "ratio_D= np.true_divide(num,den)\n",
    "plt.plot(x,ratio_D,label='$\\pi^{+}$, D')\n",
    "\n",
    "ratio_acceptance = np.true_divide(ratio_D,ratio_C)\n",
    "plt.plot(x,ratio_acceptance,label='ratio D/C',ls='--')\n",
    "\n",
    "\n",
    "plt.title('Acceptance $\\pi^{+}$ with P>200 MeV',fontsize=15)\n",
    "plt.ylabel('$A$',fontsize=15)\n",
    "plt.xlabel('Theta (degrees)',fontsize=15)\n",
    "plt.legend(frameon=False,fontsize=15)\n",
    "plt.ylim([0.0,1.5])\n",
    "plt.fill_between(x,0.95,1.05,alpha=0.2,color='black')\n",
    "\n",
    "plt.tight_layout()\n",
    "plt.savefig('Acceptance_Theta_positivepion.png')    \n",
    "plt.show()"
   ]
  },
  {
   "cell_type": "markdown",
   "metadata": {},
   "source": [
    "## Show the theta-acceptance for different nu"
   ]
  },
  {
   "cell_type": "code",
   "execution_count": null,
   "metadata": {},
   "outputs": [],
   "source": [
    "Edges = [2.5,3.0,3.5,4.0,4.5]\n",
    "bins = [(x, y) for (x, y) in zip(Edges[:-1], Edges[1:])]\n",
    "\n",
    "for j, ibin in enumerate(bins):\n",
    "    query = 'pid==+211 and P>0.2 and P<0.5 and Nu>%2.2f and Nu<=%2.2f'%(ibin[0],ibin[1])\n",
    "    num,x = np.histogram(accept['C'].query(query)['Theta'],range=(0,140),bins=50)\n",
    "    den, x = np.histogram(thrown['C'].query(query)['Theta'],range=(0,140),bins=50)\n",
    "    label = '%2.1f$<nu<$%2.1f GeV'%(ibin[0],ibin[1])\n",
    "\n",
    "    x = (x[:-1] + x[1:])/2.0\n",
    "    ratio = np.true_divide(num,den)\n",
    "    \n",
    "    \n",
    "    plt.plot(x,ratio,label=label)\n",
    "\n",
    "plt.ylim([0.0,1.0])\n",
    "    \n",
    "plt.title('Acceptance for pi+ with 200<P<500 MeV',fontsize=15)\n",
    "plt.ylabel('$A$',fontsize=15)\n",
    "plt.xlabel('Theta (degrees)',fontsize=15)\n",
    "\n",
    "plt.legend(frameon=False,fontsize=15)\n",
    "plt.savefig('Acceptance_Theta_Nudependence.png')    \n",
    "plt.show()"
   ]
  },
  {
   "cell_type": "markdown",
   "metadata": {},
   "source": [
    "## Same as above but for Q2 dependence"
   ]
  },
  {
   "cell_type": "code",
   "execution_count": null,
   "metadata": {},
   "outputs": [],
   "source": [
    "Edges = [1.0,1.5,2.5,4.0]\n",
    "bins = [(x, y) for (x, y) in zip(Edges[:-1], Edges[1:])]\n",
    "\n",
    "for j, ibin in enumerate(bins):\n",
    "    query = 'pid==+211 and P>0.2 and P<0.5 and Q2>%2.2f and Q2<=%2.2f'%(ibin[0],ibin[1])\n",
    "    num,x = np.histogram(accept['C'].query(query)['Theta'],range=(0,140),bins=50)\n",
    "    den, x = np.histogram(thrown['C'].query(query)['Theta'],range=(0,140),bins=50)\n",
    "    label = '%2.1f$<Q2<$%2.1f GeV2'%(ibin[0],ibin[1])\n",
    "\n",
    "    x = (x[:-1] + x[1:])/2.0\n",
    "    ratio = np.true_divide(num,den)\n",
    "    \n",
    "    \n",
    "    plt.plot(x,ratio,label=label)\n",
    "\n",
    "    \n",
    "plt.title('Acceptance for pi+ with 200<P<500 MeV',fontsize=15)\n",
    "plt.ylabel('$A$',fontsize=15)\n",
    "plt.xlabel('Theta (degrees)',fontsize=15)\n",
    "\n",
    "plt.legend(frameon=False,fontsize=15)\n",
    "plt.savefig('Acceptance_Theta_Q2dependence.png')    \n",
    "plt.show()"
   ]
  },
  {
   "cell_type": "code",
   "execution_count": null,
   "metadata": {},
   "outputs": [],
   "source": [
    "plt.hist(accept['D'].query('pid==211 ')['Theta'],bins=100,range=(0,140),normed=True,alpha=0.5,label='$\\pi^{+}$')\n",
    "plt.hist(accept['D'].query('pid==-211')['Theta'],bins=100,range=(0,140),normed=True,alpha=0.5,label='$\\pi^{-}$')\n",
    "plt.legend(fontsize=16,frameon=False)\n",
    "\n",
    "plt.title('Reconstructed pions',fontsize=15)\n",
    "plt.ylabel('Normalized entries',fontsize=15)\n",
    "plt.xlabel('Theta (degrees)',fontsize=15)\n",
    "plt.show()"
   ]
  },
  {
   "cell_type": "markdown",
   "metadata": {},
   "source": [
    "## Reconstructed pions"
   ]
  },
  {
   "cell_type": "code",
   "execution_count": null,
   "metadata": {},
   "outputs": [],
   "source": [
    "plt.hist(thrown['D'].query('pid==211 ')['Theta'],bins=100,range=(0,140),normed=True,alpha=0.5,label='$\\pi^{+}$')\n",
    "plt.hist(thrown['D'].query('pid==-211')['Theta'],bins=100,range=(0,140),normed=True,alpha=0.5,label='$\\pi^{-}$')\n",
    "plt.legend(fontsize=16,frameon=False)\n",
    "plt.title('Generated pions',fontsize=15)\n",
    "plt.ylabel('Normalized entries',fontsize=15)\n",
    "plt.xlabel('Theta (degrees)',fontsize=15)\n",
    "\n",
    "plt.show()"
   ]
  },
  {
   "cell_type": "markdown",
   "metadata": {},
   "source": [
    "## Generated and reconstructed momentum distribution"
   ]
  },
  {
   "cell_type": "code",
   "execution_count": null,
   "metadata": {},
   "outputs": [],
   "source": [
    "plt.hist(thrown['D'].query('pid==211')['P'],bins=100,range=(0,3.5),normed=True,alpha=0.5,label='$\\pi^{+}$')\n",
    "plt.hist(thrown['D'].query('pid==-211')['P'],bins=100,range=(0,3.5),normed=True,alpha=0.5,label='$\\pi^{-}$')\n",
    "plt.legend(fontsize=16,frameon=False)\n",
    "\n",
    "plt.title('Generated pions',fontsize=15)\n",
    "plt.ylabel('Normalized entries',fontsize=15)\n",
    "plt.xlabel('Momentum (GeV)',fontsize=15)\n",
    "\n",
    "plt.show()"
   ]
  },
  {
   "cell_type": "code",
   "execution_count": null,
   "metadata": {},
   "outputs": [],
   "source": [
    "plt.hist(accept['D'].query('pid==211')['P'],bins=100,range=(0,3.5),normed=True,alpha=0.5,label='$\\pi^{+}$')\n",
    "plt.hist(accept['D'].query('pid==-211')['P'],bins=100,range=(0,3.5),normed=True,alpha=0.5,label='$\\pi^{-}$')\n",
    "plt.legend(fontsize=16,frameon=False)\n",
    "plt.title('Reconstructed pions',fontsize=15)\n",
    "plt.ylabel('Normalized entries',fontsize=15)\n",
    "plt.xlabel('Momentum (GeV)',fontsize=15)\n",
    "\n",
    "plt.show()"
   ]
  },
  {
   "cell_type": "markdown",
   "metadata": {},
   "source": [
    "## 2D distributions"
   ]
  },
  {
   "cell_type": "code",
   "execution_count": null,
   "metadata": {},
   "outputs": [],
   "source": [
    "plt.hexbin(accept.query('pid==211 and P<2.5')['P'],accept.query('pid==211 and P<2.5')['Theta'], bins='log',cmap='inferno')\n"
   ]
  },
  {
   "cell_type": "code",
   "execution_count": null,
   "metadata": {},
   "outputs": [],
   "source": [
    "plt.hexbin(accept.query('pid==-211 and P<2.5')['P'],accept.query('pid==-211 and P<2.5')['Theta'],cmap='inferno')\n"
   ]
  },
  {
   "cell_type": "code",
   "execution_count": null,
   "metadata": {},
   "outputs": [],
   "source": [
    "plt.hexbin(thrown.query('pid==-211 and P<2.5')['P'],thrown.query('pid==-211 and P<2.5')['Theta'],cmap='inferno')\n"
   ]
  }
 ],
 "metadata": {
  "kernelspec": {
   "display_name": "Python 3",
   "language": "python",
   "name": "python3"
  },
  "language_info": {
   "codemirror_mode": {
    "name": "ipython",
    "version": 3
   },
   "file_extension": ".py",
   "mimetype": "text/x-python",
   "name": "python",
   "nbconvert_exporter": "python",
   "pygments_lexer": "ipython3",
   "version": "3.7.8"
  }
 },
 "nbformat": 4,
 "nbformat_minor": 2
}

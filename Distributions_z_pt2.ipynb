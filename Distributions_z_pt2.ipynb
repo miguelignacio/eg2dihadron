{
 "cells": [
  {
   "cell_type": "code",
   "execution_count": null,
   "metadata": {},
   "outputs": [],
   "source": [
    "import ROOT\n",
    "from ROOT import TFile\n",
    "import numpy as np\n",
    "import matplotlib as mpl\n",
    "import matplotlib.pyplot as plt\n",
    "import copy\n",
    "import pandas as pd \n",
    "import time\n",
    "import root_pandas as rpd\n",
    "from root_pandas import read_root\n",
    "\n",
    "#mpl.rcParams['figure.figsize'] = 6.2,3.5\n",
    "#mpl.rcParams['axes.labelsize'] = 17\n",
    "#mpl.rcParams['lines.linewidth'] = 3\n",
    "#mpl.rcParams['lines.markersize'] = 6\n",
    "#mpl.rcParams['legend.fontsize']= 15\n",
    "\n",
    "\n",
    "\n",
    "mpl.rcParams.update({'font.size': 18})\n",
    "mpl.rcParams.update({'legend.fontsize': 20})\n",
    "mpl.rcParams.update({'xtick.labelsize': 18}) \n",
    "mpl.rcParams.update({'ytick.labelsize': 18}) \n",
    "mpl.rcParams.update({'text.usetex' : False})"
   ]
  },
  {
   "cell_type": "code",
   "execution_count": null,
   "metadata": {},
   "outputs": [],
   "source": [
    "def applyCut(inputDataframe, cut, text=None):\n",
    "    nbeforecut = inputDataframe.shape[0]\n",
    "    if nbeforecut>0:\n",
    "        cutDataframe = inputDataframe.query(cut)\n",
    "        if text:\n",
    "            print (text, cutDataframe.shape[0], ' (%2.2f '%(100.0*cutDataframe.shape[0]/nbeforecut), '%)')\n",
    "    return cutDataframe\n",
    "def applyHadronCuts(fullDataframe,name='default',isMC=False): \n",
    "    dataframe = fullDataframe\n",
    "    print ('Entries before cut ', dataframe.shape[0])\n",
    "    dataframe.eval('inelasticity = Nu/5.014', inplace=True)\n",
    "    dataframe.eval('E = z*Nu', inplace=True)\n",
    "    dataframe.eval('P = sqrt(E*E-0.1396*0.1396)', inplace=True)\n",
    "    dataframe.eval('T = E-0.1396', inplace=True)\n",
    "    dataframe.eval('pt2 = pt*pt', inplace=True)\n",
    "\n",
    "    #dataframe = applyCut(dataframe, 'Q2>1.0 and Q2<1.25', ' 1.0 <Q2<1.25 :')\n",
    "    dataframe = applyCut(dataframe, 'Nu>2.2 and Nu<4.25',  ' 2.2 <Nu<4.25')\n",
    "    dataframe = applyCut(dataframe, 'P <2.5 ', 'P<2.5 ')\n",
    "    dataframe = applyCut(dataframe, 'P >0.2 ', 'P>0.2 ')\n",
    "\n",
    "    dataframe = applyCut(dataframe, 'inelasticity<0.85','inelasticity < 0.85')\n",
    "    #dataframe = applyCut(dataframe,'(pid==211 & theta_lab_asso>10.0)|(pid_asso==-211 & theta_lab_asso>30 & theta_lab_asso<120)')\n",
    "    #dataframe = applyCut(dataframe, '(pid==211 & P_asso>0.200) |(pid_asso==-211 & P_asso>0.200) ', 'pi+ P_asso > 200 MeV, pi- P_asso > 300 MeV')\n",
    "    return dataframe\n",
    "\n",
    "def applyElectronCuts(fullDataframe,name='default',isMC=False): \n",
    "    dataframe = fullDataframe\n",
    "    print ('Entries before cut ', dataframe.shape[0])\n",
    "    dataframe.eval('inelasticity = Nu/5.014', inplace=True)\n",
    "    #dataframe = applyCut(dataframe, 'Q2>1.0 and Q2<1.25', ' 1.0 <Q2<1.25 :')\n",
    "    dataframe = applyCut(dataframe, 'Nu>2.2 and Nu<4.25',  ' 2.2 <Nu<4.25')\n",
    "    dataframe = applyCut(dataframe, 'inelasticity<0.85','inelasticity < 0.85')\n",
    "    return dataframe\n",
    "\n",
    "\n",
    "\n",
    "#this needs to be read in chunks otherwise it uses all memory. (from https://github.com/scikit-hep/root_pandas)\n",
    "def getdatainChunks(filename,treename):\n",
    "    dataframe =pd.DataFrame()\n",
    "    for df in read_root(filename, treename, chunksize=100000) :\n",
    "        #print df.shape[0]\n",
    "        dataframe = pd.concat([dataframe,df])\n",
    "    \n",
    "    print (dataframe.shape[0])\n",
    "    return dataframe\n",
    "    "
   ]
  },
  {
   "cell_type": "code",
   "execution_count": null,
   "metadata": {},
   "outputs": [],
   "source": [
    "df = {}"
   ]
  },
  {
   "cell_type": "code",
   "execution_count": null,
   "metadata": {},
   "outputs": [],
   "source": [
    "for target in ['D','C','Fe','Pb']:\n",
    "    #GiBUU\n",
    "    print (target)\n",
    "    print (' hadron')\n",
    "    df['GiBUU_%s_hadron'%target]= getdatainChunks('GiBUU_SingleHadron_%s.root'%target, '%s_hadron'%target)\n",
    "    print (' electron')\n",
    "    df['GiBUU_%s_electron'%target]= getdatainChunks('GiBUU_SingleHadron_%s.root'%target,'%s_electron'%target)\n",
    "print (df.keys())"
   ]
  },
  {
   "cell_type": "code",
   "execution_count": null,
   "metadata": {},
   "outputs": [],
   "source": [
    "print (df.keys())"
   ]
  },
  {
   "cell_type": "code",
   "execution_count": null,
   "metadata": {},
   "outputs": [],
   "source": [
    "for target in ['D','C','Fe','Pb']:\n",
    "    print (target)\n",
    "    df['GiBUU_%s_electron'%target] = applyElectronCuts(df['GiBUU_%s_electron'%target], isMC=True)\n",
    "    df['GiBUU_%s_hadron'%target] = applyHadronCuts(df['GiBUU_%s_hadron'%target], isMC=True)\n",
    "    print (' ') \n"
   ]
  },
  {
   "cell_type": "code",
   "execution_count": null,
   "metadata": {},
   "outputs": [],
   "source": [
    "df['GiBUU_D_hadron'].hist(figsize=(15, 15),density=True,alpha=0.5,bins=100)\n",
    "plt.show()"
   ]
  },
  {
   "cell_type": "code",
   "execution_count": null,
   "metadata": {},
   "outputs": [],
   "source": [
    "fig, axs = plt.subplots(4, 5, figsize=(14,8),sharex=True, sharey=True,gridspec_kw={'hspace': 0, 'wspace':0})\n",
    "\n",
    "import matplotlib.colors as mcolors\n",
    "\n",
    "WEdges = np.linspace(2.2,2.8,6)\n",
    "Q2Edges = [1.0,1.4,1.6,2.0,4.1]\n",
    "\n",
    "print(WEdges)\n",
    "Wbins = [(x, y) for (x, y) in zip(WEdges[:-1], WEdges[1:])]\n",
    "Q2bins = [(x, y) for (x, y) in zip(Q2Edges[:-1], Q2Edges[1:])]\n",
    "\n",
    "df['GiBUU_D_hadron'].eval('pt2 = pt*pt',inplace=True)\n",
    "df['GiBUU_Pb_hadron'].eval('pt2 = pt*pt',inplace=True)\n",
    "\n",
    "for iq2, q2bin in enumerate(Q2bins):\n",
    "    print(iq2)\n",
    "    for i, ibin in enumerate(Wbins):\n",
    "        row = 0 \n",
    "        if(i>4): row = 1\n",
    "        col = i\n",
    "        if col>4: col = col-4\n",
    "        #print(row,col)\n",
    "        query = 'pid==211 and W>%2.2f and W<%2.2f and Q2>%2.2f and Q2<%2.2f'%(ibin[0],ibin[1],q2bin[0],q2bin[1])\n",
    "        #print(query)\n",
    "        datacut= df['GiBUU_D_hadron'].query(query)\n",
    "        axs[0,col].set_title(' W>%2.2f and W<%2.2f'%(ibin[0],ibin[1]))\n",
    "        axs[iq2,0].yaxis.set_label_text('%2.2f<Q2<%2.2f'%(q2bin[0],q2bin[1]), fontsize=13)\n",
    "\n",
    "        axs[iq2,col].hist2d(datacut['z'],datacut['pt2'],range=([0,1],[0,2.0]), norm=mcolors.LogNorm(), bins=50)\n",
    "plt.show()"
   ]
  },
  {
   "cell_type": "code",
   "execution_count": null,
   "metadata": {},
   "outputs": [],
   "source": [
    "fig, axs = plt.subplots(4, 5, figsize=(14,8),sharex=True, sharey=True,gridspec_kw={'hspace': 0, 'wspace':0})\n",
    "\n",
    "import matplotlib.colors as mcolors\n",
    "\n",
    "WEdges = np.linspace(2.2,2.8,6)\n",
    "Q2Edges = [1.0,1.4,1.6,2.0,4.1]\n",
    "\n",
    "print(WEdges)\n",
    "Wbins = [(x, y) for (x, y) in zip(WEdges[:-1], WEdges[1:])]\n",
    "Q2bins = [(x, y) for (x, y) in zip(Q2Edges[:-1], Q2Edges[1:])]\n",
    "\n",
    "df['GiBUU_D_hadron'].eval('pt2 = pt*pt',inplace=True)\n",
    "df['GiBUU_Pb_hadron'].eval('pt2 = pt*pt',inplace=True)\n",
    "\n",
    "for iq2, q2bin in enumerate(Q2bins):\n",
    "    print(iq2)\n",
    "    for i, ibin in enumerate(Wbins):\n",
    "        row = 0 \n",
    "        if(i>4): row = 1\n",
    "        col = i\n",
    "        if col>4: col = col-4\n",
    "        #print(row,col)\n",
    "        query = 'pid==211 and W>%2.2f and W<%2.2f and Q2>%2.2f and Q2<%2.2f'%(ibin[0],ibin[1],q2bin[0],q2bin[1])\n",
    "        #print(query)\n",
    "        datacut= df['GiBUU_Pb_hadron'].query(query)\n",
    "        axs[0,col].set_title(' W>%2.2f and W<%2.2f'%(ibin[0],ibin[1]))\n",
    "        axs[iq2,0].yaxis.set_label_text('%2.2f<Q2<%2.2f'%(q2bin[0],q2bin[1]), fontsize=13)\n",
    "\n",
    "        axs[iq2,col].hist2d(datacut['z'],datacut['pt2'],range=([0,1],[0,2.0]), norm=mcolors.LogNorm(), bins=50)\n",
    "plt.show()"
   ]
  },
  {
   "cell_type": "code",
   "execution_count": null,
   "metadata": {},
   "outputs": [],
   "source": [
    "fig, axs = plt.subplots(1, 2, figsize=(12,6),sharex=True, sharey=True,gridspec_kw={'hspace': 0, 'wspace':0})\n",
    "axs[0].hist2d(df['GiBUU_D_hadron'].query('pid==211')['z'],df['GiBUU_D_hadron'].query('pid==211')['pt2'],range=([0,1.0],[0,2.0]), norm=mcolors.LogNorm(), bins=50)\n",
    "axs[1].hist2d(df['GiBUU_Pb_hadron'].query('pid==211')['z'],df['GiBUU_Pb_hadron'].query('pid==211')['pt2'],range=([0,1.0],[0,2.0]), norm=mcolors.LogNorm(), bins=50)\n",
    "axs[0].set_title('GiBUU: Deuterium',fontsize=20)\n",
    "axs[1].set_title('GiBUU: Lead',fontsize=20)\n",
    "axs[0].yaxis.set_label_text('pt2',fontsize=20)\n",
    "axs[1].xaxis.set_label_text('z',fontsize=20)\n",
    "axs[0].xaxis.set_label_text('z',fontsize=20)\n",
    "\n",
    "plt.show()"
   ]
  },
  {
   "cell_type": "code",
   "execution_count": null,
   "metadata": {},
   "outputs": [],
   "source": [
    "fig, axs = plt.subplots(1, 2, figsize=(12,6),sharex=True, sharey=True,gridspec_kw={'hspace': 0, 'wspace':0})\n",
    "axs[0].hist2d(df['GiBUU_D_hadron'].query('pid==211')['z'],df['GiBUU_D_hadron'].query('pid==211')['MissingMass'],range=([0.0,1.0],[-1.0,2.2]), norm=mcolors.LogNorm(), bins=50)\n",
    "axs[1].hist2d(df['GiBUU_Pb_hadron'].query('pid==211')['z'],df['GiBUU_Pb_hadron'].query('pid==211')['MissingMass'],range=([0.0,1.0],[-1.0,2.2]), norm=mcolors.LogNorm(), bins=50)\n",
    "axs[0].set_title('GiBUU: Deuterium',fontsize=20)\n",
    "axs[1].set_title('GiBUU: Lead',fontsize=20)\n",
    "axs[0].yaxis.set_label_text('pt2',fontsize=20)\n",
    "axs[1].xaxis.set_label_text('z',fontsize=20)\n",
    "axs[0].xaxis.set_label_text('z',fontsize=20)\n",
    "\n",
    "plt.show()"
   ]
  },
  {
   "cell_type": "code",
   "execution_count": null,
   "metadata": {},
   "outputs": [],
   "source": [
    "fig = plt.figure(figsize=(8,6))\n",
    "plt.hist(df['GiBUU_D_hadron'].query('pid==211')['MissingMass'], density=True, range=(0,3.0),bins=100,alpha=0.3,label='GiBUU D')\n",
    "plt.hist(df['GiBUU_C_hadron'].query('pid==211')['MissingMass'], density=True,range=(0.0,3.0), bins=100,histtype='step',label='GiBUU C')\n",
    "plt.hist(df['GiBUU_Fe_hadron'].query('pid==211')['MissingMass'], density=True,range=(0.0,3.0), bins=100,histtype='step',label='GiBUU Fe')\n",
    "plt.hist(df['GiBUU_Pb_hadron'].query('pid==211')['MissingMass'], density=True,range=(0.0,3.0), bins=100,histtype='step',label='GiBUU Pb')\n",
    "#plt.yscale('log')\n",
    "plt.ylabel('Normalized entries',fontsize=22)\n",
    "plt.xlabel('Missing Mass',fontsize=22)\n",
    "plt.title(r'$e\\pi^{+}+X$ final state',fontsize=22)\n",
    "plt.legend(loc='best',fontsize=22,frameon=False)\n",
    "plt.show()\n"
   ]
  }
 ],
 "metadata": {
  "kernelspec": {
   "display_name": "Python 3",
   "language": "python",
   "name": "python3"
  },
  "language_info": {
   "codemirror_mode": {
    "name": "ipython",
    "version": 3
   },
   "file_extension": ".py",
   "mimetype": "text/x-python",
   "name": "python",
   "nbconvert_exporter": "python",
   "pygments_lexer": "ipython3",
   "version": "3.7.8"
  }
 },
 "nbformat": 4,
 "nbformat_minor": 4
}

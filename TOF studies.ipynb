{
 "cells": [
  {
   "cell_type": "code",
   "execution_count": null,
   "metadata": {},
   "outputs": [],
   "source": [
    "\n",
    "import numpy as np\n",
    "import matplotlib as mpl\n",
    "import matplotlib.pyplot as plt\n",
    "import copy\n",
    "import pandas as pd \n",
    "import time\n",
    "\n",
    "\n",
    "mpl.rcParams.update({'font.size': 20})\n",
    "mpl.rcParams.update({'legend.fontsize': 20})\n",
    "mpl.rcParams.update({'xtick.labelsize': 20}) \n",
    "mpl.rcParams.update({'ytick.labelsize': 20}) \n",
    "mpl.rcParams.update({'text.usetex' : False})"
   ]
  },
  {
   "cell_type": "code",
   "execution_count": null,
   "metadata": {},
   "outputs": [],
   "source": [
    "def TOFresolution(x):\n",
    "    return 0.0115*x*np.exp(0.85*np.sqrt(x)) ## was 0.022"
   ]
  },
  {
   "cell_type": "code",
   "execution_count": null,
   "metadata": {},
   "outputs": [],
   "source": [
    "x = np.linspace(0.2,3)\n",
    "sigma = TOFresolution(x)"
   ]
  },
  {
   "cell_type": "code",
   "execution_count": null,
   "metadata": {},
   "outputs": [],
   "source": [
    "print(sigma)"
   ]
  },
  {
   "cell_type": "code",
   "execution_count": null,
   "metadata": {},
   "outputs": [],
   "source": [
    "plt.plot(x,sigma)\n",
    "plt.xlabel('Momentum [GeV]')\n",
    "plt.ylabel(r'$M^{2}$ resolution $[GeV^{2}]$')\n",
    "plt.title('TOF resolution, CLAS6')"
   ]
  },
  {
   "cell_type": "code",
   "execution_count": null,
   "metadata": {},
   "outputs": [],
   "source": [
    "xdata = np.linspace(0,2.7,11)\n",
    "print(xdata)\n",
    "data = np.array([1.56388e-03,3.64325e-03 , 8.96032e-03  ,1.73660e-02 , 2.80964e-02, 3.95046e-02, 5.52877e-02, 7.08736e-02   ,8.45572e-02 , 1.18524e-01,1.26274e-01])\n",
    "\n",
    "\n",
    "errordata = [8.61392e-06 , 2.44611e-05, 6.52368e-05, 2.10787e-04,3.71557e-04,5.62312e-04 ,8.91352e-04,1.68221e-03,1.79538e-03\n",
    ",6.79514e-03\n",
    ",7.75309e-03]\n",
    "print(errordata)\n",
    "print(len(errordata))\n",
    "print(len(data))"
   ]
  },
  {
   "cell_type": "code",
   "execution_count": null,
   "metadata": {},
   "outputs": [],
   "source": [
    "plt.figure(figsize=(8,6))\n",
    "\n",
    "plt.errorbar(xdata, data,yerr=errordata, label='Gaussian fit to data',fmt='o')\n",
    "plt.plot(x,sigma, label='parametrization')\n",
    "plt.xlabel('Momentum [GeV]')\n",
    "plt.ylabel(r'$M^{2}$ resolution $[GeV^{2}]$')\n",
    "plt.title('TOF resolution')\n",
    "plt.legend(loc='best',fontsize=22,frameon=False)\n",
    "plt.tight_layout()\n",
    "\n",
    "plt.savefig('TOFresolution.pdf')\n"
   ]
  },
  {
   "cell_type": "code",
   "execution_count": null,
   "metadata": {},
   "outputs": [],
   "source": [
    "print ('Pion mass2 is  139.57* 139.57 MeV2 =%2.3f [GeV^{2}]'% (0.13957* 0.13957))\n",
    "pionmass2 = 0.13957* 0.13957"
   ]
  },
  {
   "cell_type": "code",
   "execution_count": null,
   "metadata": {},
   "outputs": [],
   "source": [
    "print ('Pion mass2 is  493.677* 493.677 MeV2 =%2.3f [GeV^{2}]'% (0.493677*0.493677))\n",
    "kaonmass2 = 0.493677*0.493677"
   ]
  },
  {
   "cell_type": "code",
   "execution_count": null,
   "metadata": {},
   "outputs": [],
   "source": [
    "print ('Mass2 difference Kaon-Pion = %2.3f [GeV^{2}]'%(0.493677*0.493677- 0.13957* 0.13957))"
   ]
  },
  {
   "cell_type": "code",
   "execution_count": null,
   "metadata": {},
   "outputs": [],
   "source": [
    "separation = 0.224/sigma"
   ]
  },
  {
   "cell_type": "code",
   "execution_count": null,
   "metadata": {},
   "outputs": [],
   "source": [
    "print (separation)"
   ]
  },
  {
   "cell_type": "code",
   "execution_count": null,
   "metadata": {},
   "outputs": [],
   "source": [
    "plt.figure(figsize=(8,6))\n",
    "\n",
    "plt.plot(x,separation)\n",
    "plt.xlabel('Momentum [GeV]')\n",
    "plt.ylabel(r'$(M^{2}_{K} - M^{2}_{\\pi})/\\sigma$')\n",
    "plt.title(r'$K^{+}/\\pi^{+}$ separation')\n",
    "plt.axhline(3,0.0,3.0,label=r'3 $\\sigma$',color='black')\n",
    "plt.axhline(2,0.0,3.0,label=r'2 $\\sigma$',color='red')\n",
    "plt.axvline(2.7,0.0,100.0,color='green',ls='--')\n",
    "\n",
    "plt.legend(frameon=False)\n",
    "plt.yscale('log')\n",
    "plt.tight_layout()\n",
    "\n",
    "plt.savefig('TOF_separation.pdf')\n"
   ]
  },
  {
   "cell_type": "code",
   "execution_count": null,
   "metadata": {},
   "outputs": [],
   "source": [
    "from scipy.stats import norm"
   ]
  },
  {
   "cell_type": "code",
   "execution_count": null,
   "metadata": {},
   "outputs": [],
   "source": [
    "plt.figure(figsize=(9,6))\n",
    "\n",
    "\n",
    "xmass = np.linspace(-1.5,1.0,100)\n",
    "y = norm.pdf(xmass,kaonmass2,TOFresolution(2.7))\n",
    "plt.plot(xmass,y,color='red',label='K+')\n",
    "y = norm.pdf(xmass,pionmass2,TOFresolution(2.7))\n",
    "plt.plot(xmass,y,'blue',label='pi+')\n",
    "#plt.axvline(x=pionmass2,color='blue')\n",
    "#plt.axvline(x=kaonmass2,color='red')\n",
    "plt.axvspan(pionmass2-2.5*TOFresolution(2.7), pionmass2+2.5*TOFresolution(2.7), alpha=0.3, color='blue',label='$\\pm$2.5 $\\sigma$ selection')\n",
    "plt.xlabel('Mass squared from TOF [$GeV^{2}$]')\n",
    "plt.ylabel('normalized distributions')\n",
    "plt.title('Resolution at 2.7 GeV')\n",
    "plt.legend(frameon=False)"
   ]
  },
  {
   "cell_type": "code",
   "execution_count": null,
   "metadata": {},
   "outputs": [],
   "source": [
    "plt.figure(figsize=(9,6))\n",
    "xmass = np.linspace(-1.5,1.0,100)\n",
    "y = norm.pdf(xmass,kaonmass2,TOFresolution(2.0))\n",
    "plt.plot(xmass,y,color='red',label='K+')\n",
    "y = norm.pdf(xmass,pionmass2,TOFresolution(2.0))\n",
    "plt.plot(xmass,y,'blue',label='pi+')\n",
    "#plt.axvline(x=pionmass2,color='blue')\n",
    "#plt.axvline(x=kaonmass2,color='red')\n",
    "plt.axvspan(pionmass2-2.5*TOFresolution(2.0), pionmass2+2.5*TOFresolution(2.0), alpha=0.3, color='blue',label='$\\pm$2.5 $\\sigma$ selection')\n",
    "plt.xlabel('Mass squared from TOF [$GeV^{2}$]')\n",
    "plt.ylabel('normalized distributions')\n",
    "plt.title('Resolution at 2.0 GeV')\n",
    "plt.legend(frameon=False)"
   ]
  },
  {
   "cell_type": "code",
   "execution_count": null,
   "metadata": {},
   "outputs": [],
   "source": [
    "plt.figure(figsize=(9,6))\n",
    "xmass = np.linspace(-1.5,1.0,100)\n",
    "y = norm.pdf(xmass,kaonmass2,TOFresolution(1.5))\n",
    "plt.plot(xmass,y,color='red',label='K+')\n",
    "y = norm.pdf(xmass,pionmass2,TOFresolution(1.5))\n",
    "plt.plot(xmass,y,'blue',label='pi+')\n",
    "#plt.axvline(x=pionmass2,color='blue')\n",
    "#plt.axvline(x=kaonmass2,color='red')\n",
    "plt.axvspan(pionmass2-2.5*TOFresolution(1.5), pionmass2+2.5*TOFresolution(1.5), alpha=0.3, color='blue',label='$\\pm$2.5 $\\sigma$ selection')\n",
    "plt.xlabel('Mass squared from TOF [$GeV^{2}$]')\n",
    "plt.ylabel('normalized distributions')\n",
    "plt.title('Resolution at 1.5 GeV')\n",
    "plt.legend(frameon=False)"
   ]
  },
  {
   "cell_type": "markdown",
   "metadata": {},
   "source": [
    "## what is the rejection power?\n",
    "## We want the CDF of the Kaon curve up to the pion hypothesis mass + 2.5 sigma (or any other number of sigma). That is the fraction we let in. The rejection fraction is 1 minus that. "
   ]
  },
  {
   "cell_type": "code",
   "execution_count": null,
   "metadata": {},
   "outputs": [],
   "source": [
    "rejection = 1- norm.cdf(pionmass2+2.5*TOFresolution(1.5),kaonmass2,TOFresolution(1.5))"
   ]
  },
  {
   "cell_type": "code",
   "execution_count": null,
   "metadata": {},
   "outputs": [],
   "source": [
    "def rejectionpower(p,nsigma):\n",
    "    sigma = TOFresolution(p)\n",
    "    return 1- norm.cdf(pionmass2+nsigma*sigma,kaonmass2,sigma)"
   ]
  },
  {
   "cell_type": "code",
   "execution_count": null,
   "metadata": {},
   "outputs": [],
   "source": [
    "plt.figure(figsize=(8,6))\n",
    "\n",
    "x = np.linspace(0,2.7,40)\n",
    "print( len(x))\n",
    "plt.plot(x,rejectionpower(x,2.5),label='2.5 $\\sigma$')\n",
    "plt.plot(x,rejectionpower(x,2.0),label='2.0 $\\sigma$')\n",
    "plt.plot(x,rejectionpower(x,1.0),label='1.0 $\\sigma$')\n",
    "\n",
    "\n",
    "plt.title('Fraction of $K^{+}$ rejected')\n",
    "plt.xlabel('Momentum [GeV]')\n",
    "plt.legend(frameon=False)\n",
    "plt.ylim([0.0,1.1])\n",
    "plt.tight_layout()\n",
    "plt.savefig('KaonRejection.pdf')\n",
    "\n",
    "plt.ylabel('Fraction')\n",
    "\n",
    "print(rejectionpower(x,2.5))"
   ]
  },
  {
   "cell_type": "code",
   "execution_count": null,
   "metadata": {},
   "outputs": [],
   "source": [
    "plt.figure(figsize=(9,6))\n",
    "\n",
    "x = np.linspace(0,2.5,10)\n",
    "zrange = np.sqrt(x*x+0.493677*0.493677)\n",
    "print( len(x))\n",
    "plt.plot(zrange,rejectionpower(x,2.5),label='2.5 $\\sigma$')\n",
    "plt.plot(zrange,rejectionpower(x,2.0),label='2.0 $\\sigma$')\n",
    "plt.plot(zrange,rejectionpower(x,1.0),label='1.0 $\\sigma$')\n",
    "\n",
    "\n",
    "plt.title('Fraction of K+ rejected')\n",
    "plt.xlabel('Momentum [GeV]')\n",
    "plt.legend(frameon=False)\n",
    "plt.ylabel('Fraction')\n",
    "plt.ylim([0.0,1.0])"
   ]
  },
  {
   "cell_type": "code",
   "execution_count": null,
   "metadata": {},
   "outputs": [],
   "source": [
    "ratio  = np.array([0.059848,   0.04138904, 0.05862364, 0.06531608, 0.06809174, 0.07395118,\n",
    " 0.08502193, 0.10231119, 0.11873374 ,0.10879052])"
   ]
  },
  {
   "cell_type": "code",
   "execution_count": null,
   "metadata": {},
   "outputs": [],
   "source": [
    "plt.figure(figsize=(9,6))\n",
    "\n",
    "x = np.linspace(0,2.5,10)\n",
    "plt.plot(x,ratio*(1-rejectionpower(x,2.5)),label='2.5 $\\sigma$')\n",
    "plt.plot(x,ratio*(1-rejectionpower(x,2.0)),label='2.0 $\\sigma$')\n",
    "plt.plot(x,ratio*(1-rejectionpower(x,1.0)),label='1.0 $\\sigma$')\n",
    "\n",
    "plt.title('$K^{+}$ background fraction')\n",
    "plt.xlabel('Momentum [GeV]')\n",
    "plt.legend(frameon=False)\n",
    "plt.ylabel('Fraction')\n",
    "#plt.plot(x,rejectionpower(x,2.0),label='2.0 $\\sigma$')\n",
    "#plt.plot(x,rejectionpower(x,1.0),label='1.0 $\\sigma$')"
   ]
  },
  {
   "cell_type": "code",
   "execution_count": null,
   "metadata": {},
   "outputs": [],
   "source": [
    "#in z"
   ]
  },
  {
   "cell_type": "code",
   "execution_count": null,
   "metadata": {},
   "outputs": [],
   "source": [
    "ratio = [0.     ,   0.04559387 ,0.09167179 ,0.08311082, 0.08660456, 0.10371801,\n",
    " 0.12619553 ,0.14630003, 0.19184722, 0.00472362]"
   ]
  },
  {
   "cell_type": "code",
   "execution_count": null,
   "metadata": {},
   "outputs": [],
   "source": [
    "plt.figure(figsize=(9,6))\n",
    "\n",
    "x = np.linspace(0,2.5,40)\n",
    "zrange = np.sqrt(x*x+0.493677*0.493677)\n",
    "zrange = zrange/max(zrange)\n",
    "plt.plot(zrange,ratio*(1-rejectionpower(x,2.5)),label='2.5 $\\sigma$')\n",
    "plt.plot(zrange,ratio*(1-rejectionpower(x,2.0)),label='2.0 $\\sigma$')\n",
    "plt.plot(zrange,ratio*(1-rejectionpower(x,1.0)),label='1.0 $\\sigma$')\n",
    "\n",
    "plt.title('$K^{+}$ background fraction')\n",
    "plt.xlabel('z')\n",
    "plt.legend(frameon=False)\n",
    "plt.ylabel('Fraction')\n",
    "#plt.plot(x,rejectionpower(x,2.0),label='2.0 $\\sigma$')\n",
    "#plt.plot(x,rejectionpower(x,1.0),label='1.0 $\\sigma$')"
   ]
  }
 ],
 "metadata": {
  "kernelspec": {
   "display_name": "Python 3",
   "language": "python",
   "name": "python3"
  },
  "language_info": {
   "codemirror_mode": {
    "name": "ipython",
    "version": 3
   },
   "file_extension": ".py",
   "mimetype": "text/x-python",
   "name": "python",
   "nbconvert_exporter": "python",
   "pygments_lexer": "ipython3",
   "version": "3.7.8"
  }
 },
 "nbformat": 4,
 "nbformat_minor": 4
}

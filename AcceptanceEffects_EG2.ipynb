{
 "cells": [
  {
   "cell_type": "code",
   "execution_count": null,
   "metadata": {},
   "outputs": [],
   "source": [
    "import os\n",
    "#os.environ[\"CUDA_DEVICE_ORDER\"] = \"PCI_BUS_ID\"\n",
    "#os.environ[\"CUDA_VISIBLE_DEVICES\"] = \"0\""
   ]
  },
  {
   "cell_type": "code",
   "execution_count": null,
   "metadata": {},
   "outputs": [],
   "source": [
    "from __future__ import absolute_import, division, print_function\n",
    "\n",
    "import numpy as np\n",
    "from matplotlib import pyplot as plt\n",
    "from matplotlib.patches import Patch\n",
    "\n",
    "from sklearn.model_selection import train_test_split\n",
    "\n",
    "import tensorflow as tf\n",
    "import keras\n",
    "import keras.backend as K\n",
    "from keras.layers import Dense, Input\n",
    "from keras.models import Model\n",
    "from keras.utils import to_categorical\n",
    "from keras.callbacks import EarlyStopping"
   ]
  },
  {
   "cell_type": "code",
   "execution_count": null,
   "metadata": {},
   "outputs": [],
   "source": [
    "import time\n",
    "import ROOT\n",
    "import numpy as np\n",
    "import pandas as pd\n",
    "import root_pandas as rpd\n",
    "import matplotlib.pyplot as plt\n",
    "import matplotlib.ticker as mticker\n",
    "from matplotlib.colors import LogNorm\n",
    "from root_pandas import read_root\n",
    "from matplotlib import rc\n",
    "from numpy import inf\n",
    "\n",
    "\n",
    "import sys,pandas as pd, matplotlib , matplotlib.pyplot as plt, matplotlib.lines , numpy as np, math, pylab\n",
    "#import ROOT\n",
    "#from ROOT import TFile\n",
    "\n",
    "import root_pandas\n",
    "%matplotlib inline\n",
    "\n",
    "rc('text', usetex=True)\n",
    "\n",
    "import matplotlib as mpl\n",
    "rc('font', family='serif')\n",
    "rc('text', usetex=True)\n",
    "rc('font', size=22)\n",
    "rc('xtick', labelsize=15)\n",
    "rc('ytick', labelsize=15)\n",
    "rc('legend', fontsize=15)\n",
    "\n",
    "#\n",
    "mpl.rcParams.update({'font.size': 19})\n",
    "#mpl.rcParams.update({'legend.fontsize': 18})\n",
    "mpl.rcParams.update({'xtick.labelsize': 18}) \n",
    "mpl.rcParams.update({'ytick.labelsize': 18}) \n",
    "mpl.rcParams.update({'text.usetex' : False})\n",
    "mpl.rcParams.update({'axes.labelsize': 18}) \n",
    "mpl.rcParams.update({'legend.frameon': False}) "
   ]
  },
  {
   "cell_type": "code",
   "execution_count": null,
   "metadata": {},
   "outputs": [],
   "source": [
    "# Define default plot styles\n",
    "plot_style_0 = {\n",
    "    'histtype': 'step',\n",
    "    'color': 'black',\n",
    "    'linewidth': 2,\n",
    "    'linestyle': '--',\n",
    "    'density': True\n",
    "}\n",
    "\n",
    "plot_style_1 = {\n",
    "    'histtype': 'step',\n",
    "    'color': 'black',\n",
    "    'linewidth': 2,\n",
    "    'density': True\n",
    "}\n",
    "\n",
    "plot_style_2 = {'alpha': 0.5, 'density': True}"
   ]
  },
  {
   "cell_type": "code",
   "execution_count": null,
   "metadata": {},
   "outputs": [],
   "source": [
    "# Check Versions\n",
    "print(tf.__version__)  # 1.15.0\n",
    "print(keras.__version__)  # 2.2.4"
   ]
  },
  {
   "cell_type": "markdown",
   "metadata": {},
   "source": [
    "## Get dataset and MC"
   ]
  },
  {
   "cell_type": "code",
   "execution_count": null,
   "metadata": {},
   "outputs": [],
   "source": [
    "path = '/home/miguel/EG2_DATA/sebastian/'\n",
    "data_electrons = root_pandas.read_root(path+'C.root', \"ntuple_data_electrons\")\n",
    "data_hadron = root_pandas.read_root(path+'C.root', \"ntuple_data\")"
   ]
  },
  {
   "cell_type": "code",
   "execution_count": null,
   "metadata": {},
   "outputs": [],
   "source": [
    "data_electrons = data_electrons.query('TargType==2')\n",
    "data_hadron    = data_hadron.query('TargType==2')"
   ]
  },
  {
   "cell_type": "code",
   "execution_count": null,
   "metadata": {},
   "outputs": [],
   "source": [
    "path = '/home/miguel/EG2_DATA/andres/'\n",
    "mc_electrons = root_pandas.read_root(path+'MC_C.root', \"ntuple_e\")\n",
    "mc_hadron = root_pandas.read_root(path+'MC_C.root', \"ntuple_sim\")\n",
    "mc_hadron['PID'] = mc_hadron['pid']\n",
    "mc_hadron['mc_PID'] = mc_hadron['mc_pid']\n",
    "\n",
    "mc_hadron['pass_reco'] = np.where(mc_hadron['Pt2']>0, True, False)\n",
    "mc_hadron['pass_truth'] = np.where(mc_hadron['mc_Pt2']>0, True, False)\n",
    "\n",
    "data_hadron['pass_reco'] = np.where(data_hadron['Pt2']>0, True, False)\n",
    "\n",
    "\n",
    "\n"
   ]
  },
  {
   "cell_type": "code",
   "execution_count": null,
   "metadata": {},
   "outputs": [],
   "source": [
    "data = data_hadron.sample(n=500000)\n",
    "mc   = mc_hadron.sample(n=500000)"
   ]
  },
  {
   "cell_type": "code",
   "execution_count": null,
   "metadata": {},
   "outputs": [],
   "source": [
    "\n",
    "##Hadron momentum\n",
    "Px_0_G = mc['mc_Px']\n",
    "Px_0_S =mc['Px']\n",
    "Px_unknown_S = data['Px']\n",
    "Px_unknown_G = data['Px']\n",
    "Px_0_G[mc['pass_truth']==False] = -10\n",
    "Px_0_S[mc['pass_reco']==False] = -10\n",
    "\n",
    "Py_0_G = mc['mc_Py']\n",
    "Py_0_S =mc['Py']\n",
    "Py_unknown_S = data['Py']\n",
    "Py_unknown_G = data['Py']\n",
    "Py_0_G[mc['pass_truth']==False] = -10\n",
    "Py_0_S[mc['pass_reco']==False] = -10\n",
    "\n",
    "Pz_0_G = mc['mc_Pz']\n",
    "Pz_0_S =mc['Pz']\n",
    "Pz_unknown_S = data['Pz']\n",
    "Pz_unknown_G = data['Pz']\n",
    "Pz_0_G[mc['pass_truth']==False] = -10\n",
    "Pz_0_S[mc['pass_reco']==False] = -10\n",
    "\n",
    "Pid_0_G = mc['mc_PID']\n",
    "Pid_0_S =mc['PID']\n",
    "Pid_unknown_S = data['PID']\n",
    "Pid_unknown_G = data['PID']\n",
    "Pid_0_G[mc['pass_truth']==False] = -10\n",
    "Pid_0_S[mc['pass_reco']==False] = -10\n",
    "\n",
    "\n",
    "\n",
    "Q2_0_G = mc['mc_Q2']\n",
    "Q2_0_S =mc['Q2']\n",
    "Q2_unknown_S = data['Q2']\n",
    "Q2_unknown_G = data['Q2']\n",
    "Q2_0_G[mc['pass_truth']==False] = -10\n",
    "Q2_0_S[mc['pass_reco']==False] = -10\n",
    "\n",
    "\n",
    "\n"
   ]
  },
  {
   "cell_type": "code",
   "execution_count": null,
   "metadata": {},
   "outputs": [],
   "source": [
    "theta0_G=(Px_0_G)\n",
    "theta0_S=(Px_0_S)\n",
    "theta_unknown_S=(Px_unknown_S)\n",
    "theta_unknown_G=(Px_unknown_G)"
   ]
  },
  {
   "cell_type": "code",
   "execution_count": null,
   "metadata": {},
   "outputs": [],
   "source": [
    "theta0_G=(Px_0_G,Px_0_G)\n",
    "theta0_S=(Px_0_S,Px_0_S)\n",
    "theta_unknown_S=(Px_unknown_S,Px_unknown_S)\n",
    "theta_unknown_G=(Px_unknown_G,Px_unknown_G)"
   ]
  },
  {
   "cell_type": "code",
   "execution_count": null,
   "metadata": {},
   "outputs": [],
   "source": [
    "theta0 = np.stack([theta0_G, theta0_S], axis=1)\n",
    "labels0 = np.zeros(len(theta0))\n",
    "theta_unknown = np.stack([theta_unknown_G, theta_unknown_S], axis=1)\n",
    "labels_unknown = np.ones(len(theta_unknown))\n",
    "\n",
    "\n",
    "xvals_1 = np.concatenate((theta0_S, theta_unknown_S))\n",
    "yvals_1 = np.concatenate((labels0, labels_unknown))\n",
    "\n",
    "xvals_2 = np.concatenate((theta0_G, theta0_G))\n",
    "yvals_2 = np.concatenate((labels0, labels_unknown))"
   ]
  },
  {
   "cell_type": "code",
   "execution_count": null,
   "metadata": {},
   "outputs": [],
   "source": [
    "print(len(xvals_1),len(yvals_1))"
   ]
  },
  {
   "cell_type": "code",
   "execution_count": null,
   "metadata": {},
   "outputs": [],
   "source": [
    "print(xvals_1)"
   ]
  },
  {
   "cell_type": "code",
   "execution_count": null,
   "metadata": {},
   "outputs": [],
   "source": [
    "print(yvals_1)"
   ]
  },
  {
   "cell_type": "markdown",
   "metadata": {},
   "source": [
    "## The following one fails when I give a list of 2 numpy arrays as theta0_G etc. It works fine if I give just a list of 1 element. "
   ]
  },
  {
   "cell_type": "code",
   "execution_count": null,
   "metadata": {},
   "outputs": [],
   "source": [
    "xvals_1[xvals_1[:,0]!=-10] \n",
    "yvals_1[xvals_1[:,0]!=-10]"
   ]
  },
  {
   "cell_type": "code",
   "execution_count": null,
   "metadata": {},
   "outputs": [],
   "source": [
    "len(Py_0_G)"
   ]
  },
  {
   "cell_type": "code",
   "execution_count": null,
   "metadata": {},
   "outputs": [],
   "source": [
    "theta0_G=(Px_0_G,Py_0_G,Pz_0_G,Pid_0_G,Q2_0_G)\n",
    "theta0_S=(Px_0_S,Py_0_S,Pz_0_S,Pid_0_S,Q2_0_S)\n",
    "theta_unknown_S=(Px_unknown_G,Py_unknown_G,Pz_unknown_G,Pid_unknown_G,Q2_unknown_G)\n",
    "theta_unknown_G=(Px_unknown_G,Py_unknown_G,Pz_unknown_G,Pid_unknown_G,Q2_unknown_G)\n"
   ]
  },
  {
   "cell_type": "markdown",
   "metadata": {},
   "source": [
    "# OmniFold Gaussian Toy Example"
   ]
  },
  {
   "cell_type": "markdown",
   "metadata": {},
   "source": [
    "## Setup the Datasets"
   ]
  },
  {
   "cell_type": "code",
   "execution_count": null,
   "metadata": {},
   "outputs": [],
   "source": [
    "theta0 = np.stack([theta0_G, theta0_S], axis=1)\n",
    "labels0 = np.zeros(len(theta0))\n",
    "\n",
    "\n",
    "theta_unknown = np.stack([theta_unknown_G, theta_unknown_S], axis=1)\n",
    "labels_unknown = np.ones(len(theta_unknown))"
   ]
  },
  {
   "cell_type": "code",
   "execution_count": null,
   "metadata": {},
   "outputs": [],
   "source": [
    "bins = np.linspace(0, 11, 41)\n",
    "\n",
    "fig, ax = plt.subplots(1,\n",
    "                       2,\n",
    "                       figsize=(12, 5),\n",
    "                       constrained_layout=True,\n",
    "                       sharey=True)\n",
    "\n",
    "ax[0].set_xlabel('$x$')\n",
    "ax[0].set_ylabel('Events per bin (normalized)')\n",
    "ax[0].hist(theta0_G[theta0_G!=-10], bins=bins, **plot_style_2, label='Generation')\n",
    "ax[0].hist(theta0_S[theta0_S!=-10], bins=bins, **plot_style_2, label='Simulation')\n",
    "legend = ax[0].legend(\n",
    "    loc='upper left',\n",
    "    frameon=True)\n",
    "plt.setp(legend.get_title(), multialignment='center')\n",
    "\n",
    "ax[1].set_xlabel('$x$')\n",
    "ax[1].hist(theta_unknown_G[theta_unknown_G!=-10], bins=bins, **plot_style_2, label='Truth')\n",
    "ax[1].hist(theta_unknown_S[theta_unknown_S!=-10], bins=bins, **plot_style_2, label='Detector')\n",
    "legend = ax[1].legend(\n",
    "    loc='upper left',\n",
    "    frameon=True)\n",
    "plt.setp(legend.get_title(), multialignment='center')\n",
    "\n",
    "fig.show()"
   ]
  },
  {
   "cell_type": "markdown",
   "metadata": {},
   "source": [
    "## Unfold Data"
   ]
  },
  {
   "cell_type": "code",
   "execution_count": null,
   "metadata": {},
   "outputs": [],
   "source": [
    "iterations = 1"
   ]
  },
  {
   "cell_type": "code",
   "execution_count": null,
   "metadata": {},
   "outputs": [],
   "source": [
    "xvals_1 = np.concatenate((theta0_S, theta_unknown_S))\n",
    "yvals_1 = np.concatenate((labels0, labels_unknown))\n",
    "\n",
    "xvals_2 = np.concatenate((theta0_G, theta0_G))\n",
    "yvals_2 = np.concatenate((labels0, labels_unknown))\n",
    "\n",
    "weights = np.empty(shape=(iterations, 2, len(theta0)))\n",
    "# shape = (iteration, step, event)\n",
    "\n",
    "inputs = Input((1, ))\n",
    "hidden_layer_1 = Dense(50, activation='relu')(inputs)\n",
    "hidden_layer_2 = Dense(50, activation='relu')(hidden_layer_1)\n",
    "hidden_layer_3 = Dense(50, activation='relu')(hidden_layer_2)\n",
    "outputs = Dense(1, activation='sigmoid')(hidden_layer_3)\n",
    "\n",
    "model = Model(inputs=inputs, outputs=outputs)\n",
    "\n",
    "earlystopping = EarlyStopping(patience=10,\n",
    "                              verbose=1,\n",
    "                              restore_best_weights=True)"
   ]
  },
  {
   "cell_type": "code",
   "execution_count": null,
   "metadata": {},
   "outputs": [],
   "source": [
    "# from NN (DCTR)\n",
    "def reweight(events):\n",
    "    f = model.predict(events, batch_size=10000)\n",
    "    weights = f / (1. - f)\n",
    "    return np.squeeze(np.nan_to_num(weights))"
   ]
  },
  {
   "cell_type": "code",
   "execution_count": null,
   "metadata": {},
   "outputs": [],
   "source": [
    "# initial iterative weights are ones\n",
    "\n",
    "weights_pull = np.ones(len(theta0_S))\n",
    "weights_push = np.ones(len(theta0_S))"
   ]
  },
  {
   "cell_type": "code",
   "execution_count": null,
   "metadata": {},
   "outputs": [],
   "source": [
    "K.clear_session()\n"
   ]
  },
  {
   "cell_type": "code",
   "execution_count": null,
   "metadata": {},
   "outputs": [],
   "source": [
    "for i in range(iterations):\n",
    "    print(\"\\nITERATION: {}\\n\".format(i + 1))\n",
    "\n",
    "    # STEP 1: classify Sim. (which is reweighted by weights_push) to Data\n",
    "    # weights reweighted Sim. --> Data\n",
    "    print(\"STEP 1\\n\")\n",
    "\n",
    "    weights_1 = np.concatenate((weights_push, np.ones(len(theta_unknown_S))))\n",
    "    # actual weights for Sim., ones for Data (not MC weights)\n",
    "\n",
    "    X_train_1, X_test_1, Y_train_1, Y_test_1, w_train_1, w_test_1 = train_test_split(\n",
    "        xvals_1, yvals_1, weights_1)\n",
    "\n",
    "    model.compile(loss='binary_crossentropy',\n",
    "                  optimizer='Adam',\n",
    "                  metrics=['accuracy'])\n",
    "    model.fit(X_train_1[X_train_1[:,0]!=-10],\n",
    "              Y_train_1[X_train_1[:,0]!=-10],\n",
    "              sample_weight=w_train_1[X_train_1[:,0]!=-10],\n",
    "              epochs=200,\n",
    "              batch_size=10000,\n",
    "              validation_data=(X_test_1[X_test_1[:,0]!=-10], Y_test_1[X_test_1[:,0]!=-10], w_test_1[X_test_1[:,0]!=-10]),\n",
    "              callbacks=[earlystopping],\n",
    "              verbose=1)\n",
    "\n",
    "    weights_pull = weights_push * reweight(theta0_S)\n",
    "    weights_pull[theta0_S==-10] = 1. #these are events that don't pass reco; take the prior.\n",
    "    weights[i, :1, :] = weights_pull\n",
    "\n",
    "    # STEP 2: classify Gen. to reweighted Gen. (which is reweighted by weights_pull)\n",
    "    # weights Gen. --> reweighted Gen.\n",
    "    print(\"\\nSTEP 2\\n\")\n",
    "\n",
    "    weights_2 = np.concatenate((np.ones(len(theta0_G)), weights_pull))\n",
    "    # ones for Gen. (not MC weights), actual weights for (reweighted) Gen.\n",
    "\n",
    "    X_train_2, X_test_2, Y_train_2, Y_test_2, w_train_2, w_test_2 = train_test_split(\n",
    "        xvals_2, yvals_2, weights_2)\n",
    "\n",
    "    model.compile(loss='binary_crossentropy',\n",
    "                  optimizer='Adam',\n",
    "                  metrics=['accuracy'])\n",
    "    model.fit(X_train_2,\n",
    "              Y_train_2,\n",
    "              sample_weight=w_train_2,\n",
    "              epochs=200,\n",
    "              batch_size=10000,\n",
    "              validation_data=(X_test_2, Y_test_2, w_test_2),\n",
    "              callbacks=[earlystopping],\n",
    "              verbose=1)\n",
    "\n",
    "    weights_push = reweight(theta0_G)\n",
    "    weights[i, 1:2, :] = weights_push"
   ]
  },
  {
   "cell_type": "code",
   "execution_count": null,
   "metadata": {},
   "outputs": [],
   "source": [
    "bins = np.linspace(-8, 8, 41)\n",
    "\n",
    "for i in range(2):\n",
    "    print(\"ITERATION {}:\".format(i + 1))\n",
    "    plt.figure(figsize=(6, 5))\n",
    "    hist0 = plt.hist(theta0_G[theta0_G!=0],\n",
    "                     bins=bins,\n",
    "                     **plot_style_2)\n",
    "\n",
    "    hist1 = plt.hist(\n",
    "        theta0_G[theta0_G!=0],\n",
    "        bins=bins,\n",
    "        weights=weights[i, 1, :][theta0_G!=0],\n",
    "        **plot_style_1)\n",
    "    hist2 = plt.hist(theta_unknown_G[theta_unknown_G!=0],\n",
    "                     bins=bins,\n",
    "                     label=r'($\\mu$, $\\sigma$) = ?',\n",
    "                     **plot_style_2)\n",
    "    plt.legend(frameon=False)\n",
    "    plt.xlabel(r\"$x_G$\")\n",
    "    plt.ylabel(\"Events per bin (normalized)\")\n",
    "    plt.show()"
   ]
  },
  {
   "cell_type": "code",
   "execution_count": null,
   "metadata": {},
   "outputs": [],
   "source": [
    "P_0_S"
   ]
  },
  {
   "cell_type": "code",
   "execution_count": null,
   "metadata": {},
   "outputs": [],
   "source": [
    "for i in range(len(weights)):\n",
    "\n",
    "    print(\"ITERATION: {}\".format(i + 1))\n",
    "    bins = np.linspace(1.0, 4.0, 40)\n",
    "    \n",
    "    fig, ax = plt.subplots(3,\n",
    "                           3,\n",
    "                           figsize=(16, 16),\n",
    "                           constrained_layout=True)\n",
    "    ax[0,0].set_xlabel('P')\n",
    "    ax[0,0].set_ylabel('Events per bin (Normalized)')\n",
    "    ax[0,0].hist(P_0_S, bins=bins, label=r'MC .', **plot_style_2)\n",
    "    ax[0,0].hist(P_0_S,\n",
    "               bins=bins,\n",
    "               weights=weights[i, 0, :],\n",
    "               label=r'MC . DCTR wgt.',\n",
    "               **plot_style_1)\n",
    "\n",
    "    ax[0,0].hist(P_unknown_S,\n",
    "               bins=bins,\n",
    "               label=r'Data (reco)',\n",
    "               **plot_style_2)\n",
    "    ax[0,0].legend(frameon=False,loc='best')"
   ]
  }
 ],
 "metadata": {
  "gist": {
   "data": {
    "description": "AcceptanceEffects",
    "public": false
   },
   "id": ""
  },
  "kernelspec": {
   "display_name": "Python 3",
   "language": "python",
   "name": "python3"
  },
  "language_info": {
   "codemirror_mode": {
    "name": "ipython",
    "version": 3
   },
   "file_extension": ".py",
   "mimetype": "text/x-python",
   "name": "python",
   "nbconvert_exporter": "python",
   "pygments_lexer": "ipython3",
   "version": "3.7.8"
  },
  "notify_time": "0",
  "toc": {
   "base_numbering": 1,
   "nav_menu": {},
   "number_sections": false,
   "sideBar": true,
   "skip_h1_title": false,
   "title_cell": "Table of Contents",
   "title_sidebar": "Contents",
   "toc_cell": false,
   "toc_position": {},
   "toc_section_display": true,
   "toc_window_display": false
  }
 },
 "nbformat": 4,
 "nbformat_minor": 4
}
